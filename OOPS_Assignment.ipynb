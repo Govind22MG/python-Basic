{
  "nbformat": 4,
  "nbformat_minor": 0,
  "metadata": {
    "colab": {
      "provenance": []
    },
    "kernelspec": {
      "name": "python3",
      "display_name": "Python 3"
    },
    "language_info": {
      "name": "python"
    }
  },
  "cells": [
    {
      "cell_type": "markdown",
      "source": [
        " # OOPS Assignment\n",
        "\n"
      ],
      "metadata": {
        "id": "_F6y7MRP7tQs"
      }
    },
    {
      "cell_type": "markdown",
      "source": [
        "1. What is Object-Oriented Programming (OOP)?\n",
        "\n",
        "\n",
        "  -> Object-Oriented Programming is a way of writing computer programs by creating “objects” that represent real-world things or ideas. Each object contains information (called data or properties) and actions it can do (called methods or functions).\n",
        "\n",
        "\n",
        "  Instead of just giving the computer a list of step-by-step instructions, OOP organizes the program around these objects and how they interact with each other.\n",
        "\n",
        "      **The main ideas in OOP are:**\n",
        "      \n",
        "\n",
        "Classes and Objects: A class is like a blueprint or recipe, and an object is a specific thing made from that blueprint.\n",
        "\n",
        "\n",
        "\n",
        "Encapsulation: Objects keep their data safe and only let others access it in controlled ways.\n",
        "\n",
        "\n",
        "\n",
        "Abstraction: Objects show only the important details and hide the complex inner workings.\n",
        "\n",
        "\n",
        "\n",
        "Inheritance: Objects can inherit features from other objects, like children inheriting traits from parents.\n",
        "\n",
        "\n",
        "Polymorphism: Different objects can be used in similar ways if they share certain behaviors."
      ],
      "metadata": {
        "id": "SBnrDdQZ78g4"
      }
    },
    {
      "cell_type": "markdown",
      "source": [
        "2. What is a class in OOP\n",
        "\n",
        "\n",
        "  ->A class in Object-Oriented Programming (OOP) is like a blueprint or template for creating objects. It defines the shared structure and behavior that those objects will have, including attributes (data) and methods (functions or actions). When you create an object from a class, that object is called an instance of the class. Each object can have its own specific values for the attributes but follows the structure and capabilities defined by the class.\n",
        "\n",
        "\n",
        "\n",
        "\n",
        "\n",
        "\n",
        "\n",
        "For example, a class called Car might define attributes such as model, color, and speed, and methods like accelerate or brake. Then, you can create many car objects (like a red Ford or a blue BMW), each an instance of the Car class, each with its own individual characteristics but sharing the same overall structure and behaviors"
      ],
      "metadata": {
        "id": "bPrJ0J7e92Y6"
      }
    },
    {
      "cell_type": "markdown",
      "source": [
        "3. What is an object in OOP\n",
        "\n",
        "\n",
        "  -> An object in Object-Oriented Programming (OOP) is a specific instance of a class that exists in memory. It represents a real-world entity or concept by encapsulating data (called attributes or state) and the code (called methods or behavior) that manipulates that data.\n",
        "  \n",
        "example:-\n",
        "\n",
        "  In simple terms, if a class is a blueprint, an object is a building made from that blueprint. For example, a \"Car\" class defines common properties and behaviors, while a specific car like \"my red Toyota\" is an object created from that class with its own values for those properties.\n",
        "\n",
        "# code:-\n",
        "\n",
        "class Car:\n",
        "\n",
        "   def __init__(self, model, color):\n",
        "\n",
        "   self.model = model    # Car's model\n",
        "    \n",
        "  self.color = color    # Car's color\n",
        "    \n",
        "   def show_details(self):\n",
        "\n",
        "\n",
        "   print(f\"This car is a {self.color} {self.model}.\")\n",
        "\n",
        "# Create an object  of car class\n",
        "\n",
        "my_car = Car(\"BMW\", \"Red\")\n",
        "\n",
        "\n",
        "my_car.show_details()"
      ],
      "metadata": {
        "id": "G2zNsEhb-gLx"
      }
    },
    {
      "cell_type": "markdown",
      "source": [
        "4. What is the difference between abstraction and encapsulation\n",
        "\n",
        "  ->\n",
        "  \n",
        "  \n",
        "  * Abstraction\n",
        "  \n",
        "   is about hiding the complex details and showing only the essential features or functionalities to the user. It focuses on what an object does, not how it does it. Abstraction helps reduce complexity by exposing only necessary information and hiding the implementation specifics. This is often achieved using abstract classes or interfaces.\n",
        "\n",
        "\n",
        "* Encapsulation\n",
        "\n",
        " is about bundling data (attributes) and methods that operate on that data into a single unit (a class), and restricting direct access to some of the object's components. It focuses on how the object's data is protected and controlled. Encapsulation helps with data hiding and protecting the internal state of an object, typically using access modifiers like private, protected, and public, along with getters and setters for controlled access.\n"
      ],
      "metadata": {
        "id": "pwXTXFKsAlJN"
      }
    },
    {
      "cell_type": "markdown",
      "source": [
        "5. What are dunder methods in Python ?\n",
        "\n",
        "  ->Dunder methods in Python are special methods whose names start and end with double underscores (__). The term \"dunder\" stands for \"double underscore.\" These methods are also called magic methods because Python automatically calls them behind the scenes to perform special operations on objects.\n",
        "   \n",
        "\n",
        "   for  example:- __int__\n",
        "\n",
        "\n",
        "   dunder methods directly; instead, Python calls them automatically in response to built-in functions, operators, or specific syntax involving your objects.\n",
        "\n",
        "\n",
        "\n",
        "*   List item\n",
        "*   List item\n",
        "\n",
        "\n",
        "\n",
        "In simple terms, dunder methods let you define how your custom objects behave with Python’s built-in operations, making classes more powerful and flexible."
      ],
      "metadata": {
        "id": "4QPn2c7kCXpJ"
      }
    },
    {
      "cell_type": "markdown",
      "source": [
        "6.  Explain the concept of inheritance in OOP?\n",
        "\n",
        "  ->Inheritance in Object-Oriented Programming (OOP) is a way to create a new class based on an existing class. The new class, called a child or subclass, inherits the properties (attributes) and behaviors (methods) of the existing parent or superclass. This means the child class automatically has the features of the parent class but can also add new features or modify existing ones.\n",
        "\n",
        "\n",
        "\n",
        "# Parent class\n",
        "\n",
        "class Parent:\n",
        "\n",
        "   def Par_property(self):\n",
        "  \n",
        "       \n",
        "   print(\"father property\")\n",
        "\n",
        "# Child class that inherits from Parent\n",
        "class Child(Parent):\n",
        "\n",
        "   def child_property(self):\n",
        "    \n",
        "  \n",
        "  print(\"This is child Property\")\n",
        "\n",
        "my_Child = Child()\n",
        "\n",
        "my_Child.Par_property()                      # Inherited from Parent class\n",
        "\n",
        "my_Child.child_property()\n",
        "\n",
        "\n"
      ],
      "metadata": {
        "id": "KH-68kdCDA6X"
      }
    },
    {
      "cell_type": "markdown",
      "source": [
        "7. What is polymorphism in OOP?\n",
        "\n",
        "  ->Polymorphism in Object-Oriented Programming (OOP) means that objects of different classes can be treated as objects of a common superclass, and the same operation can behave differently on different classes. Simply put, it allows one interface or method to have multiple forms or behaviors depending on the object calling it.\n",
        "\n",
        "\n",
        "\n",
        "  For example, if you have a parent class Animal with a method make_sound(), different child classes like Dog and Cat can each implement make_sound() differently—Dog might bark, and Cat might meow. When you call make_sound() on any animal object, the right sound happens based on the actual object’s class. This is called dynamic polymorphism or runtime polymorphism.\n",
        "\n",
        "\n",
        "\n",
        "\n",
        "# Parent class\n",
        "class Animal:\n",
        "\n",
        "def make_sound(self):\n",
        "\n",
        "print(\"Some generic animal sound\")\n",
        "\n",
        "# Child class 1\n",
        "class Dog(Animal):\n",
        "\n",
        " def make_sound(self):\n",
        "\n",
        " print(\"Bark\")\n",
        "\n",
        "# Child class 2\n",
        "class Cat(Animal):\n",
        "\n",
        "def make_sound(self):\n",
        "\n",
        "print(\"Meow\")\n",
        "\n",
        "# List of different animals\n",
        "\n",
        "animals = [Dog(), Cat(), Animal()]\n",
        "\n",
        "# Calling the same method on different objects\n",
        "for animal in animals:\n",
        "   \n",
        "animal.make_sound()\n",
        "\n"
      ],
      "metadata": {
        "id": "zKH72QvgFUdQ"
      }
    },
    {
      "cell_type": "markdown",
      "source": [
        "8. How is encapsulation achieved in Python?\n",
        "\n",
        "  ->In Python, encapsulation is achieved by bundling data (attributes) and methods (functions) inside a class and controlling access to them using naming conventions, since Python does not enforce strict access modifiers like private or protected as in some other languages.\n",
        "\n",
        "Here are the main ways encapsulation is done in Python:\n",
        "\n",
        "\n",
        "*   Public members: Variables and methods without underscores are public and accessible from anywhere.\n",
        "\n",
        "\n",
        "*   Protected members: Prefixing a variable or method name with a single underscore _ signals that it is intended for internal use only (within the class and its subclasses). This is by convention; it can still be accessed from outside but is discouraged.\n",
        "\n",
        "*  Private members: Prefixing a variable or method name with double underscores __ makes it private. Python rewrites the name internally (name mangling) to prevent accidental access from outside the class. Private members can only be accessed within the class itself."
      ],
      "metadata": {
        "id": "kK5Hn1vPG2f8"
      }
    },
    {
      "cell_type": "markdown",
      "source": [
        "9. What is a constructor in Python?\n",
        "\n",
        "  -> A constructor in Python is a special method inside a class that is automatically called when you create a new object (an instance) of that class. Its main job is to initialize the new object, usually by setting up the object's attributes with initial values.\n",
        "\n",
        "The most common constructor method is called __init__(). When you create an object, Python runs the code inside __init__() to set up the object's state."
      ],
      "metadata": {
        "id": "Y_8Iw7AuJ7-l"
      }
    },
    {
      "cell_type": "markdown",
      "source": [
        "10. What are class and static methods in Python?\n",
        "\n",
        "  ->  \n",
        "\n",
        "* Class Method in Python: A class method is a method bound to the class, not the instance of the class. It uses cls as the first parameter that refers to the class itself. You define it with the @classmethod decorator. Class methods can access or modify class-level data that applies to all instances.\n",
        "\n",
        "*  Static Method in Python: A method inside a class that doesn't access instance or class data; more like a regular function grouped inside a class. Defined with @staticmethod decorator\n",
        "\n",
        "\n"
      ],
      "metadata": {
        "id": "e2JbIND0VEhA"
      }
    },
    {
      "cell_type": "markdown",
      "source": [
        "11. What is method overloading in Python\n",
        "\n",
        "\n",
        "  ->   Method overloading in Python is the concept where you want to have multiple methods with the same name but different numbers or types of parameters. However, Python does not support method overloading in the traditional way like some other languages (e.g., Java or C++). If you define multiple methods with the same name, the last method will overwrite the earlier ones.\n",
        "\n",
        "  *  Python does not support method overloading by default. If you define multiple methods with the same name, only the latest definition will be used.\n",
        "\n",
        "\n",
        "\n",
        "  for example:-\n",
        "\n",
        "  def product(a, b):\n",
        "    p = a * b\n",
        "    print(p)\n",
        "\n",
        "def product(a, b, c):\n",
        "    p = a * b*c\n",
        "    print(p)\n",
        "\n",
        "product(4, 5, 5)\n",
        "\n",
        "\n",
        "\n",
        "Python only recognizes the latest definition of product().\n",
        "\n",
        "\n",
        "The earlier definition product(a, b) gets overwritten.\n",
        "\n",
        "\n",
        "If you call product(4, 5), it will raise an error because the latest version expects 3 arguments."
      ],
      "metadata": {
        "id": "zdz8b8X6WWTe"
      }
    },
    {
      "cell_type": "markdown",
      "source": [
        "12. What is method overriding in OOP?\n",
        "\n",
        "  -> Method overriding in Object-Oriented Programming (OOP) is when a child class (subclass) provides its own specific implementation of a method that is already defined in its parent class (superclass). The key point is that the method in the subclass has the same name, same parameters (signature), and same return type as the method in the parent class. When you call that method on an object, the version that runs depends on the actual type of the object — meaning if the object is of the subclass, the overridden method in the subclass runs, not the one in the parent class.\n",
        "\n",
        "\n",
        "\n",
        "In simple terms, method overriding lets a subclass change or extend the behavior of a method inherited from the parent class to suit its needs.\n",
        "\n",
        "\n",
        "# method overriding uses are :-\n",
        "*  It helps in runtime polymorphism, allowing programs to decide which method to call based on the actual object's class at runtime.\n",
        "\n",
        "*  It allows subclasses to customize or replace behaviors defined in parent classes without changing the parent class code.\n",
        "\n",
        "* It supports flexible and maintainable code."
      ],
      "metadata": {
        "id": "9CbC6puObEBw"
      }
    },
    {
      "cell_type": "markdown",
      "source": [
        "13.What is a property decorator in Python?\n",
        "\n",
        "  ->A property decorator in Python, written as @property, is a built-in decorator that lets you turn a method in a class into a controlled attribute. This means you can access a method like it's a simple attribute (without calling it with parentheses), while still running code behind the scenes. It is mainly used to add getter, setter, and optionally deleter functionality to class attributes in a clean, readable way.\n",
        "\n"
      ],
      "metadata": {
        "id": "83hg-OEPb9Xk"
      }
    },
    {
      "cell_type": "markdown",
      "source": [
        "14.Why is polymorphism important in OOP?\n",
        "\n",
        "  ->Polymorphism is important in Object-Oriented Programming (OOP) because it allows objects of different classes to be treated through a common interface, enabling flexibility, code reuse, and easier maintenance. It lets the same method or operation work differently depending on the actual object type, which simplifies programming by reducing duplicate code and making programs more modular and scalable.\n",
        "\n",
        "Here are the key reasons why polymorphism matters:\n",
        "\n",
        "\n",
        "*  Flexibility & Extensibility: You can extend or modify parts of a program easily without changing existing code by adding new classes that follow the same interface or inherit from the same base class. This reduces the risk of bugs and ripple effects.\n",
        "\n",
        "*  Code Reusability & Simplification: Write general code that works with objects of different types as long as they implement the same methods. This avoids redundant code and allows different objects to respond to the same message in their own way.\n",
        "\n",
        "*  Supports Runtime Polymorphism: Method calls are resolved at runtime, enabling dynamic behavior based on the actual object type, enhancing adaptability and dynamic binding.\n",
        "\n",
        "*  Improved Maintainability: Makes code easier to update and maintain because behavior changes can be localized in subclasses without rewriting code everywhere.\n",
        "\n",
        "Foundation for Many Design Patterns: Polymorphism underpins key design patterns like Strategy, Factory, Command, and Observer, which promote sound software design and architecture."
      ],
      "metadata": {
        "id": "LE49LqNWnafo"
      }
    },
    {
      "cell_type": "markdown",
      "source": [
        "15.  What is an abstract class in Python ?\n",
        "\n",
        "  ->\n",
        "An abstract class in Python is a special kind of class that cannot be created (instantiated) on its own and serves as a blueprint for other classes. It defines methods that must be implemented by any subclass inheriting from it, ensuring that all subclasses follow a consistent structure.\n",
        "\n",
        "\n",
        "Python uses the abc module (Abstract Base Classes) to define abstract classes and to declare abstract methods using the @abstractmethod decorator. Any class that inherits from abc.ABC and contains one or more @abstractmethods is an abstract class.\n",
        "\n",
        "\n",
        "*  You cannot create objects directly from an abstract class.\n",
        "\n",
        "*  Subclasses must implement all abstract methods to be instantiable.\n",
        "\n"
      ],
      "metadata": {
        "id": "pmGpf02FtPO5"
      }
    },
    {
      "cell_type": "markdown",
      "source": [
        "16. What are the advantages of OOP?\n",
        "\n",
        "  -> Object-Oriented Programming (OOP) offers several major advantages, including modularity, code reusability, easy maintenance, flexibility, and data security.\n",
        "\n",
        "*  Modularity: OOP divides complex code into smaller units called objects and classes, making large programs easier to understand, troubleshoot, and develop.\n",
        "\n",
        "* Reusability: Classes and objects can be reused through inheritance, so developers can write code once and use it in multiple contexts, reducing redundancy.\n",
        "\n",
        "* Easy Maintenance: Changes and updates can be made to individual objects or classes without affecting the whole system, simplifying bug fixes and enhancements.\n",
        "\n",
        "* Flexibility & Scalability: Features like polymorphism and inheritance enable easy extension and modification of programs, letting development teams add or change functionalities with minimal effort.\n",
        "\n",
        "* Data Security: Encapsulation restricts unauthorized access to data by grouping it with methods that operate on it, protecting sensitive information.\n",
        "\n",
        "* Improved Collaboration: Modular design allows different developers or teams to work on separate parts of a project independently, facilitating teamwork and parallel development.\n",
        "\n",
        "* Effective Problem Solving: OOP models real-world entities, enabling intuitive design that closely mimics actual systems and scenarios.\n",
        "\n",
        "* Simplified Debugging & Troubleshooting: If an error occurs, it's typically confined to a specific class or object, making it easier to identify and fix problems."
      ],
      "metadata": {
        "id": "QWZsTm-Dtqbu"
      }
    },
    {
      "cell_type": "markdown",
      "source": [
        "17. What is the difference between a class variable and an instance variable ?\n",
        "\n",
        "  -> the difference between class variable and instance variable are:-\n",
        "\n",
        "\n",
        "#Class Variable:\n",
        "\n",
        "Shared by all objects of the class.\n",
        "\n",
        "Declared with the static keyword.\n",
        "\n",
        "Holds one common value for every object.\n",
        "\n",
        "Accessed using the class name or any object.\n",
        "\n",
        "Exists during the whole program runtime.\n",
        "\n",
        "Used for values common to all objects (e.g., total count).\n",
        "\n",
        "#Instance Variable:\n",
        "\n",
        "Unique to each object.\n",
        "\n",
        "Declared without static.\n",
        "\n",
        "Holds different values for each object.\n",
        "\n",
        "Accessed through the specific object reference.\n",
        "\n",
        "Exists as long as the object exists.\n",
        "\n",
        "Used for object-specific data (e.g., name, age)."
      ],
      "metadata": {
        "id": "QTR9lOrEb1x_"
      }
    },
    {
      "cell_type": "markdown",
      "source": [
        "18. What is multiple inheritance in Python?\n",
        "\n",
        "  ->Multiple inheritance in Python is a feature where a class (called the child or derived class) can inherit attributes and methods from more than one parent (base) class. This allows the child class to combine and reuse functionality from multiple sources.\n",
        "\n",
        "For example, a class can inherit from classes A and B like this:\n",
        "\n",
        "\n",
        "class A:\n",
        "    def feature_A(self):\n",
        "\n",
        "        print(\"Feature from class A\")\n",
        "\n",
        "class B:\n",
        "\n",
        "    def feature_B(self):\n",
        "        print(\"Feature from class B\")\n",
        "\n",
        "class C(A, B):\n",
        "\n",
        "    pass\n",
        "\n",
        "c = C()\n",
        "\n",
        "c.feature_A()  # Inherited from class A\n",
        "\n",
        "c.feature_B()  # Inherited from class B\n",
        "\n",
        "\n",
        "\n",
        "\n",
        "here,class c inherits from both A and B classes."
      ],
      "metadata": {
        "id": "p8XGUIt5e1cH"
      }
    },
    {
      "cell_type": "markdown",
      "source": [
        "19. Explain the purpose of ‘’__str__’ and ‘__repr__’ ‘ methods in Python?\n",
        "\n",
        "  ->\n",
        "#__str__ method\n",
        "\n",
        "Provides a human-readable, informal string representation of an object.\n",
        "\n",
        "Called by the built-in print() and str() functions.\n",
        "\n",
        "Designed to be easy to read and understand by end users.\n",
        "\n",
        "Typically used to display useful information about the object in a friendly format.\n",
        "\n",
        "If you define __str__, printing an object shows the string returned by this method.\n",
        "\n",
        "#__repr__ method\n",
        "Provides an official, unambiguous string representation of an object.\n",
        "\n",
        "Called by the built-in repr() function and used in debugging, logging, and in interactive shells.\n",
        "\n",
        "Intended to give a detailed, developer-centric representation of the object.\n",
        "\n",
        "Ideally, the string returned by __repr__ should be such that it could be used to recreate the object by passing it to eval().\n",
        "\n",
        "If __str__ is not defined, Python falls back to using __repr__ for str() calls."
      ],
      "metadata": {
        "id": "3TX3Sqh0fUKt"
      }
    },
    {
      "cell_type": "markdown",
      "source": [
        "20. What is the significance of the ‘super()’ function in Python?\n",
        "\n",
        "  ->The significance of the super() function in Python is that it provides a way for a subclass to call methods (including the constructor __init__) from its parent or superclass without explicitly naming the parent class. This helps in extending or customizing inherited behavior efficiently and safely.\n",
        "\n",
        "Key points about super():\n",
        "\n",
        "\n",
        "* It returns a temporary proxy object that allows access to the parent class's methods and properties.\n",
        "\n",
        "* It is mostly used to call the parent class’s constructor or other methods from within the subclass.\n",
        "\n",
        "* Using super() makes your code more maintainable and flexible because you don't need to hardcode the parent class name. This is especially useful if the parent class changes or multiple inheritance is involved.\n",
        "\n",
        "* It supports cooperative multiple inheritance by correctly resolving the Method Resolution Order (MRO), ensuring that the right parent method is called in complex inheritance hierarchies."
      ],
      "metadata": {
        "id": "GJqw6iHugG2i"
      }
    },
    {
      "cell_type": "markdown",
      "source": [
        "21. What is the significance of the __del__ method in Python?\n",
        "\n",
        "  -> The __del__ method in Python is a special destructor method that is automatically called when an object is about to be destroyed by the garbage collector. It allows you to define cleanup actions, such as releasing external resources like files, network connections, or database connections, before the object is removed from memory.\n",
        "\n",
        "Key points about __del__ are:-\n",
        "\n",
        "* It acts as a finalizer for an object and runs when there are no more references to that object.\n",
        "\n",
        "* You use __del__ to implement resource cleanup, e.g., closing open files or deleting temporary files.\n",
        "\n",
        "\n",
        "\n",
        "\n",
        "\n"
      ],
      "metadata": {
        "id": "1CvB8Mfv3ZBv"
      }
    },
    {
      "cell_type": "markdown",
      "source": [
        "22.  What is the difference between @staticmethod and @classmethod in Python\n",
        "\n",
        "  ->\n",
        "\n",
        "* @staticmethod :-\n",
        "  \n",
        "   defines a method that does not receive any implicit first argument, so it cannot access or modify the class or instance state. It behaves like a plain function inside a class and is used when the method does not need to know about the class or instance, often for utility functions logically related to the class.\n",
        "\n",
        "* @classmethod :-\n",
        "\n",
        "  defines a method that receives the class itself as the first argument (usually named cls), allowing it to access and modify class state, create instances, and work with the class in a dynamic way that respects inheritance."
      ],
      "metadata": {
        "id": "CJiqIG4XPhgR"
      }
    },
    {
      "cell_type": "markdown",
      "source": [
        "23. How does polymorphism work in Python with inheritance?\n",
        "\n",
        "  ->  Polymorphism in Python with inheritance allows objects of different subclasses to be treated as instances of their common superclass, enabling the same method call to invoke different behaviors depending on the subclass.\n",
        "\n",
        "        Here is how it works:\n",
        "\n",
        "*  Inheritance lets a subclass inherit attributes and methods from a parent (base) class.\n",
        "\n",
        "* Polymorphism lets subclasses override methods of the base class to provide specialized behavior.\n",
        "\n",
        "* When you call a method on an instance, Python looks up the method in the instance’s class and invokes the appropriate version (method overriding).\n",
        "\n",
        "* This lets you write code that operates on the base class but actually works with any subclass, producing different behavior dynamically.\n",
        "\n",
        "\n",
        "\n",
        "\n",
        "class Animal:\n",
        "\n",
        "    \n",
        " def speak(self):\n",
        "\n",
        "   return \"Animal sound\"\n",
        "\n",
        "class Dog(Animal):\n",
        "\n",
        "  def speak(self):\n",
        "\n",
        "  return \"Woof!\"\n",
        "\n",
        "class Cat(Animal):\n",
        "    \n",
        "  def speak(self):\n",
        "  \n",
        "   return \"Meow!\"\n",
        "\n",
        "def animal_sound(animal):\n",
        "\n",
        " print(animal.speak())\n",
        "\n",
        "dog = Dog()\n",
        "\n",
        "cat = Cat()\n",
        "\n",
        "animal_sound(dog)  # Output: \"Woof!\"\n",
        "\n",
        "\n",
        "animal_sound(cat)  # Output: \"Meow!\"\n",
        "\n",
        "\n",
        "\n",
        "In this example, both Dog and Cat inherit from Animal and override the speak() method. The function animal_sound accepts any Animal object and calls the speak() method. Polymorphism allows the same function call to behave differently depending on the actual subclass instance\n",
        "\n"
      ],
      "metadata": {
        "id": "yP2Ja6L6UcFM"
      }
    },
    {
      "cell_type": "markdown",
      "source": [
        "24. What is method chaining in Python OOP?\n",
        "\n",
        "  -> Method chaining in Python OOP is a programming technique where multiple methods are called sequentially on the same object in a single line of code. This is achieved by designing each method to return the object itself (usually via return self), allowing the next method to be called directly on that returned object. This approach makes the code more concise, readable, and expressive.\n",
        "\n",
        "  \n",
        "  \n",
        "  In essence, after calling a method, instead of ending, the method returns the object so that another method can be called on it immediately, enabling a fluent interface style.\n",
        "\n",
        "\n",
        "#example\n",
        "\n",
        "  class Car:\n",
        "\n",
        "    def turn_on(self):\n",
        "\n",
        "        print(\"Engine started\")\n",
        "     \n",
        "        return self\n",
        "\n",
        "    def drive(self):\n",
        "        print(\"Driving the car\")\n",
        "        return self\n",
        "\n",
        "    def brake(self):\n",
        "        print(\"Braking\")\n",
        "        return self\n",
        "\n",
        "car = Car()\n",
        "\n",
        "car.turn_on().drive().brake()\n",
        "\n",
        "\n",
        "In this example, each method returns the same Car object, enabling chaining of calls in one line."
      ],
      "metadata": {
        "id": "99jtVQ45VSWp"
      }
    },
    {
      "cell_type": "markdown",
      "source": [
        "25.  What is the purpose of the __call__ method in Python?\n",
        "  \n",
        "  -> The purpose of the __call__ method in Python is to make an instance of a class callable, meaning you can use the instance like a regular function by using parentheses. When you define __call__ in a class, you allow its objects to be called with arguments, triggering the __call__ method automatically.\n",
        "\n",
        "  For example, if an object obj has a __call__ method implemented, then obj(args) is equivalent to obj.__call__(args).\n",
        "\n",
        "\n",
        "\n",
        " *  The __call__ method in Python lets you make an object behave like a function, so you can \"call\" the object using parentheses just like you call a normal function.\n",
        "\n",
        "\n",
        "* In simple terms:\n",
        "\n",
        "When you define __call__ inside a class, then when you do obj() (where obj is an instance of that class), Python actually runs the __call__ method"
      ],
      "metadata": {
        "id": "2dTfc31ck0fK"
      }
    },
    {
      "cell_type": "markdown",
      "source": [
        "# PRACTICAL QUESTIONS"
      ],
      "metadata": {
        "id": "qDniKEhJl7iJ"
      }
    },
    {
      "cell_type": "code",
      "source": [
        "#  1. Create a parent class Animal with a method speak() that prints a generic message. Create a child class Dog that overrides the speak() method to print \"Bark!\".\n",
        "\n",
        "class Animal:\n",
        "    def speak(self):\n",
        "        print(\"Animal speaks\")\n",
        "\n",
        "class Dog(Animal):\n",
        "    def speak(self):\n",
        "        print(\"Bark!\")\n",
        "\n",
        "animal = Animal()\n",
        "animal.speak()\n",
        "\n",
        "dog = Dog()\n",
        "dog.speak()"
      ],
      "metadata": {
        "colab": {
          "base_uri": "https://localhost:8080/"
        },
        "id": "w76FkiAUmE2O",
        "outputId": "34c73318-d068-458e-8030-4950099542b8"
      },
      "execution_count": 11,
      "outputs": [
        {
          "output_type": "stream",
          "name": "stdout",
          "text": [
            "Animal speaks\n",
            "Bark!\n"
          ]
        }
      ]
    },
    {
      "cell_type": "code",
      "source": [
        "#  2. Write a program to create an abstract class Shape with a method area(). Derive classes Circle and Rectangle from it and implement the area() method in both.\n",
        "\n",
        "from abc import ABC, abstractmethod\n",
        "import math\n",
        "\n",
        "class Shape(ABC):\n",
        "    @abstractmethod\n",
        "    def area(self):\n",
        "        pass # Added pass to fix IndentationError\n",
        "\n",
        "class Circle(Shape):\n",
        "    def __init__(self, radius):\n",
        "        self.radius = radius\n",
        "\n",
        "    def area(self):\n",
        "        return math.pi * self.radius ** 2\n",
        "\n",
        "class Rectangle(Shape):\n",
        "    def __init__(self, width, height):\n",
        "        self.width = width\n",
        "        self.height = height\n",
        "\n",
        "    def area(self):\n",
        "        return self.width * self.height\n",
        "\n",
        "circle = Circle(5)\n",
        "print(f\"Area of circle: {circle.area():.2f}\")\n",
        "rectangle = Rectangle(4, 6)\n",
        "print(f\"Area of rectangle: {rectangle.area():.2f}\")"
      ],
      "metadata": {
        "colab": {
          "base_uri": "https://localhost:8080/"
        },
        "id": "X3pudPQsmFWd",
        "outputId": "05b0cb13-4815-46f8-ca2f-a4786e62a79b"
      },
      "execution_count": 15,
      "outputs": [
        {
          "output_type": "stream",
          "name": "stdout",
          "text": [
            "Area of circle: 78.54\n",
            "Area of rectangle: 24.00\n"
          ]
        }
      ]
    },
    {
      "cell_type": "code",
      "source": [
        "#  3. Implement a multi-level inheritance scenario where a class Vehicle has an attribute type. Derive a class Car and further derive a class ElectricCar that adds a battery attribute\n",
        "\n",
        "\n",
        "\n",
        "class Vehicle:\n",
        "    def __init__(self, vehicle_type):\n",
        "        self.type = vehicle_type\n",
        "\n",
        "    def show_type(self):\n",
        "        print(f\"Vehicle type: {self.type}\")\n",
        "\n",
        "\n",
        "class Car(Vehicle):\n",
        "    def __init__(self, vehicle_type, brand):\n",
        "        super().__init__(vehicle_type)\n",
        "        self.brand = brand\n",
        "\n",
        "    def show_brand(self):\n",
        "        print(f\"Car brand: {self.brand}\")\n",
        "\n",
        "\n",
        "class ElectricCar(Car):\n",
        "    def __init__(self, vehicle_type, brand, battery_capacity):\n",
        "        super().__init__(vehicle_type, brand)\n",
        "        self.battery = battery_capacity\n",
        "\n",
        "    def show_battery(self):\n",
        "        print(f\"Battery capacity: {self.battery} kWh\")\n",
        "\n",
        "\n",
        "ev = ElectricCar(\"Electric\", \"Tata\", 100)\n",
        "ev.show_type()\n",
        "ev.show_brand()\n",
        "ev.show_battery()\n",
        "\n",
        "\n"
      ],
      "metadata": {
        "colab": {
          "base_uri": "https://localhost:8080/"
        },
        "id": "EvverDDWmFZR",
        "outputId": "aaa1b0e8-0deb-48ab-b40d-be993e06dc01"
      },
      "execution_count": 20,
      "outputs": [
        {
          "output_type": "stream",
          "name": "stdout",
          "text": [
            "Vehicle type: Electric\n",
            "Car brand: Tata\n",
            "Battery capacity: 100 kWh\n"
          ]
        }
      ]
    },
    {
      "cell_type": "code",
      "source": [
        "#  4. Demonstrate polymorphism by creating a base class Bird with a method fly(). Create two derived classes Sparrow and Penguin that override the fly() method.\n",
        "\n",
        "\n",
        "class Bird:\n",
        "    def fly(self):\n",
        "        print(\"Some birds can fly.\")\n",
        "\n",
        "class Sparrow(Bird):\n",
        "    def fly(self):\n",
        "        print(\"Sparrow can fly \")\n",
        "\n",
        "class Penguin(Bird):\n",
        "    def fly(self):\n",
        "        print(\"Penguins cannot fly.\")\n",
        "\n",
        "def show_flying(bird):\n",
        "    bird.fly()\n",
        "\n",
        "sparrow = Sparrow()\n",
        "penguin = Penguin()\n",
        "\n",
        "show_flying(sparrow)\n",
        "show_flying(penguin)\n",
        "\n"
      ],
      "metadata": {
        "colab": {
          "base_uri": "https://localhost:8080/"
        },
        "id": "0OYwhgZVmFb5",
        "outputId": "ac1c6bb3-b8c8-4c6e-8163-b53780dfdae0"
      },
      "execution_count": 22,
      "outputs": [
        {
          "output_type": "stream",
          "name": "stdout",
          "text": [
            "Sparrow can fly \n",
            "Penguins cannot fly.\n"
          ]
        }
      ]
    },
    {
      "cell_type": "code",
      "source": [
        "# 5. Write a program to demonstrate encapsulation by creating a class BankAccount with private attributes balance and methods to deposit, withdraw, and check balance\n",
        "\n",
        "class BankAccount:\n",
        "    def __init__(self, initial_balance=0):\n",
        "        self.__balance = initial_balance  # private attribute\n",
        "\n",
        "    def check_balance(self):\n",
        "        print(f\"Current Balance: {self.__balance}\")\n",
        "\n",
        "    def deposit(self, amount):\n",
        "        if amount > 0:\n",
        "            self.__balance += amount\n",
        "            print(f\"Deposited: {amount}\")\n",
        "        else:\n",
        "            print(\"Amount must be positive.\")\n",
        "\n",
        "    def withdraw(self, amount):\n",
        "        if amount > 0 and amount <= self.__balance:\n",
        "            self.__balance -= amount\n",
        "            print(f\"Withdrew: {amount}\")\n",
        "        else:\n",
        "            print(\"Insufficient funds or invalid amount.\")\n",
        "\n",
        "\n",
        "# Example usage\n",
        "account = BankAccount(10000)\n",
        "account.deposit(7500)\n",
        "account.withdraw(8200)\n",
        "account.check_balance()\n"
      ],
      "metadata": {
        "colab": {
          "base_uri": "https://localhost:8080/"
        },
        "id": "rE6vdHtwmFhe",
        "outputId": "cc270262-6f79-4fbd-e2da-4002ba9ca27c"
      },
      "execution_count": 25,
      "outputs": [
        {
          "output_type": "stream",
          "name": "stdout",
          "text": [
            "Deposited: 7500\n",
            "Withdrew: 8200\n",
            "Current Balance: 9300\n"
          ]
        }
      ]
    },
    {
      "cell_type": "code",
      "source": [
        "#  6. Demonstrate runtime polymorphism using a method play() in a base class Instrument. Derive classes Guitar and Piano that implement their own version of play().\n",
        "\n",
        "class Instrument:\n",
        "    def play(self):\n",
        "        print(\"Playing an instrument.\")\n",
        "\n",
        "class Guitar(Instrument):\n",
        "    def play(self):\n",
        "        print(\"playing the guitar.\")\n",
        "\n",
        "class Piano(Instrument):\n",
        "    def play(self):\n",
        "        print(\"Playing the piano.\")\n",
        "\n",
        "def perform(instrument):\n",
        "    instrument.play()\n",
        "\n",
        "guitar = Guitar()\n",
        "piano = Piano()\n",
        "\n",
        "perform(guitar)\n",
        "perform(piano)\n"
      ],
      "metadata": {
        "colab": {
          "base_uri": "https://localhost:8080/"
        },
        "id": "2whdW-H2mFkl",
        "outputId": "8b10adff-1928-4527-a203-1a05c39d0001"
      },
      "execution_count": 26,
      "outputs": [
        {
          "output_type": "stream",
          "name": "stdout",
          "text": [
            "playing the guitar.\n",
            "Playing the piano.\n"
          ]
        }
      ]
    },
    {
      "cell_type": "code",
      "source": [
        "# 7. Create a class MathOperations with a class method add_numbers() to add two numbers and a static method subtract_numbers() to subtract two numbers\n",
        "\n",
        "class MathOperations:\n",
        "    @classmethod\n",
        "    def add_numbers(cls, a, b):\n",
        "        return a + b\n",
        "\n",
        "    @staticmethod\n",
        "    def subtract_numbers(a, b):\n",
        "        return a - b\n",
        "\n",
        "result1 = MathOperations.add_numbers(10, 5)\n",
        "result2 = MathOperations.subtract_numbers(10, 5)\n",
        "\n",
        "print(\"Addition:\", result1)\n",
        "print(\"Subtraction:\", result2)"
      ],
      "metadata": {
        "colab": {
          "base_uri": "https://localhost:8080/"
        },
        "id": "iqeZqSRb76IS",
        "outputId": "d9dd920e-5b42-4398-deb6-9ddd9305bf7b"
      },
      "execution_count": 28,
      "outputs": [
        {
          "output_type": "stream",
          "name": "stdout",
          "text": [
            "Addition: 15\n",
            "Subtraction: 5\n"
          ]
        }
      ]
    },
    {
      "cell_type": "code",
      "source": [
        "#  8. Implement a class Person with a class method to count the total number of persons created.\n",
        "\n",
        "class Person:\n",
        "    count = 0  # class variable to track number of persons\n",
        "\n",
        "    def __init__(self, name):\n",
        "        self.name = name\n",
        "        Person.count += 1\n",
        "\n",
        "    @classmethod\n",
        "    def total_persons(cls):\n",
        "        return cls.count\n",
        "\n",
        "# Example usage\n",
        "p1 = Person(\"Merlin\")\n",
        "p2 = Person(\"Geralt\")\n",
        "p3 = Person(\"Morgan\")\n",
        "\n",
        "print(\"Total persons created:\", Person.total_persons())\n",
        ""
      ],
      "metadata": {
        "colab": {
          "base_uri": "https://localhost:8080/"
        },
        "id": "wf6rZXqD76K0",
        "outputId": "50498410-1e80-467b-9590-c98b304fe251"
      },
      "execution_count": 31,
      "outputs": [
        {
          "output_type": "stream",
          "name": "stdout",
          "text": [
            "Total persons created: 3\n"
          ]
        }
      ]
    },
    {
      "cell_type": "code",
      "source": [
        "#  9. Write a class Fraction with attributes numerator and denominator. Override the str method to display the fraction as \"numerator/denominator\"\n",
        "\n",
        "class Fraction:\n",
        "    def __init__(self, numerator, denominator):\n",
        "        self.numerator = numerator\n",
        "        self.denominator = denominator\n",
        "\n",
        "    def __str__(self):\n",
        "        return f\"{self.numerator}/{self.denominator}\"\n",
        "\n",
        "f1 = Fraction(5,7)\n",
        "f2 = Fraction(3,4)\n",
        "print(f1)\n",
        "print(f2)\n",
        ""
      ],
      "metadata": {
        "colab": {
          "base_uri": "https://localhost:8080/"
        },
        "id": "56JOsk7v76NN",
        "outputId": "9ebb641e-a60f-4449-cff8-4d0bc46a34df"
      },
      "execution_count": 36,
      "outputs": [
        {
          "output_type": "stream",
          "name": "stdout",
          "text": [
            "5/7\n",
            "3/4\n"
          ]
        }
      ]
    },
    {
      "cell_type": "code",
      "source": [
        "#  10. Demonstrate operator overloading by creating a class Vector and overriding the add method to add two vectors\n",
        "\n",
        "class Vector:\n",
        "    def __init__(self, x, y):\n",
        "        self.x = x\n",
        "        self.y = y\n",
        "\n",
        "    def __add__(self, other):\n",
        "        return Vector(self.x + other.x, self.y + other.y)\n",
        "\n",
        "\n",
        "    def __str__(self):\n",
        "        return f\"Vector({self.x}, {self.y})\"\n",
        "\n",
        "v1 = Vector(4,7)\n",
        "v2 = Vector(5,9)\n",
        "v3 = v1 + v2\n",
        "\n",
        "print(v3)"
      ],
      "metadata": {
        "colab": {
          "base_uri": "https://localhost:8080/"
        },
        "id": "C4i8qdGK76Px",
        "outputId": "45244a0b-86f2-4181-dbea-46a42c838c45"
      },
      "execution_count": 39,
      "outputs": [
        {
          "output_type": "stream",
          "name": "stdout",
          "text": [
            "Vector(9, 16)\n"
          ]
        }
      ]
    },
    {
      "cell_type": "code",
      "source": [
        "#  11. Create a class Person with attributes name and age. Add a method greet() that prints \"Hello, my name is {name} and I am {age} years old.\"\n",
        "\n",
        "class Person:\n",
        "    def __init__(self, name, age):\n",
        "        self.name = name\n",
        "        self.age = age\n",
        "\n",
        "    def greet(self):\n",
        "        print(f\"Hello, my name is {self.name} and I am {self.age} years old.\")\n",
        "\n",
        "\n",
        "p = Person(\"Morgana\", 9453)\n",
        "p.greet()\n"
      ],
      "metadata": {
        "colab": {
          "base_uri": "https://localhost:8080/"
        },
        "id": "FpsQ0v7f76SK",
        "outputId": "78482d23-86fc-4989-a9ab-293ae55a9e64"
      },
      "execution_count": 40,
      "outputs": [
        {
          "output_type": "stream",
          "name": "stdout",
          "text": [
            "Hello, my name is Morgana and I am 9453 years old.\n"
          ]
        }
      ]
    },
    {
      "cell_type": "code",
      "source": [
        "# 12. Implement a class Student with attributes name and grades. Create a method average_grade() to compute the average of the grades.\n",
        "\n",
        "class Student:\n",
        "    def __init__(self, name, grades):\n",
        "        self.name = name\n",
        "        self.grades = grades\n",
        "\n",
        "    def average_grade(self):\n",
        "        if not self.grades:\n",
        "            return 0\n",
        "        return sum(self.grades) / len(self.grades)\n",
        "\n",
        "s = Student(\"Rohit\", [83, 76, 87, 82])\n",
        "print(f\"{s.name}'s average grade is: {s.average_grade():.2f}\")\n"
      ],
      "metadata": {
        "colab": {
          "base_uri": "https://localhost:8080/"
        },
        "id": "Q2fNbLjx76Uf",
        "outputId": "7658a3b4-e2bd-4ba6-ec57-8fc985d2e40e"
      },
      "execution_count": 41,
      "outputs": [
        {
          "output_type": "stream",
          "name": "stdout",
          "text": [
            "Rohit's average grade is: 82.00\n"
          ]
        }
      ]
    },
    {
      "cell_type": "code",
      "source": [
        "#  13. Create a class Rectangle with methods set_dimensions() to set the dimensions and area() to calculate the area.\n",
        "\n",
        "class Rectangle:\n",
        "    def __init__(self, length=0, width=0):\n",
        "        self.length = length\n",
        "        self.width = width\n",
        "\n",
        "    def set_dimensions(self, length, width):\n",
        "        self.length = length\n",
        "        self.width = width\n",
        "\n",
        "    def area(self):\n",
        "        return self.length * self.width\n",
        "\n",
        "rect = Rectangle()\n",
        "rect.set_dimensions(8,10)\n",
        "print(f\"Area of rectangle: {rect.area()}\")\n"
      ],
      "metadata": {
        "colab": {
          "base_uri": "https://localhost:8080/"
        },
        "id": "rpoPoEuwmFnV",
        "outputId": "bfb5d4e5-7817-4194-e2c7-3267bbf67f99"
      },
      "execution_count": 44,
      "outputs": [
        {
          "output_type": "stream",
          "name": "stdout",
          "text": [
            "Area of rectangle: 80\n"
          ]
        }
      ]
    },
    {
      "cell_type": "code",
      "source": [
        "# 15. Create a class Product with attributes name, price, and quantity. Implement a method total_price() that calculates the total price of the product.\n",
        "\n",
        "class Product:\n",
        "    def __init__(self, name, price, quantity):\n",
        "        self.name = name\n",
        "        self.price = price\n",
        "        self.quantity = quantity\n",
        "\n",
        "    def total_price(self):\n",
        "        return self.price * self.quantity\n",
        "\n",
        "\n",
        "item = Product(\"Notebook\", 149, 5)\n",
        "print(f\"Product: {item.name}\")\n",
        "print(f\"Total price: {item.total_price()}\")\n"
      ],
      "metadata": {
        "colab": {
          "base_uri": "https://localhost:8080/"
        },
        "id": "H_d06S-pmFv5",
        "outputId": "3339ab99-c0b3-42ec-f7d2-2ffadfc93e46"
      },
      "execution_count": 46,
      "outputs": [
        {
          "output_type": "stream",
          "name": "stdout",
          "text": [
            "Product: Notebook\n",
            "Total price: 745\n"
          ]
        }
      ]
    },
    {
      "cell_type": "code",
      "source": [
        "#  16. Create a class Animal with an abstract method sound(). Create two derived classes Cow and Sheep that implement the sound() method.\n",
        "\n",
        "from abc import ABC, abstractmethod\n",
        "\n",
        "class Animal(ABC):\n",
        "    @abstractmethod\n",
        "    def sound(self):\n",
        "        pass\n",
        "\n",
        "class Cow(Animal):\n",
        "    def sound(self):\n",
        "        print(\"Mooow\")\n",
        "\n",
        "class Sheep(Animal):\n",
        "    def sound(self):\n",
        "        print(\"Mee\")\n",
        "\n",
        "cow = Cow()\n",
        "sheep = Sheep()\n",
        "\n",
        "cow.sound()\n",
        "sheep.sound()\n"
      ],
      "metadata": {
        "colab": {
          "base_uri": "https://localhost:8080/"
        },
        "id": "hU8QOLCSmFy3",
        "outputId": "222b9b76-5b04-4be5-bb99-5648dea99257"
      },
      "execution_count": 48,
      "outputs": [
        {
          "output_type": "stream",
          "name": "stdout",
          "text": [
            "Mooow\n",
            "Mee\n"
          ]
        }
      ]
    },
    {
      "cell_type": "code",
      "source": [
        "#  17. Create a class Book with attributes title, author, and year_published. Add a method get_book_info() that returns a formatted string with the book's details\n",
        "\n",
        "class Book:\n",
        "    def __init__(self, title, author, year_published):\n",
        "        self.title = title\n",
        "        self.author = author\n",
        "        self.year_published = year_published\n",
        "\n",
        "    def get_book_info(self):\n",
        "        return f\"'{self.title}' by {self.author} (Published: {self.year_published})\"\n",
        "\n",
        "\n",
        "book = Book(\"Harry Potter\", \"J. K. Rowling\", 1997)\n",
        "print(book.get_book_info())\n"
      ],
      "metadata": {
        "colab": {
          "base_uri": "https://localhost:8080/"
        },
        "id": "-zchI5cwFbOk",
        "outputId": "c0d7fa8b-edbe-45fa-8a96-c2dd1154d20a"
      },
      "execution_count": 50,
      "outputs": [
        {
          "output_type": "stream",
          "name": "stdout",
          "text": [
            "'Harry Potter' by J. K. Rowling (Published: 1997)\n"
          ]
        }
      ]
    },
    {
      "cell_type": "code",
      "source": [
        "#  18. Create a class House with attributes address and price. Create a derived class Mansion that adds an attribute number_of_rooms\n",
        "\n",
        "class House:\n",
        "    def __init__(self, address, price):\n",
        "        self.address = address\n",
        "        self.price = price\n",
        "\n",
        "class Mansion(House):\n",
        "    def __init__(self, address, price, number_of_rooms):\n",
        "        super().__init__(address, price)\n",
        "        self.number_of_rooms = number_of_rooms\n",
        "\n",
        "m = Mansion(\"56 Twin Tower\", 890000000, 26)\n",
        "print(f\"Address: {m.address}\")\n",
        "print(f\"Price: {m.price}\")\n",
        "print(f\"Number of rooms: {m.number_of_rooms}\")\n",
        "\n"
      ],
      "metadata": {
        "colab": {
          "base_uri": "https://localhost:8080/"
        },
        "id": "-Jeae3eCFbaj",
        "outputId": "6daee13d-3767-4e38-ad3c-20f7a4557abb"
      },
      "execution_count": 52,
      "outputs": [
        {
          "output_type": "stream",
          "name": "stdout",
          "text": [
            "Address: 56 Twin Tower\n",
            "Price: 890000000\n",
            "Number of rooms: 26\n"
          ]
        }
      ]
    }
  ]
}