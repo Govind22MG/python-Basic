{
  "nbformat": 4,
  "nbformat_minor": 0,
  "metadata": {
    "colab": {
      "provenance": []
    },
    "kernelspec": {
      "name": "python3",
      "display_name": "Python 3"
    },
    "language_info": {
      "name": "python"
    }
  },
  "cells": [
    {
      "cell_type": "markdown",
      "source": [
        "# **Files, exceptional handling, logging and memory management**"
      ],
      "metadata": {
        "id": "h0oX9UvGl9P7"
      }
    },
    {
      "cell_type": "markdown",
      "source": [
        "1.  What is the difference between interpreted and compiled languages\n",
        "  \n",
        "  \n",
        "  ->\n",
        "\n",
        "#Compiled Languages\n",
        "\n",
        "*  Code is fully translated into machine code by a compiler before execution.\n",
        "\n",
        "*  Program runs directly on the CPU without needing the compiler at runtime.\n",
        "\n",
        "*  Usually faster because no translation happens during execution.\n",
        "\n",
        "*  Less portable — machine code is tied to specific hardware/OS.\n",
        "\n",
        "*  Requires a separate compilation step before running.\n",
        "\n",
        "*  Examples: C, C++, C#, COBOL.\n",
        "\n",
        "\n",
        "\n",
        "\n",
        "\n",
        "#Interpreted Languages\n",
        "\n",
        "*  Code is read and executed line-by-line by an interpreter at runtime.\n",
        "\n",
        "*  No separate compilation step — code can run immediately.\n",
        "\n",
        "*  Usually slower because translation happens during execution.\n",
        "\n",
        "*  More portable — can run on any system with the right interpreter.\n",
        "\n",
        "*  Easier to debug and modify since changes can be tested instantly.\n",
        "\n",
        "*  Examples: Python, JavaScript, Perl, BASIC"
      ],
      "metadata": {
        "id": "p2SLpZGpmEwA"
      }
    },
    {
      "cell_type": "markdown",
      "source": [
        "2.  What is exception handling in Python\n",
        "\n",
        "\n",
        "  ->Exception handling in Python is a mechanism to manage errors that occur during the execution of a program, allowing the program to respond to these errors gracefully instead of crashing abruptly. It involves anticipating potential errors and writing code to \"catch\" and handle exceptions, ensuring the program continues or terminates cleanly.\n",
        "\n",
        "\n",
        " # Here are the key points about exception handling in Python:\n",
        "\n",
        "- It is done using the try, except, else, and finally blocks.\n",
        "\n",
        "- The code that might cause an error is placed inside the try block.\n",
        "\n",
        "- If an exception occurs in the try block, the corresponding except block runs to handle the error.\n",
        "\n",
        "- The else block runs if no exception occurs in the try block.\n",
        "\n",
        "- The finally block always runs, whether or not an exception occurred, typically used for cleanup actions.\n",
        "\n",
        "- You can catch specific exceptions to handle different error types differently.\n",
        "\n",
        "- You can raise exceptions deliberately using the raise keyword to signal an error condition.\n",
        "\n",
        "- Exception handling improves program reliability, makes debugging easier, and keeps code clean by separating error handling from regular logic."
      ],
      "metadata": {
        "id": "D-8IyWbWtfOy"
      }
    },
    {
      "cell_type": "markdown",
      "source": [
        "3.  What is the purpose of the finally block in exception handling\n",
        "\n",
        "  -> The purpose of the finally block in Python exception handling is to ensure that a specific section of code runs always, regardless of whether an exception was raised or not and whether it was caught or not.\n",
        "\n",
        "Key points about the finally block:\n",
        "\n",
        "- It is used to define cleanup actions or final steps that must be performed no matter what happens in the try and except blocks.\n",
        "\n",
        "- It runs after the try block and any except blocks, even if an exception is not caught or is re-raised.\n",
        "\n",
        "- Common uses include releasing resources like closing files, releasing locks, or cleaning up connections.\n",
        "\n",
        "- The finally block helps maintain predictable program behavior and resource management.\n",
        "\n",
        "\n",
        "\n",
        "try:\n",
        "    # code that might throw an exception\n",
        "except SomeError:\n",
        "    # exception handling code\n",
        "finally:\n",
        "    # code here always runs, e.g., cleanup operations\n",
        "\n"
      ],
      "metadata": {
        "id": "1YNrT03PuJpA"
      }
    },
    {
      "cell_type": "markdown",
      "source": [
        "4.What is logging in Python\n",
        "\n",
        "  ->Logging in Python is a built-in module that allows you to track and record events that happen while your program runs. It helps in monitoring the execution of code by capturing messages about the program's operation, which can include informational messages, warnings, errors, and critical issues.\n",
        "\n",
        "Key points about logging in Python:\n",
        "- It provides a flexible system for emitting log messages from Python programs.\n",
        "\n",
        "- Logs can record the flow of a program, errors, or other significant runtime events.\n",
        "\n",
        "- It supports different levels of severity for messages: DEBUG, INFO, WARNING, ERROR, and CRITICAL.\n",
        "\n",
        "- Logs can be output to various destinations such as the console, files, or external systems via handlers.\n",
        "\n",
        "- The basic setup can be done quickly using logging.basicConfig() to configure log output format and level.\n",
        "\n",
        "- You create and use logger objects (often with logging.getLogger(__name__)) to generate log messages.\n",
        "\n",
        "- Logging is preferred over using print statements for debug and runtime information since logging offers more control and can be disabled or redirected easily in production environments.\n",
        "\n",
        "- It helps with debugging, auditing, and understanding program behavior during development and after deployment."
      ],
      "metadata": {
        "id": "zUz-qdCguoJW"
      }
    },
    {
      "cell_type": "markdown",
      "source": [
        "5.  What is the significance of the __del__ method in Python\n",
        "\n",
        "  -> The significance of the __del__ method in Python is that it acts as a destructor or finalizer for an object. This special method is automatically called when an object is about to be destroyed by Python's garbage collector—that is, when there are no more references to the object and the memory it occupies is about to be reclaimed.\n",
        "\n",
        "Key points about the __del__ method:\n",
        "- It allows you to define cleanup actions that should be performed before an object is destroyed, such as releasing external resources like closing files, network connections, or deleting temporary files.\n",
        "\n",
        "- The method is invoked automatically when Python decides to destroy an object (which is not immediate or guaranteed at a specific time, as it's managed by the garbage collector).\n",
        "\n",
        "- The __del__ method helps prevent resource leaks by ensuring that resources are released when the object is no longer needed.\n",
        "\n",
        "- You should be cautious with __del__ because exceptions inside it are suppressed silently, and also because you have limited control over exactly when it is called.\n",
        "\n",
        "- The method is generally used for final cleanup of an object but is not a replacement for explicit resource management (such as using context managers).\n",
        "\n",
        "- Common use cases include closing files, releasing locks, or deleting temporary files.\n",
        "\n",
        "- It provides a fallback cleanup mechanism but relying solely on __del__ for resource management is discouraged in many cases, especially for critical resources."
      ],
      "metadata": {
        "id": "I0oCU7Pn0Wpz"
      }
    },
    {
      "cell_type": "markdown",
      "source": [
        "6. What is the difference between import and from ... import in Python\n",
        "\n",
        "  ->\n",
        "  # import module\n",
        "\n",
        "- Imports the entire module as a single object.\n",
        "\n",
        "- You must use the module name as a prefix when accessing its functions, classes, or variables.\n",
        "\n",
        "- Keeps the namespace clean — only the module name is added.\n",
        "\n",
        "- Reduces the risk of naming conflicts.\n",
        "\n",
        "- Makes code origin clear and explicit.\n",
        "\n",
        "Example:\n",
        "\n",
        "python\n",
        "\n",
        "import math\n",
        "\n",
        "print(math.sqrt(16))\n",
        "\n",
        "# from module import name\n",
        "\n",
        "\n",
        "Imports specific function(s), class(es), or variable(s) directly from a module.\n",
        "\n",
        "Can use the imported items without the module name prefix.\n",
        "\n",
        "Shortens code when using certain members frequently.\n",
        "\n",
        "Can lead to namespace pollution and name clashes.\n",
        "\n",
        "May reduce clarity about where an item comes from.\n",
        "\n",
        "Example:\n",
        "\n",
        "python\n",
        "\n",
        "from math import sqrt\n",
        "\n",
        "print(sqrt(16))"
      ],
      "metadata": {
        "id": "IvZLxWrd0zyr"
      }
    },
    {
      "cell_type": "markdown",
      "source": [
        "7.  How can you handle multiple exceptions in Python\n",
        "\n",
        "  ->\n",
        "  # Handle multiple exceptions?\n",
        "\n",
        " - A single piece of code may cause different types of errors.\n",
        "\n",
        "- Handling them properly ensures the program doesn’t crash and behaves predictably.\n",
        "\n",
        "# Methods to handle multiple exceptions:\n",
        "\n",
        "Separate except blocks: Write different handling logic for each error type.\n",
        "\n",
        "Grouped exceptions: Combine exception types in parentheses when they need the same handling.\n",
        "\n",
        "Generic exception: Use Exception to catch any type of error (use cautiously).\n",
        "\n",
        "Order matters: Python checks except blocks top to bottom and runs the first match.\n",
        "\n",
        "Optional clauses:\n",
        "\n",
        "else – Runs if no exception occurs.\n",
        "\n",
        "finally – Runs whether an exception occurs or not."
      ],
      "metadata": {
        "id": "LPt3HfNu4esn"
      }
    },
    {
      "cell_type": "markdown",
      "source": [
        "8. What is the purpose of the with statement when handling files in Python\n",
        "\n",
        "  ->\n",
        "  The purpose of the with statement when handling files in Python is to simplify and safely manage file operations by automatically handling the setup and cleanup (opening and closing) of the file resource. This significantly reduces the risk of resource leaks and errors compared to manual file handling.\n",
        "\n",
        "Key points about the with statement in file handling:\n",
        "\n",
        "- When you open a file using with open(...) as file:, Python automatically closes the file once the block of code under the with statement is executed, even if exceptions occur.\n",
        "\n",
        "- This eliminates the need for explicitly closing the file using file.close() or using try-finally blocks to ensure the file is closed.\n",
        "\n",
        "- It makes the code cleaner, more readable, and less error-prone.\n",
        "\n",
        "- The with statement uses special built-in methods (__enter__ and __exit__) on the file object to guarantee the file is closed when exiting the block.\n",
        "\n",
        "- It helps ensure proper resource management, preventing issues like memory leaks or file corruption from files left open accidentally.\n",
        "\n",
        "\n",
        "file = open(\"example.txt\", \"r\")\n",
        "\n",
        "try:\n",
        "\n",
        "    content = file.read()\n",
        "\n",
        "    print(content)\n",
        "\n",
        "finally:\n",
        "\n",
        "    file.close()  # Must remember to close the file\n",
        "\n",
        "\n",
        "\n",
        "\n",
        "with open(\"example.txt\", \"r\") as file:\n",
        "\n",
        "\n",
        "    content = file.read()\n",
        "\n",
        "    print(content)\n",
        "\n",
        "\n"
      ],
      "metadata": {
        "id": "EdWaFjHD6s61"
      }
    },
    {
      "cell_type": "markdown",
      "source": [
        "9.  What is the difference between multithreading and multiprocessing\n",
        "\n",
        "  ->\n",
        "\n",
        "  # Multithreading\n",
        "- Involves multiple threads within a single process running concurrently.\n",
        "\n",
        "- Threads share the same memory space (address space) within the parent process.\n",
        "\n",
        "- Threads are lighter and quicker to create with lower resource requirements.\n",
        "\n",
        "- Suitable for I/O-bound tasks (e.g., reading files, network calls) where waiting on input/output occurs.\n",
        "\n",
        "- Due to Python’s Global Interpreter Lock (GIL), only one thread executes Python bytecode at a time, so true parallelism is limited.\n",
        "\n",
        "- Multithreading provides concurrency (interleaved execution), not true parallelism.\n",
        "\n",
        "- Threads make communication and data sharing easier since they share memory.\n",
        "\n",
        "- Used for tasks that benefit from shared state and faster context-switching.\n",
        "\n",
        "# Multiprocessing\n",
        "- Involves multiple processes running independently, each with its own memory space.\n",
        "\n",
        "- Utilizes multiple CPUs or cores to perform tasks in parallel, achieving true parallelism.\n",
        "\n",
        "- Processes are heavier and slower to start and require more system resources.\n",
        "\n",
        "- Suitable for CPU-bound tasks (e.g., heavy computation) that need parallel execution to speed up.\n",
        "\n",
        "- Each process operates in its own separate memory address space, making inter-process communication more complex.\n",
        "\n",
        "- Improves reliability since independent processes don’t interfere with each other.\n",
        "\n",
        "- Can take full advantage of modern multi-core systems."
      ],
      "metadata": {
        "id": "5yAig8zr7mMK"
      }
    },
    {
      "cell_type": "markdown",
      "source": [
        "10.  What are the advantages of using logging in a program\n",
        "\n",
        "  -> Here's the advantages of using logging in a program in short:\n",
        "  \n",
        "\n",
        "Gives real-time visibility into program behavior.\n",
        "\n",
        "Helps debug and find issues quickly.\n",
        "\n",
        "Creates a permanent record of events for later review.\n",
        "\n",
        "Enables monitoring and alerts for problems.\n",
        "\n",
        "Improves security through tracking suspicious actions.\n",
        "\n",
        "Helps in performance optimization by analyzing logs.\n",
        "\n",
        "Makes maintenance easier with clear execution flow.\n",
        "\n",
        "Supports different log levels for flexible control."
      ],
      "metadata": {
        "id": "JvgmzoMx8y3m"
      }
    },
    {
      "cell_type": "markdown",
      "source": [
        "11. What is memory management in Python\n",
        "\n",
        "  -> Memory management in Python refers to the process by which Python manages the allocation, use, and freeing of memory during the execution of a program. It ensures efficient utilization of memory resources so that programs run smoothly without memory leaks or excessive use.\n",
        "\n",
        "  - Python stores all objects and data in a private heap memory, which is managed automatically.\n",
        "\n",
        "- Stack memory is used for function calls and local variables, while heap memory is used for objects and dynamic data.\n",
        "\n",
        "- Python uses reference counting to track how many variables refer to an object — when the count becomes zero, the memory is freed.\n",
        "\n",
        "- A built‑in garbage collector also runs to clean up objects involved in circular references.\n",
        "\n",
        "- The Python memory manager organizes memory efficiently into blocks and pools to reduce waste.\n",
        "\n",
        "- Developers don’t manually allocate or free memory, but writing memory‑efficient code helps performance and avoids memory leaks."
      ],
      "metadata": {
        "id": "KR83WZsG91r5"
      }
    },
    {
      "cell_type": "markdown",
      "source": [
        "12.  What are the basic steps involved in exception handling in Python\n",
        "\n",
        "  -> The basic steps involved in exception handling in Python are as follows:\n",
        "\n",
        "#try block\n",
        "\n",
        "- Place the code that might raise an exception inside a try block.\n",
        "\n",
        "- Python attempts to execute this code normally.\n",
        "\n",
        "#except block\n",
        "\n",
        "- Follow the try block with one or more except blocks to catch and handle specific exceptions if they occur.\n",
        "\n",
        "- When an exception of the specified type is raised in the try block, the program jumps to the corresponding except block.\n",
        "\n",
        "- You can access the exception object for more details using as (e.g., except ValueError as e:).\n",
        "\n",
        "#else block (optional)\n",
        "\n",
        "- An optional else block can be added after all except blocks.\n",
        "\n",
        "- This block runs only if no exceptions were raised in the try block.\n",
        "\n",
        "#finally block (optional)\n",
        "\n",
        "- An optional finally block runs after the try and any except blocks, regardless of whether an exception was raised or caught.\n",
        "\n",
        "- Use this for cleanup actions like closing files or releasing resources."
      ],
      "metadata": {
        "id": "veQjsY1--TWV"
      }
    },
    {
      "cell_type": "markdown",
      "source": [
        "13.  Why is memory management important in Python\n",
        "\n",
        "  -> Memory management is important in Python for several key reasons:\n",
        "\n",
        "\n",
        "- Efficient Use of Resources: It ensures that your program uses available memory (RAM) efficiently, which improves performance and speed by avoiding excessive or wasted memory use.\n",
        "\n",
        "- Prevents Memory Leaks: Proper memory management prevents memory leaks where unused memory is not released, which otherwise can cause a program to consume more and more memory, eventually slowing down or crashing the system.\n",
        "\n",
        "- Automatic Allocation & Deallocation: Python handles memory allocation and freeing automatically (through reference counting and garbage collection), which simplifies development but still requires efficient coding to avoid unnecessary memory consumption.\n",
        "\n",
        "- Supports Dynamic Data Handling: It allows dynamic allocation for objects and data structures of varying sizes and lifetimes without programmer intervention, enabling flexible, scalable applications.\n",
        "\n",
        "- Improves Program Stability: Proper memory handling reduces chances of crashes or unstable behavior caused by running out of memory or improper resource release.\n",
        "\n",
        "- Enhances Performance: Efficient memory management helps the program run faster and more responsively by keeping the memory footprint small and making better use of CPU cache and system memory.\n",
        "\n",
        "- Facilitates Handling Large Data: In data-intensive applications like AI, machine learning, or big data processing, memory management is critical to work effectively with large datasets without running out of memory."
      ],
      "metadata": {
        "id": "ZiZYCzw5-1GM"
      }
    },
    {
      "cell_type": "markdown",
      "source": [
        "14.  What is the role of try and except in exception handling\n",
        "\n",
        "  ->\n",
        "\n",
        "#Role of try\n",
        "- The try block contains the code that might cause an exception (error) during execution.\n",
        "\n",
        "- Python runs the code in the try block line by line.\n",
        "\n",
        "- If no exception occurs, the except block is skipped.\n",
        "\n",
        "- If an exception occurs, Python immediately stops executing the try block and jumps to the matching except block.\n",
        "\n",
        "#Role of except\n",
        "- The except block contains the code to handle a specific exception or multiple exceptions.\n",
        "\n",
        "- It runs only if an exception occurs in the try block.\n",
        "\n",
        "- Lets you define custom error responses instead of letting the program crash.\n",
        "\n",
        "- Can catch specific exception types (e.g., ValueError, ZeroDivisionError) or handle all exceptions in a general way."
      ],
      "metadata": {
        "id": "XTGuCrIk_Gww"
      }
    },
    {
      "cell_type": "markdown",
      "source": [
        "15.  How does Python's garbage collection system work\n",
        "  ->\n",
        "\n",
        " -  Python uses automatic memory management to free up memory occupied by objects no longer in use.\n",
        "\n",
        "- The primary mechanism is reference counting: each object tracks how many references point to it; when this count reaches zero, the object’s memory is immediately deallocated.\n",
        "\n",
        "- Reference counting cannot handle cyclic references (objects referencing each other but unreachable); Python uses a generational garbage collector to detect and clean such cycles.\n",
        "\n",
        "- The generational garbage collector divides objects into three generations (youngest: 0, older: 1, oldest: 2) based on their lifespan.\n",
        "\n",
        "- Newly created objects start in generation 0; if they survive garbage collections, they are promoted to older generations.\n",
        "\n",
        "- Garbage collection runs more frequently on younger generations and less on older ones, optimizing performance.\n",
        "\n",
        "- Python's garbage collector uses threshold values to decide when to run, based on allocations and deallocations.\n",
        "\n",
        "- The built-in gc module allows for manual control of garbage collection (e.g., gc.collect() to force collection, gc.disable() and gc.enable() to turn it off/on).\n",
        "\n",
        "- The garbage collector frees memory by deallocating unreachable objects, thus preventing memory leaks.\n",
        "\n",
        "- It calls the __del__ method (destructor) of objects before destruction to allow cleanup of resources.\n",
        "\n",
        "- Overall, Python’s garbage collection combines immediate cleanup by reference counting with periodic cleanup of cycles by generational collection to efficiently manage memory.\n",
        "\n",
        "- This system balances efficiency and safety by cleaning most objects immediately and handling complex cases of unreachable cycles regularly in the background."
      ],
      "metadata": {
        "id": "z7UNKJM3_kWS"
      }
    },
    {
      "cell_type": "markdown",
      "source": [
        "16.  What is the purpose of the else block in exception handling\n",
        "\n",
        "  ->The purpose of the else block in Python exception handling is to provide a section of code that runs only if the try block completes without raising any exceptions. In other words, the else block executes when the try code succeeds and no errors are encountered.\n",
        "\n",
        "Key points about the else block:\n",
        "- It follows all except blocks and is optional.\n",
        "\n",
        "- It runs only if no exceptions were raised in the try block.\n",
        "\n",
        "- It separates code that should run after a successful try from the code that might raise exceptions.\n",
        "\n",
        "- Using else helps avoid accidentally catching exceptions that are not meant to be handled by the preceding except blocks.\n",
        "\n",
        "- It improves readability by clearly distinguishing between error-prone code (try) and normal follow-up code (else)."
      ],
      "metadata": {
        "id": "tJAKkIJvBIiM"
      }
    },
    {
      "cell_type": "markdown",
      "source": [
        "17.  What are the common logging levels in Python\n",
        "\n",
        "  ->\n",
        "  \n",
        "#logging>> it records the state and flow of your program/code/software\n",
        "\n",
        "#it is useful for understanding, monitoring and debugging of your code\n",
        "\n",
        "#it shows how program behaves over time\n",
        "\n",
        "\n",
        "#Analogy>> diary entry since childhood to now>>you will understand how you evolved\n",
        "\n",
        "#similrly in complex scripts to understand how your code is changing the result over time, you can log the specific steps\n",
        "\n",
        "# Levels of logging are:\n",
        "\n"
      ],
      "metadata": {
        "id": "OW6Bef-XCB--"
      }
    },
    {
      "cell_type": "code",
      "execution_count": null,
      "metadata": {
        "id": "1UCvCJ_dDHaP"
      },
      "outputs": [],
      "source": [
        "import logging"
      ]
    },
    {
      "cell_type": "code",
      "execution_count": null,
      "metadata": {
        "id": "sBcqq7g3DHaQ"
      },
      "outputs": [],
      "source": [
        "logging.basicConfig(filename = 'test.log', level = logging.INFO)"
      ]
    },
    {
      "cell_type": "code",
      "execution_count": null,
      "metadata": {
        "id": "h8dtpRsnDHaQ"
      },
      "outputs": [],
      "source": [
        "logging.info(\"This is my normal information about the software\")"
      ]
    },
    {
      "cell_type": "code",
      "execution_count": null,
      "metadata": {
        "id": "i0SH1lQ2DHaQ"
      },
      "outputs": [],
      "source": [
        "logging.warning(\"There can be empty list here\")"
      ]
    },
    {
      "cell_type": "code",
      "execution_count": null,
      "metadata": {
        "id": "zJ1cvlKCDHaQ"
      },
      "outputs": [],
      "source": [
        "logging.debug(\"The length of list is\")"
      ]
    },
    {
      "cell_type": "code",
      "execution_count": null,
      "metadata": {
        "id": "0XVVTfLUDHaQ"
      },
      "outputs": [],
      "source": [
        "logging .error(\"Some error has happened\")"
      ]
    },
    {
      "cell_type": "code",
      "execution_count": null,
      "metadata": {
        "id": "MzITuaB1DHaQ"
      },
      "outputs": [],
      "source": [
        "logging.critical(\"The software has stopped running\")"
      ]
    },
    {
      "cell_type": "code",
      "execution_count": null,
      "metadata": {
        "id": "-fOasvJDDHaQ"
      },
      "outputs": [],
      "source": [
        "logging.shutdown()"
      ]
    },
    {
      "cell_type": "markdown",
      "source": [
        "18.  What is the difference between os.fork() and multiprocessing in Python\n",
        "\n",
        "  -> The difference between os.fork() and the multiprocessing module in Python fundamentally comes down to their level of abstraction, portability, and how they create and manage processes:\n",
        "\n",
        "# os.fork()\n",
        "- It is a low-level system call available only on Unix-like operating systems (Linux, macOS).\n",
        "\n",
        "- os.fork() creates a child process by duplicating the current process. The child is an almost exact copy of the parent, including the memory space (variables, states).\n",
        "\n",
        "- Both parent and child processes continue execution independently from the point of the fork but share the pre-fork memory snapshot.\n",
        "\n",
        "- It offers fast process creation because it clones the parent process's memory.\n",
        "\n",
        "- However, using fork() directly can be tricky, especially in multithreaded programs, and it is not available on Windows.\n",
        "\n",
        "- You have to manage process behavior, inter-process communication, and synchronization manually when using os.fork().\n",
        "\n",
        "# multiprocessing module\n",
        "\n",
        "- It is a high-level Python standard library designed for process-based parallelism and runs on multiple OS platforms including Windows.\n",
        "\n",
        "- Internally on Unix-like systems, the multiprocessing module often uses os.fork() to create processes but wraps the details in an easy-to-use API.\n",
        "\n",
        "- On Windows and some systems, it uses spawn or forkserver methods, which start a fresh Python interpreter process with a clean memory space rather than copying the parent process memory.\n",
        "\n",
        "- It provides process management, communication (queues, pipes), and synchronization tools out of the box.\n",
        "\n",
        "- It enables easier writing of parallel programs without worrying about low-level process creation details.\n",
        "\n",
        "- Offers more portability across platforms because it abstracts OS-specific details like the unavailability of fork() on Windows."
      ],
      "metadata": {
        "id": "YqiPSSApDZE7"
      }
    },
    {
      "cell_type": "markdown",
      "source": [
        "19.  What is the importance of closing a file in Python\n",
        "\n",
        "  ->\n",
        "  \n",
        "  The importance of closing a file in Python is crucial for proper resource management and data integrity. Here are the key reasons why closing files is important:\n",
        "\n",
        "- Releases System Resources: Files are limited resources managed by the operating system. Closing a file frees up these resources, preventing resource exhaustion, especially if your program opens many files or runs for a long time.\n",
        "\n",
        "- Ensures Data Integrity: When writing to a file, Python often uses a buffer to temporarily hold data. Closing the file forces this buffer to flush, meaning all data is physically written to the disk. If files are not closed, some data might not be saved properly, leading to potential data loss or corruption.\n",
        "\n",
        "- Prevents File Locks: Many operating systems lock files when they are open to prevent other processes from making changes simultaneously. Closing a file releases this lock, allowing other programs or processes to access the file without conflicts.\n",
        "\n",
        "- Avoids Errors and Limits: If too many files remain open, your program may hit the operating system’s limit on the number of open files, causing errors and possibly crashing your program.\n",
        "\n",
        "- Better Program Stability and Performance: Open files consume memory and other system resources, which may slow down your program or lead to instability if not handled correctly.\n",
        "\n",
        "- Good Programming Practice: Explicitly closing files makes your code cleaner and more predictable. It reduces reliance on Python’s garbage collector to close files, which is not guaranteed to happen immediately."
      ],
      "metadata": {
        "id": "0R6rOEkqD4zg"
      }
    },
    {
      "cell_type": "markdown",
      "source": [
        "20. What is the difference between file.read() and file.readline() in Python\n",
        "\n",
        "  ->\n",
        "# file.read()\n",
        "\n",
        "- Reads the entire contents of the file (or a specified number of characters if an argument is given) at once.\n",
        "\n",
        "- Returns the contents as a single string.\n",
        "\n",
        "- Useful when you want to work with the full text of the file at once, e.g., for searching or processing the whole file.\n",
        "\n",
        "- Reading large files all at once can consume a lot of memory.\n",
        "\n",
        "# file.readline()\n",
        "\n",
        "- Reads one line from the file at a time, returning it as a string.\n",
        "\n",
        "- Each call to readline() reads the next line, including the newline character \\n.\n",
        "\n",
        "- Useful for processing files line-by-line, especially for large files that won't fit into memory.\n",
        "\n",
        "- Allows more controlled reading and processing."
      ],
      "metadata": {
        "id": "I4bKeF5SES--"
      }
    },
    {
      "cell_type": "markdown",
      "source": [
        "21.  What is the logging module in Python used for\n",
        "\n",
        "  -> The logging module in Python is used for tracking events and recording messages that happen while a program runs. It provides a comprehensive and flexible system to capture, organize, and output log messages about the program's execution, which is invaluable for debugging, monitoring, and troubleshooting.\n",
        "\n",
        "What the logging module is used for:\n",
        "\n",
        "- Recording runtime events: It logs information about errors, warnings, informational events, debugging details, and critical failures.\n",
        "\n",
        "- Debugging and error tracking: Developers can identify where and why a program failed or misbehaved by checking detailed logs.\n",
        "\n",
        "- Monitoring application behavior: Logs help observe how software behaves over time and under various conditions.\n",
        "\n",
        "- Alerting and auditing: Logs can be configured to trigger notifications on critical errors and fulfill audit and compliance requirements.\n",
        "\n",
        "- Performance analysis: Logging specific parameters can reveal bottlenecks and help optimize software."
      ],
      "metadata": {
        "id": "zNQ6zHK0ErPn"
      }
    },
    {
      "cell_type": "markdown",
      "source": [
        "22. What is the os module in Python used for in file handling\n",
        "\n",
        "  -> The os module in Python provides a way to interact with the operating system, including various file handling operations at a lower level than the built-in open() function. It is used for performing tasks related to file and directory management that involve the file system directly.\n",
        "\n",
        "# the os module is used for in file handling:\n",
        "- Opening files with low-level access:\n",
        "- You can open files using os.open(), which returns a file descriptor (an integer) rather than a file object. This gives you more control similar to system-level file operations. You specify access modes (read, write, append, create) using flags like os.O_RDONLY, os.O_WRONLY, os.O_CREAT, etc.\n",
        "\n",
        "- Reading and writing files:\n",
        "After opening a file descriptor with os.open(), you use os.read() and os.write() to read from or write raw bytes to the file.\n",
        "\n",
        "- Closing files:\n",
        "Files opened with os.open() must be closed explicitly using os.close() to release the file descriptor.\n",
        "\n",
        "- File and directory manipulation:\n",
        "The module allows you to create directories (os.mkdir()), remove files (os.remove()), rename files (os.rename()), and change directories (os.chdir()).\n",
        "\n",
        "- Fetching file metadata:\n",
        "Using os.stat(), you can get details about a file like its size, modification time, and permissions.\n",
        "\n",
        "- Changing file permissions:\n",
        "Functions like os.chmod() let you change file access permissions programmatically."
      ],
      "metadata": {
        "id": "zQsPe3ZwE_Hn"
      }
    },
    {
      "cell_type": "markdown",
      "source": [
        "23. What are the challenges associated with memory management in Python\n",
        "  -> Here are the challenges associated with memory management in Python summarized in points:\n",
        "\n",
        "- Python’s reference counting cannot handle circular references, causing potential memory leaks.\n",
        "\n",
        "- The garbage collector needed to clean cycles can introduce performance overhead and pauses.\n",
        "\n",
        "- Memory leaks can occur due to hidden or lingering references in the program.\n",
        "\n",
        "- Memory fragmentation happens as memory is allocated and freed in small blocks, reducing efficiency.\n",
        "\n",
        "- Managing large objects or datasets can exhaust memory without careful handling (e.g., using generators).\n",
        "\n",
        "- Python offers limited manual control over memory allocation and deallocation compared to low-level languages.\n",
        "\n",
        "- Tuning garbage collection parameters requires advanced knowledge and can be complex.\n",
        "\n",
        "- Objects with __del__ methods may have unpredictable cleanup timing, complicating resource management.\n",
        "\n",
        "- Excessive memory usage and garbage collection cycles can slow down program performance.\n",
        "\n",
        "- Detecting and fixing memory issues requires using specialized tools and profiling modules.\n",
        "\n",
        "- These challenges require developers to write efficient code, avoid unnecessary object creation, handle cycles properly, and sometimes manually control or profile memory usage for optimal performance."
      ],
      "metadata": {
        "id": "vDuejSOXFqaU"
      }
    },
    {
      "cell_type": "markdown",
      "source": [
        "24.  How do you raise an exception manually in Python\n",
        "\n",
        "\n",
        "  -> In Python, you can raise an exception manually using the raise keyword.\n",
        "This is useful when you want to signal that an error or unusual situation has occurred in your code.\n",
        "\n",
        "Basic Syntax:-\n",
        "\n",
        "python\n",
        "\n",
        "raise ExceptionType(\"Error message\")\n",
        "\n",
        "- ExceptionType is the type of exception you want to raise (e.g., ValueError, TypeError, RuntimeError, or a custom exception class).\n",
        "\n",
        "- The string inside quotes is the error message"
      ],
      "metadata": {
        "id": "Yodc6vZFG5Ey"
      }
    },
    {
      "cell_type": "markdown",
      "source": [
        "25.  Why is it important to use multithreading in certain applications?\n",
        "\n",
        "  -> Using multithreading in certain applications is important because it brings several key advantages, especially for improving performance and responsiveness, particularly in I/O-bound and real-time tasks. Here are the main reasons why multithreading is important:\n",
        "\n",
        "- Improved Performance: Multithreading allows multiple tasks or threads to run simultaneously (concurrently), which can speed up overall execution by utilizing CPU and waiting times more efficiently.\n",
        "\n",
        "- Better Responsiveness: In applications with user interfaces or servers, multithreading helps keep the program responsive. For example, a GUI can remain interactive while background threads perform long-running tasks, or a web server can handle multiple client requests simultaneously without blocking.\n",
        "\n",
        "- Efficient Handling of I/O-bound Tasks: Many programs spend time waiting for input/output operations (like reading files, network communication, or database queries). Multithreading allows other threads to run while one thread waits, maximizing system resource use.\n",
        "\n",
        "- Scalability: Multithreaded applications can scale better by efficiently managing more concurrent operations, such as handling many simultaneous users on a server.\n",
        "\n",
        "- Reduced Latency: Multithreading can reduce wait times for tasks requiring quick responses by executing multiple operations in overlapping time frames.\n",
        "\n",
        "- Real-time Processing: For applications that require timely processing (like audio/video rendering, robotics, or games), multithreading ensures tasks are handled with minimal delay, enhancing smooth and continuous performance.\n",
        "\n",
        "- Simplifies Program Structure: By breaking a program into smaller threads focused on different tasks, multithreading can lead to cleaner, modular, and more maintainable code."
      ],
      "metadata": {
        "id": "HJx7-8K8HYgU"
      }
    },
    {
      "cell_type": "markdown",
      "source": [
        "#** Practical Questions**"
      ],
      "metadata": {
        "id": "ubOPbwwhHrPH"
      }
    },
    {
      "cell_type": "code",
      "source": [
        "# 1.  How can you open a file for writing in Python and write a string to it\n",
        "\n",
        "\n",
        "\n",
        "file = open(\"example.txt\", \"w\")\n",
        "\n",
        "file.write(\"Hello, world!\")\n",
        "\n",
        "file.close()\n"
      ],
      "metadata": {
        "id": "fdXdFtEmHxRc"
      },
      "execution_count": 1,
      "outputs": []
    },
    {
      "cell_type": "code",
      "source": [
        "# 2.  Write a Python program to read the contents of a file and print each line\n",
        "\n",
        "file_name = \"example.txt\"\n",
        "\n",
        "with open(file_name, \"r\") as file:\n",
        "    for line in file:\n",
        "        print(line, end='')\n"
      ],
      "metadata": {
        "colab": {
          "base_uri": "https://localhost:8080/"
        },
        "id": "m_f5FPIPHxdw",
        "outputId": "a80ce322-f461-4d4e-9b6c-053914102599"
      },
      "execution_count": 3,
      "outputs": [
        {
          "output_type": "stream",
          "name": "stdout",
          "text": [
            "Hello, world!"
          ]
        }
      ]
    },
    {
      "cell_type": "code",
      "source": [
        "# 3.  How would you handle a case where the file doesn't exist while trying to open it for reading\n",
        "\n",
        "try:\n",
        "    with open(\"filename.txt\", \"r\") as file:\n",
        "        content = file.read()\n",
        "        print(content)\n",
        "except FileNotFoundError:\n",
        "    print(\"Error: The file does not exist.\")\n"
      ],
      "metadata": {
        "colab": {
          "base_uri": "https://localhost:8080/"
        },
        "id": "M8UEZVc7HxgS",
        "outputId": "04df5a08-0746-4c97-e4d4-163f34b6f9d4"
      },
      "execution_count": 4,
      "outputs": [
        {
          "output_type": "stream",
          "name": "stdout",
          "text": [
            "Error: The file does not exist.\n"
          ]
        }
      ]
    },
    {
      "cell_type": "code",
      "source": [
        "# 4.  Write a Python script that reads from one file and writes its content to another file\n",
        "\n",
        "# Python script to copy content from one file to another\n",
        "\n",
        "# Source file (to read from)\n",
        "source_file = \"source.txt\"\n",
        "\n",
        "# Destination file (to write to)\n",
        "destination_file = \"destination.txt\"\n",
        "\n",
        "try:\n",
        "    # Open the source file in read mode\n",
        "    with open(source_file, \"r\") as src:\n",
        "        # Read the entire content\n",
        "        content = src.read()\n",
        "\n",
        "    # Open the destination file in write mode\n",
        "    with open(destination_file, \"w\") as dst:\n",
        "        # Write the content to the new file\n",
        "        dst.write(content)\n",
        "\n",
        "    print(f\"Contents of '{source_file}' have been copied to '{destination_file}'.\")\n",
        "\n",
        "except FileNotFoundError:\n",
        "    print(f\"Error: '{source_file}' does not exist.\")\n",
        "except Exception as e:\n",
        "    print(f\"An unexpected error occurred: {e}\")\n"
      ],
      "metadata": {
        "colab": {
          "base_uri": "https://localhost:8080/"
        },
        "id": "5Tuow-4pHxiz",
        "outputId": "1222fba2-07ea-4306-e3ff-fe069e76bc0a"
      },
      "execution_count": 5,
      "outputs": [
        {
          "output_type": "stream",
          "name": "stdout",
          "text": [
            "Error: 'source.txt' does not exist.\n"
          ]
        }
      ]
    },
    {
      "cell_type": "code",
      "source": [
        "# 5.  How would you catch and handle division by zero error in Python\n",
        "\n",
        "\n",
        "try:\n",
        "    num1 = 10\n",
        "    num2 = 0\n",
        "    result = num1 / num2  # This will raise ZeroDivisionError\n",
        "    print(\"Result:\", result)\n",
        "except ZeroDivisionError:\n",
        "    print(\"Error: Division by zero is not allowed.\")\n"
      ],
      "metadata": {
        "colab": {
          "base_uri": "https://localhost:8080/"
        },
        "id": "Lw_A6CKkHxlH",
        "outputId": "81ee075a-e5a5-443a-c429-d05eea74f5e9"
      },
      "execution_count": 6,
      "outputs": [
        {
          "output_type": "stream",
          "name": "stdout",
          "text": [
            "Error: Division by zero is not allowed.\n"
          ]
        }
      ]
    },
    {
      "cell_type": "code",
      "source": [
        "# 6.  Write a Python program that logs an error message to a log file when a division by zero exception occurs\n",
        "import logging\n",
        "\n",
        "# Configure logging to write to a file\n",
        "logging.basicConfig(\n",
        "    filename=\"error.log\",        # Log file name\n",
        "    level=logging.ERROR,         # Log level\n",
        "    format=\"%(asctime)s - %(levelname)s - %(message)s\"\n",
        ")\n",
        "\n",
        "try:\n",
        "    num1 = 10\n",
        "    num2 = 0\n",
        "    result = num1 / num2  # Will raise ZeroDivisionError\n",
        "except ZeroDivisionError:\n",
        "    logging.error(\"Division by zero error occurred!\")  # Log the error\n",
        "    print(\"An error occurred — check the 'error.log' file.\")  # Notify user\n"
      ],
      "metadata": {
        "colab": {
          "base_uri": "https://localhost:8080/"
        },
        "id": "cJKsaOcuHxnc",
        "outputId": "023f1aa4-812e-4196-e962-b83a06fa736b"
      },
      "execution_count": 7,
      "outputs": [
        {
          "output_type": "stream",
          "name": "stderr",
          "text": [
            "ERROR:root:Division by zero error occurred!\n"
          ]
        },
        {
          "output_type": "stream",
          "name": "stdout",
          "text": [
            "An error occurred — check the 'error.log' file.\n"
          ]
        }
      ]
    },
    {
      "cell_type": "code",
      "source": [
        "# 7.  How do you log information at different levels (INFO, ERROR, WARNING) in Python using the logging module\n",
        "\n",
        "import logging\n",
        "\n",
        "import logging\n",
        "\n",
        "logging.basicConfig(\n",
        "    level=logging.INFO,\n",
        "    format='%(asctime)s - %(levelname)s - %(message)s'\n",
        ")\n",
        "\n",
        "logging.info(\"Program started\")\n",
        "logging.warning(\"This is a warning: low disk space\")\n",
        "logging.error(\"An error occurred: cannot open file\")\n",
        "\n",
        "logging.info(\"Program finished\")\n",
        "\n"
      ],
      "metadata": {
        "colab": {
          "base_uri": "https://localhost:8080/"
        },
        "id": "Niapg37XHxqB",
        "outputId": "ac35b134-ec8c-4030-edce-5cdceaea050d"
      },
      "execution_count": 10,
      "outputs": [
        {
          "output_type": "stream",
          "name": "stderr",
          "text": [
            "WARNING:root:This is a warning: low disk space\n",
            "ERROR:root:An error occurred: cannot open file\n"
          ]
        }
      ]
    },
    {
      "cell_type": "code",
      "source": [
        "# 8.  Write a program to handle a file opening error using exception handling\n",
        "\n",
        "# Program to handle file opening errors using exception handling\n",
        "\n",
        "file_name = \"myfile.txt\"  # File that may or may not exist\n",
        "\n",
        "try:\n",
        "    with open(file_name, \"r\") as file:\n",
        "        content = file.read()\n",
        "        print(\"File Content:\\n\", content)\n",
        "except FileNotFoundError:\n",
        "    print(f\"Error: The file '{file_name}' was not found.\")\n",
        "except PermissionError:\n",
        "    print(f\"Error: You don't have permission to open '{file_name}'.\")\n",
        "except Exception as e:\n",
        "    print(f\"An unexpected error occurred: {e}\")\n"
      ],
      "metadata": {
        "colab": {
          "base_uri": "https://localhost:8080/"
        },
        "id": "HbsTD25DHxsH",
        "outputId": "8be65906-5371-4a10-e374-cab451dd1b89"
      },
      "execution_count": 11,
      "outputs": [
        {
          "output_type": "stream",
          "name": "stdout",
          "text": [
            "Error: The file 'myfile.txt' was not found.\n"
          ]
        }
      ]
    },
    {
      "cell_type": "code",
      "source": [
        "# 9.  How can you read a file line by line and store its content in a list in Python\n",
        "lines = []\n",
        "with open(\"example.txt\", \"r\") as file:\n",
        "    for line in file:\n",
        "        lines.append(line.strip())  # strip() removes newline characters\n",
        "print(lines)\n"
      ],
      "metadata": {
        "colab": {
          "base_uri": "https://localhost:8080/"
        },
        "id": "CqWAtqGUHxux",
        "outputId": "ca6092ad-38e7-43e8-fc11-bd6799fcfdfd"
      },
      "execution_count": 12,
      "outputs": [
        {
          "output_type": "stream",
          "name": "stdout",
          "text": [
            "['Hello, world!']\n"
          ]
        }
      ]
    },
    {
      "cell_type": "code",
      "source": [
        "# 10.  How can you append data to an existing file in Python\n",
        "\n",
        "with open(\"example.txt\", \"a\") as file:\n",
        "    file.write(\"This is new content being appended.\\n\")\n",
        "\n",
        "print(\"Data appended successfully!\")\n"
      ],
      "metadata": {
        "colab": {
          "base_uri": "https://localhost:8080/"
        },
        "id": "XSRMjaHGHxxW",
        "outputId": "3dda9aee-7130-43ff-b73f-2e810fccdcc6"
      },
      "execution_count": 13,
      "outputs": [
        {
          "output_type": "stream",
          "name": "stdout",
          "text": [
            "Data appended successfully!\n"
          ]
        }
      ]
    },
    {
      "cell_type": "code",
      "source": [
        "# 11.  Write a Python program that uses a try-except block to handle an error when attempting to access a dictionary key that doesn't exist\n",
        "\n",
        "# Program to handle missing dictionary key error\n",
        "\n",
        "my_dict = {\"name\": \"Argon\", \"age\": 35}\n",
        "\n",
        "try:\n",
        "    # Attempt to access a key that may not exist\n",
        "    value = my_dict[\"city\"]\n",
        "    print(\"City:\", value)\n",
        "\n",
        "except KeyError:\n",
        "    print(\"Error: The key 'city' does not exist in the dictionary.\")\n"
      ],
      "metadata": {
        "colab": {
          "base_uri": "https://localhost:8080/"
        },
        "id": "yWalyJKbHxz-",
        "outputId": "eb36495e-4a2a-48fc-f541-24720d2c96f5"
      },
      "execution_count": 14,
      "outputs": [
        {
          "output_type": "stream",
          "name": "stdout",
          "text": [
            "Error: The key 'city' does not exist in the dictionary.\n"
          ]
        }
      ]
    },
    {
      "cell_type": "code",
      "source": [
        "#12. Write a program that demonstrates using multiple except blocks to handle different types of exceptions\n",
        "\n",
        "try:\n",
        "    num1 = int(input(\"Enter first number: \"))\n",
        "    num2 = int(input(\"Enter second number: \"))\n",
        "    result = num1 / num2\n",
        "\n",
        "    my_dict = {\"name\": \"Alice\"}\n",
        "    key = input(\"Enter a key to access from the dictionary: \")\n",
        "    value = my_dict[key]\n",
        "\n",
        "    print(f\"Division result: {result}\")\n",
        "    print(f\"Dictionary value: {value}\")\n",
        "\n",
        "except ZeroDivisionError:\n",
        "    print(\"Error: You cannot divide by zero.\")\n",
        "except ValueError:\n",
        "    print(\"Error: Please enter valid numeric values.\")\n",
        "except KeyError:\n",
        "    print(\"Error: The specified key does not exist in the dictionary.\")\n",
        "except Exception as e:\n",
        "    print(f\"An unexpected error occurred: {e}\")\n"
      ],
      "metadata": {
        "colab": {
          "base_uri": "https://localhost:8080/"
        },
        "id": "yLMoPaxpHx2k",
        "outputId": "f04393a3-eeb2-454e-d923-234d81dc1539"
      },
      "execution_count": 15,
      "outputs": [
        {
          "output_type": "stream",
          "name": "stdout",
          "text": [
            "Enter first number: 2\n",
            "Enter second number: 3\n",
            "Enter a key to access from the dictionary: 6\n",
            "Error: The specified key does not exist in the dictionary.\n"
          ]
        }
      ]
    },
    {
      "cell_type": "code",
      "source": [
        "# 13  How would you check if a file exists before attempting to read it in Python\n",
        "import os\n",
        "\n",
        "file_path = \"example.txt\"\n",
        "\n",
        "if os.path.exists(file_path):\n",
        "    with open(file_path, \"r\") as file:\n",
        "        content = file.read()\n",
        "        print(\"File Content:\\n\", content)\n",
        "else:\n",
        "    print(f\"File '{file_path}' does not exist.\")"
      ],
      "metadata": {
        "colab": {
          "base_uri": "https://localhost:8080/"
        },
        "id": "v1l0potnHx5G",
        "outputId": "8538bb59-307b-43ac-9cce-2aa143cb5375"
      },
      "execution_count": 16,
      "outputs": [
        {
          "output_type": "stream",
          "name": "stdout",
          "text": [
            "File Content:\n",
            " Hello, world!This is new content being appended.\n",
            "\n"
          ]
        }
      ]
    },
    {
      "cell_type": "code",
      "source": [
        "# 14 . Write a program that uses the logging module to log both informational and error messages\n",
        "import logging\n",
        "\n",
        "logging.basicConfig(\n",
        "    filename=\"app.log\",\n",
        "    level=logging.INFO,\n",
        "    format=\"%(asctime)s - %(levelname)s - %(message)s\"\n",
        ")\n",
        "\n",
        "logging.info(\"Program started successfully.\")\n",
        "\n",
        "try:\n",
        "    x = 10\n",
        "    y = 0\n",
        "    result = x / y\n",
        "\n",
        "    logging.error(\"Division by zero error occurred!\")\n",
        "    logging.info(f\"Result of division: {result}\")\n",
        "except ZeroDivisionError:\n",
        "    logging.error(\"Attempted division by zero!\")\n",
        "\n",
        "logging.info(\"Program finished.\")\n"
      ],
      "metadata": {
        "colab": {
          "base_uri": "https://localhost:8080/"
        },
        "id": "jGxHZFjuHx7e",
        "outputId": "31b80fbc-a6e8-4a2b-c150-5bfe1ce76a68"
      },
      "execution_count": 21,
      "outputs": [
        {
          "output_type": "stream",
          "name": "stderr",
          "text": [
            "ERROR:root:Attempted division by zero!\n"
          ]
        }
      ]
    },
    {
      "cell_type": "code",
      "source": [
        "#15.  Write a Python program that prints the content of a file and handles the case when the file is empty\n",
        "# Program to print file content and handle empty file case\n",
        "\n",
        "file_name = \"example.txt\"  # Replace with your file name\n",
        "\n",
        "try:\n",
        "    with open(file_name, \"r\") as file:\n",
        "        content = file.read()\n",
        "        if content.strip() == \"\":\n",
        "            print(\"The file is empty.\")\n",
        "        else:\n",
        "            print(\"File Content:\\n\")\n",
        "            print(content)\n",
        "except FileNotFoundError:\n",
        "    print(f\"Error: The file '{file_name}' does not exist.\")\n",
        "except PermissionError:\n",
        "    print(f\"Error: You don't have permission to open '{file_name}'.\")\n",
        "except Exception as e:\n",
        "    print(f\"An unexpected error occurred: {e}\")\n"
      ],
      "metadata": {
        "colab": {
          "base_uri": "https://localhost:8080/"
        },
        "id": "4_RPIp3BHx95",
        "outputId": "d170d99a-7db8-41df-ecd9-762b94d79cf9"
      },
      "execution_count": 22,
      "outputs": [
        {
          "output_type": "stream",
          "name": "stdout",
          "text": [
            "File Content:\n",
            "\n",
            "Hello, world!This is new content being appended.\n",
            "\n"
          ]
        }
      ]
    },
    {
      "cell_type": "code",
      "source": [
        "# 16.  Demonstrate how to use memory profiling to check the memory usage of a small program\n",
        "\n",
        "!pip install memory-profiler\n",
        "%load_ext memory_profiler\n",
        "\n",
        "\n",
        "\n",
        "\n",
        "from memory_profiler import profile\n",
        "\n",
        "@profile\n",
        "def create_list():\n",
        "    # Create a large list\n",
        "    nums = [i for i in range(1000000)]\n",
        "    total = sum(nums)\n",
        "    return total\n",
        "\n",
        "if __name__ == \"__main__\":\n",
        "    result = create_list()\n",
        "    print(\"Sum is:\", result)\n",
        "\n"
      ],
      "metadata": {
        "colab": {
          "base_uri": "https://localhost:8080/"
        },
        "id": "sUOc_UFbNB3Y",
        "outputId": "0bb97198-8bca-45f7-9128-2a403b07572e"
      },
      "execution_count": 32,
      "outputs": [
        {
          "output_type": "stream",
          "name": "stdout",
          "text": [
            "Requirement already satisfied: memory-profiler in /usr/local/lib/python3.11/dist-packages (0.61.0)\n",
            "Requirement already satisfied: psutil in /usr/local/lib/python3.11/dist-packages (from memory-profiler) (5.9.5)\n",
            "The memory_profiler extension is already loaded. To reload it, use:\n",
            "  %reload_ext memory_profiler\n",
            "ERROR: Could not find file /tmp/ipython-input-2436337033.py\n",
            "Sum is: 499999500000\n"
          ]
        }
      ]
    },
    {
      "cell_type": "code",
      "source": [
        "# 17.  Write a Python program to create and write a list of numbers to a file, one number per line\n",
        "\n",
        "\n",
        "\n",
        "numbers = [10, 20, 30, 40, 50]  # Example list\n",
        "file_name = \"numbers.txt\"\n",
        "\n",
        "try:\n",
        "    with open(file_name, \"w\") as file:\n",
        "        for num in numbers:\n",
        "            file.write(f\"{num}\\n\")\n",
        "    print(f\"Numbers have been written to '{file_name}' successfully.\")\n",
        "except Exception as e:\n",
        "    print(f\"An error occurred: {e}\")\n"
      ],
      "metadata": {
        "colab": {
          "base_uri": "https://localhost:8080/"
        },
        "id": "ylL3dFtyNB6D",
        "outputId": "0a8fea1f-d89b-4142-f3b3-ec4478a3e089"
      },
      "execution_count": 33,
      "outputs": [
        {
          "output_type": "stream",
          "name": "stdout",
          "text": [
            "Numbers have been written to 'numbers.txt' successfully.\n"
          ]
        }
      ]
    },
    {
      "cell_type": "code",
      "source": [
        "# 18.  How would you implement a basic logging setup that logs to a file with rotation after 1MB\n",
        "\n",
        "import logging\n",
        "from logging.handlers import RotatingFileHandler\n",
        "\n",
        "\n",
        "logger = logging.getLogger(\"my_logger\")\n",
        "logger.setLevel(logging.DEBUG)\n",
        "\n",
        "\n",
        "handler = RotatingFileHandler(\"app.log\", maxBytes=1 * 1024 * 1024, backupCount=5)\n",
        "\n",
        "formatter = logging.Formatter(\"%(asctime)s - %(levelname)s - %(message)s\")\n",
        "handler.setFormatter(formatter)\n",
        "\n",
        "logger.addHandler(handler)\n",
        "\n",
        "logger.info(\"Logging setup complete.\")\n",
        "logger.debug(\"This is a debug message.\")\n",
        "logger.error(\"This is an error message.\")\n"
      ],
      "metadata": {
        "colab": {
          "base_uri": "https://localhost:8080/"
        },
        "id": "4nk5Uj-LNB8t",
        "outputId": "c535913c-9c71-4491-cdb5-d71f49544d26"
      },
      "execution_count": 34,
      "outputs": [
        {
          "output_type": "stream",
          "name": "stderr",
          "text": [
            "INFO:my_logger:Logging setup complete.\n",
            "DEBUG:my_logger:This is a debug message.\n",
            "ERROR:my_logger:This is an error message.\n"
          ]
        }
      ]
    },
    {
      "cell_type": "code",
      "source": [
        "# 19.  Write a program that handles both IndexError and KeyError using a try-except block\n",
        "\n",
        "\n",
        "my_list = [10, 20, 30]\n",
        "my_dict = {\"name\": \"Alice\", \"age\": 25}\n",
        "\n",
        "try:\n",
        "    # This can cause IndexError\n",
        "    print(\"List element at index 5:\", my_list[5])\n",
        "\n",
        "    # This can cause KeyError\n",
        "    print(\"Value for key 'city':\", my_dict[\"city\"])\n",
        "\n",
        "except IndexError:\n",
        "    print(\"Error: List index out of range.\")\n",
        "except KeyError:\n",
        "    print(\"Error: The specified key does not exist in the dictionary.\")\n"
      ],
      "metadata": {
        "colab": {
          "base_uri": "https://localhost:8080/"
        },
        "id": "Mcf2BuV7NB_N",
        "outputId": "824d370a-4ad7-4fd9-e92e-02a6e0b92112"
      },
      "execution_count": 35,
      "outputs": [
        {
          "output_type": "stream",
          "name": "stdout",
          "text": [
            "Error: List index out of range.\n"
          ]
        }
      ]
    },
    {
      "cell_type": "code",
      "source": [
        "# 20.  How would you open a file and read its contents using a context manager in Python\n",
        "\n",
        "with open(\"example.txt\", \"r\") as file:\n",
        "    for line in file:\n",
        "        print(line.strip())\n"
      ],
      "metadata": {
        "colab": {
          "base_uri": "https://localhost:8080/"
        },
        "id": "Tk15Nn-TNCBq",
        "outputId": "a65c6028-df66-4995-f641-4fb082db00b5"
      },
      "execution_count": 36,
      "outputs": [
        {
          "output_type": "stream",
          "name": "stdout",
          "text": [
            "Hello, world!This is new content being appended.\n"
          ]
        }
      ]
    },
    {
      "cell_type": "code",
      "source": [
        "# 21.  Write a Python program that reads a file and prints the number of occurrences of a specific word\n",
        "\n",
        "\n",
        "\n",
        "\n",
        "file_name = \"example.txt\"\n",
        "word_to_count = \"Python\"\n",
        "\n",
        "try:\n",
        "    with open(file_name, \"r\") as file:\n",
        "        content = file.read().lower()\n",
        "        count = content.split().count(word_to_count.lower())\n",
        "        print(f\"The word '{word_to_count}' occurs {count} times in '{file_name}'.\")\n",
        "except FileNotFoundError:\n",
        "    print(f\"Error: The file '{file_name}' does not exist.\")\n",
        "except PermissionError:\n",
        "    print(f\"Error: You don't have permission to read '{file_name}'.\")\n",
        "except Exception as e:\n",
        "    print(f\"An unexpected error occurred: {e}\")\n"
      ],
      "metadata": {
        "colab": {
          "base_uri": "https://localhost:8080/"
        },
        "id": "_8VdJJ62NCED",
        "outputId": "828eb900-3192-4429-f297-8ac3cea33588"
      },
      "execution_count": 37,
      "outputs": [
        {
          "output_type": "stream",
          "name": "stdout",
          "text": [
            "The word 'Python' occurs 0 times in 'example.txt'.\n"
          ]
        }
      ]
    },
    {
      "cell_type": "code",
      "source": [
        "# 22.  How can you check if a file is empty before attempting to read its contents\n",
        "\n",
        "import os\n",
        "\n",
        "file_path = \"example.txt\"\n",
        "\n",
        "if os.path.getsize(file_path) == 0:\n",
        "    print(\"File is empty\")\n",
        "else:\n",
        "    with open(file_path, \"r\") as file:\n",
        "        contents = file.read()\n",
        "        print(contents)\n"
      ],
      "metadata": {
        "colab": {
          "base_uri": "https://localhost:8080/"
        },
        "id": "smr5QajvNCGr",
        "outputId": "bc456228-a68e-4d54-fee9-947a43e944e1"
      },
      "execution_count": 39,
      "outputs": [
        {
          "output_type": "stream",
          "name": "stdout",
          "text": [
            "Hello, world!This is new content being appended.\n",
            "\n"
          ]
        }
      ]
    },
    {
      "cell_type": "code",
      "source": [
        "# 23.  Write a Python program that writes to a log file when an error occurs during file handling.\n",
        "\n",
        "\n",
        "import logging\n",
        "\n",
        "\n",
        "logging.basicConfig(\n",
        "    filename=\"file_errors.log\",\n",
        "    level=logging.ERROR,\n",
        "    format=\"%(asctime)s - %(levelname)s - %(message)s\"\n",
        ")\n",
        "\n",
        "file_name = \"example.txt\"\n",
        "\n",
        "try:\n",
        "    with open(file_name, \"r\") as file:\n",
        "        content = file.read()\n",
        "        print(content)\n",
        "except FileNotFoundError:\n",
        "    logging.error(f\"File '{file_name}' was not found.\")\n",
        "    print(f\"Error: File '{file_name}' does not exist. Check logs for details.\")\n",
        "except PermissionError:\n",
        "    logging.error(f\"No permission to read file '{file_name}'.\")\n",
        "    print(f\"Error: Permission denied for '{file_name}'. Check logs for details.\")\n",
        "except Exception as e:\n",
        "    logging.error(f\"Unexpected error with file '{file_name}': {e}\")\n",
        "    print(f\"An unexpected error occurred. Check logs for details.\")\n"
      ],
      "metadata": {
        "colab": {
          "base_uri": "https://localhost:8080/"
        },
        "id": "3pRhAxyQHyAe",
        "outputId": "fd21071a-a4e8-493e-ab68-4161d57fb887"
      },
      "execution_count": 41,
      "outputs": [
        {
          "output_type": "stream",
          "name": "stdout",
          "text": [
            "Hello, world!This is new content being appended.\n",
            "\n"
          ]
        }
      ]
    },
    {
      "cell_type": "code",
      "source": [],
      "metadata": {
        "id": "l0FtdfrPHyDm"
      },
      "execution_count": null,
      "outputs": []
    },
    {
      "cell_type": "code",
      "source": [],
      "metadata": {
        "id": "EwmwRpxNHyF7"
      },
      "execution_count": null,
      "outputs": []
    },
    {
      "cell_type": "code",
      "source": [],
      "metadata": {
        "id": "HSEQ6U6vHyIX"
      },
      "execution_count": null,
      "outputs": []
    },
    {
      "cell_type": "code",
      "source": [],
      "metadata": {
        "id": "5-x1QqaNHyKV"
      },
      "execution_count": null,
      "outputs": []
    }
  ]
}