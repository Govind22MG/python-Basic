{
  "nbformat": 4,
  "nbformat_minor": 0,
  "metadata": {
    "colab": {
      "provenance": []
    },
    "kernelspec": {
      "name": "python3",
      "display_name": "Python 3"
    },
    "language_info": {
      "name": "python"
    }
  },
  "cells": [
    {
      "cell_type": "markdown",
      "source": [
        "Data Structure"
      ],
      "metadata": {
        "id": "Bktqso5f6dPo"
      }
    },
    {
      "cell_type": "markdown",
      "source": [
        "1. What are data structures, and why are they important ?\n",
        "\n",
        "\n",
        "\n",
        "  ->A data structure is a way of organizing, storing, and managing data so that it can be used efficiently.\n",
        "\n",
        "  Data structures are ways of organizing and storing data in a computer so it can be accessed and used efficiently. allowing you to perform specific operations (like adding, removing, or finding data) easily.\n",
        "  \n",
        "   types of data structures are:\n",
        "   tuple, set ,dictionary, list ,string.\n",
        "\n",
        "\n",
        "     Importance of data structure is:\n",
        "\n",
        "      Data structures are important because they organize and store data efficiently, which makes computer programs faster and more effective. They help optimize how data is accessed, modified, and managed, saving time and memory. This leads to better performance, easier code maintenance, and the ability to handle complex real-world problems and large amounts of data\n",
        "\n",
        "\n"
      ],
      "metadata": {
        "id": "FLTnw6_N6qqt"
      }
    },
    {
      "cell_type": "markdown",
      "source": [
        "2.  Explain the difference between mutable and immutable data types with   examples ?\n",
        "\n",
        "  -> Mutable data types are those whose values can be changed after they are created. For example, you can add or remove items from a list or change entries in a dictionary without making a new object.\n",
        "\n",
        "  Immutable data types cannot be changed once created. If you want to change their value, a new object is created instead. For example, strings and tuples cannot be changed in place; any change creates a new string or tuple."
      ],
      "metadata": {
        "id": "XSommIob9bmm"
      }
    },
    {
      "cell_type": "markdown",
      "source": [
        "3.  What are the main differences between lists and tuples in Python ?\n",
        "\n",
        "  -> List: A list is a data structure in Python that can store a collection of items.\n",
        "      \n",
        "      Lists are ordered, mutable (you can add, remove, or change elements), and are defined using square brackets [].\n",
        "\n",
        "      Tuple:\n",
        "A tuple is another data structure in Python that also stores a collection of items. Tuples are ordered but immutable (once created, you cannot change the elements), and are defined using parentheses ()\n",
        "\n"
      ],
      "metadata": {
        "id": "ur3fAZlc96aq"
      }
    },
    {
      "cell_type": "markdown",
      "source": [
        "4.  Describe how dictionaries store data ?\n",
        "\n",
        "  -> A dictionary stores data as key-value pairs. Each item in a dictionary has a unique key and a corresponding value.\n",
        "\n",
        "\n",
        "  Keys: Unique identifiers used to access values. Keys can be strings, numbers, or other immutable types.\n",
        "\n",
        "Values: The data associated with each key. Values can be any data type."
      ],
      "metadata": {
        "id": "i0LwIBqT-yaG"
      }
    },
    {
      "cell_type": "markdown",
      "source": [
        "5.  Why might you use a set instead of a list in Python ?\n",
        "\n",
        "  -> we use a set instead of a list in Python:\n",
        "\n",
        "A set only keeps unique items automatically, so it removes duplicates for you.\n",
        "\n",
        "It doesn’t keep things in order, but that’s okay if you don’t need order.\n",
        "\n",
        "It’s really fast to check if something is inside a set.\n",
        "\n",
        "You can easily do things like find common items between sets or differences.\n",
        "\n",
        "\n",
        "\n",
        "\n",
        "\n",
        "lists are ordered, allow duplicates, support indexing, and maintain the sequence of elements, so use lists when you need order or duplicate values.\n",
        "which increase time comlexity while sorting  or doing any other operations.\n",
        "\n",
        "\n",
        "\n",
        "we Use a set when you need unique items and fast membership checks without caring about order. Use a list when order or duplicates matter.\n"
      ],
      "metadata": {
        "id": "fOon3pS2_M_U"
      }
    },
    {
      "cell_type": "markdown",
      "source": [
        "6.  What is a string in Python, and how is it different from a list ?\n",
        "\n",
        "  -> A string in Python is a sequence of characters enclosed in single or double quotes, like \"pwskills\". Strings are immutable, which means once a string is created, you cannot change its individual characters or length directly.\n",
        "  \n",
        "\n",
        "A list in Python is a collection of items, which can be of any type (numbers, strings, other lists, etc.), enclosed in square brackets, like [1, \"morning\", 3.5]. Lists are mutable, meaning you can add, remove, or change elements after the list is created."
      ],
      "metadata": {
        "id": "ezX3rfkCAVN2"
      }
    },
    {
      "cell_type": "markdown",
      "source": [
        "7.  How do tuples ensure data integrity in Python ?\n",
        "\n",
        "  -> Tuples don't let you change their values once they are created. Because you can't change the data inside a tuple, it stays safe and doesn't get accidentally changed. This makes tuples good for storing important information that should stay the same.\n",
        "\n",
        "For example, if you put a employee id  in a tuple, it won't be changed by mistake later."
      ],
      "metadata": {
        "id": "0lIJ73rTAuM4"
      }
    },
    {
      "cell_type": "markdown",
      "source": [
        "8.  What is a hash table, and how does it relate to dictionaries in Python ?\n",
        "\n",
        "  -> A hash table is a way to store data so you can find it really fast. It works by using a special function (called a hash function) that takes a key (like a name or ID) and turns it into a number. This number points to where the data is stored. So instead of searching through everything, you just go directly to the spot where the data is kept.\n",
        "\n",
        "In Python, a dictionary is exactly this kind of data structure. It stores data in key-value pairs and uses hashing behind the scenes to find values quickly when you give it a key.\n",
        "\n",
        "\n"
      ],
      "metadata": {
        "id": "QiWVMhE-BUUk"
      }
    },
    {
      "cell_type": "markdown",
      "source": [
        "9.  Can lists contain different data types in Python ?\n",
        "\n",
        "\n",
        "  -> Yes, lists in Python can contain different data types all together. A single list can hold a mix of integers, strings, floats, booleans, or even other objects like lists or dictionaries. This is because Python lists are heterogeneous, meaning their elements do not need to be of the same type."
      ],
      "metadata": {
        "id": "69JofBnuCG0l"
      }
    },
    {
      "cell_type": "markdown",
      "source": [
        "10. Explain why strings are immutable in Python ?\n",
        "\n",
        "\n",
        "\n",
        "  -> Strings in Python are immutable, because\n",
        "\n",
        "  Safety: Because strings can't be changed, they won't get accidentally modified anywhere in your program.\n",
        "\n",
        "Efficiency: Python can reuse the same string object in different places safely without copying or worrying about changes.\n",
        "\n",
        "Easy to hash: Immutable strings can be used as keys in dictionaries and members of sets, which rely on unchanged values."
      ],
      "metadata": {
        "id": "pZnwyuXwCXtE"
      }
    },
    {
      "cell_type": "markdown",
      "source": [
        "11.  What advantages do dictionaries offer over lists for certain tasks ?\n",
        "\n",
        "  -> the advantages of dictionaries over lists for certain tasks in Python:\n",
        "\n",
        "Dictionaries store data as key-value pairs, which means you can use meaningful names (keys) to access data instead of just number positions like in lists.\n",
        "\n",
        "Dictionaries are much faster when you want to find or update data by key because they don’t have to look through every item like lists do.\n",
        "\n",
        "Dictionaries keep keys unique, so each key points to one value, avoiding confusion. Lists allow duplicates and require you to remember the position of items.\n",
        "\n",
        "Use a dictionary when you want to quickly find, add, or change data using names or labels.\n",
        "\n"
      ],
      "metadata": {
        "id": "O-HnJyRWDeNQ"
      }
    },
    {
      "cell_type": "markdown",
      "source": [
        "12.  Describe a scenario where using a tuple would be preferable over a list ?\n",
        "\n",
        "  -> A scenario where using a tuple would be preferable over a list is when you have a fixed collection of items that should not change throughout the program. Because tuples are immutable, they guarantee that the data won't be accidentally modified, ensuring data integrity and making the code safer.\n",
        "\n",
        "  ex-Imagine you are working on a company  that shows the employee of various departments . Each employee and it's  department  is represented by their name and unique identification, which are two numbers that should never change after being set."
      ],
      "metadata": {
        "id": "CbrmfE6zEb84"
      }
    },
    {
      "cell_type": "markdown",
      "source": [
        "13. How do sets handle duplicate values in Python ?\n",
        "\n",
        "\n",
        "  -> In Python, sets automatically handle duplicate values by ignoring duplicates. When you add values to a set, it only keeps one instance of each unique value, so any repeated or duplicate items are discarded.\n",
        "   \n",
        "   set store  unique values\n"
      ],
      "metadata": {
        "id": "luQSjLHPF_rV"
      }
    },
    {
      "cell_type": "markdown",
      "source": [
        "14.  How does the “in” keyword work differently for lists and dictionaries ?\n",
        "\n",
        "  ->The \"in\" keyword works differently for lists and dictionaries in Python because  of their different ways based on their data structure:\n",
        "\n",
        "For lists:\n",
        "The \"in\" keyword checks if an element/value is present anywhere in the list by scanning through the elements sequentially until a match is found. This means it searches through the entire list, potentially taking longer for large lists because it does a linear search.\n",
        "\n",
        "For dictionaries:\n",
        "The \"in\" keyword checks if a key exists in the dictionary, not the values. Thanks to the dictionary's hash table implementation, this lookup is very fast (almost constant time), regardless of the dictionary size."
      ],
      "metadata": {
        "id": "OA-dIFLLGXTe"
      }
    },
    {
      "cell_type": "markdown",
      "source": [
        "15. Can you modify the elements of a tuple? Explain why or why not ?\n",
        "\n",
        "\n",
        "  ->No, you cannot modify the elements of a tuple in Python. Tuples are immutable, which means that once a tuple is created, its elements cannot be changed, added to, or removed."
      ],
      "metadata": {
        "id": "HQQsLLJmKKRZ"
      }
    },
    {
      "cell_type": "markdown",
      "source": [
        "16. What is a nested dictionary, and give an example of its use case ?\n",
        "\n",
        "\n",
        "  -> A nested dictionary is like a dictionary inside another dictionary. It lets you store information in layers or levels.\n",
        "\n",
        "For example, you can have a dictionary where each key is a student’s ID, and the value is another dictionary with the student’s details like name, age, and marks.\n",
        "\n",
        "\n",
        " example of nested dictionary\n",
        "\n",
        "students = {\n",
        "    \"E101\": {\"name\": \"John\", \"age\": 20, \"marks\": 85},\n",
        "    \"E102\": {\"name\": \"Asha\", \"age\": 19, \"marks\": 90},\n",
        "}\n",
        "\n",
        "\n",
        "use case in Nested dictionaries help you organize complex information by keeping related details inside smaller dictionaries within a big one. It’s useful when you want to store lots of data about many items with different attributes."
      ],
      "metadata": {
        "id": "NxMaoAoTKzZ_"
      }
    },
    {
      "cell_type": "markdown",
      "source": [
        "17. Describe the time complexity of accessing elements in a dictionary ?\n",
        "\n",
        "\n",
        "  -> When you look for something in a dictionary using a key, Python usually finds it very quickly—almost immediately—no matter how big the dictionary is. This is because dictionaries use a special way (called hashing) to jump directly to the place where the value is stored.\n",
        "\n",
        "Usually, finding an item is done in constant time, called O(1), which means the time doesn’t change even if the dictionary gets bigger."
      ],
      "metadata": {
        "id": "LDffMCAeLi1x"
      }
    },
    {
      "cell_type": "markdown",
      "source": [
        "18.  In what situations are lists preferred over dictionaries ?\n",
        "\n",
        "\n",
        "  ->Lists are preferred over dictionaries in Python when:\n",
        "\n",
        "  Order matters\n",
        "\n",
        "  Duplicates are allowed\n",
        "\n",
        "  Simple collection of items\n",
        "\n",
        "  Element position is important\n",
        "\n",
        "  Iteration without keys\n",
        "\n",
        "  Stacks or queue\n",
        "\n",
        "  "
      ],
      "metadata": {
        "id": "h1LhQ3KlMGqp"
      }
    },
    {
      "cell_type": "markdown",
      "source": [
        "19.  Why are dictionaries considered unordered, and how does that affect data retrieval ?\n",
        "\n",
        "  -> dictionaries are considered unordered and how that affects getting data from them:\n",
        "\n",
        "Dictionaries store data as pairs of keys and values.\n",
        "\n",
        "They don't keep the items in a set order like lists do.\n",
        "\n",
        "You can't get an item by its position number in a dictionary; you must use its key to find it.\n",
        "\n",
        "Because of this, dictionaries let you quickly find the value if you know the key, but they don't keep track of the order you added things (at least in older Python versions)."
      ],
      "metadata": {
        "id": "rrST15C8NA7W"
      }
    },
    {
      "cell_type": "markdown",
      "source": [
        "20.  Explain the difference between a list and a dictionary in terms of data retrieval ?\n",
        "\n",
        "  -> the difference between a list and a dictionary in terms of data retrival is\n",
        "\n",
        "\n",
        "  List:\n",
        "\n",
        "Data is retrieved by position (index).\n",
        "\n",
        "Each item in a list has a number (its index) starting from 0.\n",
        "\n",
        "You must know the index number to get an item.\n",
        "\n",
        "\n",
        "Dictionary:\n",
        "\n",
        "Data is retrieved by key (not by position).\n",
        "\n",
        "Each pair in a dictionary has a unique label (the key).\n",
        "\n",
        "You get a value by using its key, not by counting position."
      ],
      "metadata": {
        "id": "qW_9VdzjNcvS"
      }
    },
    {
      "cell_type": "markdown",
      "source": [
        "===========================Practical Questions ======================================"
      ],
      "metadata": {
        "id": "xgkCLMFwOQjj"
      }
    },
    {
      "cell_type": "code",
      "source": [
        "# 1.  Write a code to create a string with your name and print it ?\n",
        "\n",
        "my_name = \"Govind\"\n",
        "print(my_name)"
      ],
      "metadata": {
        "colab": {
          "base_uri": "https://localhost:8080/"
        },
        "id": "uMGY7L9eOYED",
        "outputId": "b65822e9-025b-438b-a1fd-24a1ac5d1d61"
      },
      "execution_count": 2,
      "outputs": [
        {
          "output_type": "stream",
          "name": "stdout",
          "text": [
            "Govind\n"
          ]
        }
      ]
    },
    {
      "cell_type": "code",
      "source": [
        "# 2. Write a code to find the length of the string \"Hello World\"\n",
        "\n",
        "string = \"Hello World\"\n",
        "print(len(string))"
      ],
      "metadata": {
        "colab": {
          "base_uri": "https://localhost:8080/"
        },
        "id": "65HK6UTHPh8F",
        "outputId": "ed092bbc-eabc-46e0-ff7a-3fefb1f312bd"
      },
      "execution_count": 5,
      "outputs": [
        {
          "output_type": "stream",
          "name": "stdout",
          "text": [
            "11\n"
          ]
        }
      ]
    },
    {
      "cell_type": "code",
      "source": [
        "# 3.  Write a code to slice the first 3 characters from the string \"Python Programming\"\n",
        "\n",
        "string = \"Python Programming\"\n",
        "print(string[0:3])"
      ],
      "metadata": {
        "colab": {
          "base_uri": "https://localhost:8080/"
        },
        "id": "Bnr46ORhPpHP",
        "outputId": "1b678f71-1370-4616-bc09-c03fa0154269"
      },
      "execution_count": 6,
      "outputs": [
        {
          "output_type": "stream",
          "name": "stdout",
          "text": [
            "Pyt\n"
          ]
        }
      ]
    },
    {
      "cell_type": "code",
      "source": [
        "# 4.  Write a code to convert the string \"hello\" to uppercase\n",
        "\n",
        "string = \"hello\"\n",
        "print(string.upper())"
      ],
      "metadata": {
        "colab": {
          "base_uri": "https://localhost:8080/"
        },
        "id": "qDCUaaqQP6eJ",
        "outputId": "359f11d1-2e52-4307-b427-6f13d9f06259"
      },
      "execution_count": 7,
      "outputs": [
        {
          "output_type": "stream",
          "name": "stdout",
          "text": [
            "HELLO\n"
          ]
        }
      ]
    },
    {
      "cell_type": "code",
      "source": [
        "# 5.  Write a code to replace the word \"apple\" with \"orange\" in the string \"I like apple\"\n",
        "\n",
        "string = \"I like apple\"\n",
        "print(string.replace(\"apple\",\"orange\"))"
      ],
      "metadata": {
        "colab": {
          "base_uri": "https://localhost:8080/"
        },
        "id": "Q7cYyc_EQAYs",
        "outputId": "e57d71c0-ddd8-46c3-e22c-5d2624f6dc04"
      },
      "execution_count": 8,
      "outputs": [
        {
          "output_type": "stream",
          "name": "stdout",
          "text": [
            "I like orange\n"
          ]
        }
      ]
    },
    {
      "cell_type": "code",
      "source": [
        "# 6.  Write a code to create a list with numbers 1 to 5 and print it\n",
        "\n",
        "list = [1,2,3,4,5]\n",
        "print(list)"
      ],
      "metadata": {
        "colab": {
          "base_uri": "https://localhost:8080/"
        },
        "id": "h0hXAQnQQNhi",
        "outputId": "3b07b655-26ab-4c65-c909-165ce659d792"
      },
      "execution_count": 9,
      "outputs": [
        {
          "output_type": "stream",
          "name": "stdout",
          "text": [
            "[1, 2, 3, 4, 5]\n"
          ]
        }
      ]
    },
    {
      "cell_type": "code",
      "source": [
        "# 7.  Write a code to append the number 10 to the list [1, 2, 3, 4]\n",
        "\n",
        "my_list = [1, 2, 3, 4]\n",
        "my_list.append(10)\n",
        "print(my_list)\n",
        "\n",
        "\n",
        "\n",
        ""
      ],
      "metadata": {
        "colab": {
          "base_uri": "https://localhost:8080/"
        },
        "id": "7BZ6TomhQfWY",
        "outputId": "a6016f94-b728-48ae-a1e7-9e14868a8a12"
      },
      "execution_count": 10,
      "outputs": [
        {
          "output_type": "stream",
          "name": "stdout",
          "text": [
            "[1, 2, 3, 4, 10]\n"
          ]
        }
      ]
    },
    {
      "cell_type": "code",
      "source": [
        "# 8.  Write a code to remove the number 3 from the list [1, 2, 3, 4, 5]\n",
        "\n",
        "my_list = [1, 2, 3, 4, 5]\n",
        "my_list.remove(3)\n",
        "print(my_list)"
      ],
      "metadata": {
        "colab": {
          "base_uri": "https://localhost:8080/"
        },
        "id": "aq1wC595Q0RD",
        "outputId": "a59c82ac-a60e-4f04-f53e-e444a7d520ec"
      },
      "execution_count": 11,
      "outputs": [
        {
          "output_type": "stream",
          "name": "stdout",
          "text": [
            "[1, 2, 4, 5]\n"
          ]
        }
      ]
    },
    {
      "cell_type": "code",
      "source": [
        "# 9.  Write a code to access the second element in the list ['a', 'b', 'c', 'd']\n",
        "\n",
        "my_list = ['a', 'b', 'c', 'd']\n",
        "second_element = my_list[1]  # Indexing starts at 0, so 1 is the second element\n",
        "print(second_element)\n"
      ],
      "metadata": {
        "colab": {
          "base_uri": "https://localhost:8080/"
        },
        "id": "IwDKvMbLQ7v_",
        "outputId": "6631e40e-2f9f-4818-f7b5-9dc26d6253f0"
      },
      "execution_count": 12,
      "outputs": [
        {
          "output_type": "stream",
          "name": "stdout",
          "text": [
            "b\n"
          ]
        }
      ]
    },
    {
      "cell_type": "code",
      "source": [
        "# 10.  Write a code to reverse the list [10, 20, 30, 40, 50].\n",
        "\n",
        "my_list = [10, 20, 30, 40, 50]\n",
        "my_list.reverse()  # This changes the original list\n",
        "print(my_list)\n",
        "\n",
        "\n",
        "\n"
      ],
      "metadata": {
        "colab": {
          "base_uri": "https://localhost:8080/"
        },
        "id": "QDJf2lovRbeH",
        "outputId": "03b5b07c-aa47-427f-a23f-ea5ac25e2f6b"
      },
      "execution_count": 18,
      "outputs": [
        {
          "output_type": "stream",
          "name": "stdout",
          "text": [
            "[50, 40, 30, 20, 10]\n"
          ]
        }
      ]
    },
    {
      "cell_type": "code",
      "source": [
        "# 11. Write a code to create a tuple with the elements 100, 200, 300 and print it.\n",
        "\n",
        "my_tuple = (100, 200, 300)\n",
        "print(my_tuple)\n"
      ],
      "metadata": {
        "colab": {
          "base_uri": "https://localhost:8080/"
        },
        "id": "5SH1anUISas1",
        "outputId": "b148ad6b-ea4a-4260-a244-4a3463ef5a48"
      },
      "execution_count": 19,
      "outputs": [
        {
          "output_type": "stream",
          "name": "stdout",
          "text": [
            "(100, 200, 300)\n"
          ]
        }
      ]
    },
    {
      "cell_type": "code",
      "source": [
        "#  12. Write a code to access the second-to-last element of the tuple ('red', 'green', 'blue', 'yellow').\n",
        "\n",
        "my_tuple=('red', 'green', 'blue', 'yellow')\n",
        "print(my_tuple[-2])"
      ],
      "metadata": {
        "colab": {
          "base_uri": "https://localhost:8080/"
        },
        "id": "6gKcXklXUJ40",
        "outputId": "5e730c1a-d9f6-4291-cd4e-94bef8cd62a3"
      },
      "execution_count": 21,
      "outputs": [
        {
          "output_type": "stream",
          "name": "stdout",
          "text": [
            "blue\n"
          ]
        }
      ]
    },
    {
      "cell_type": "code",
      "source": [
        "#  13. Write a code to find the minimum number in the tuple (10, 20, 5, 15).\n",
        "\n",
        "numbers = (10, 20, 5, 15)\n",
        "min_number = min(numbers)\n",
        "print(min_number)\n"
      ],
      "metadata": {
        "colab": {
          "base_uri": "https://localhost:8080/"
        },
        "id": "Ya7BetabUxNI",
        "outputId": "fd8a21f2-0899-47c3-b176-d8919ed22cab"
      },
      "execution_count": 22,
      "outputs": [
        {
          "output_type": "stream",
          "name": "stdout",
          "text": [
            "5\n"
          ]
        }
      ]
    },
    {
      "cell_type": "code",
      "source": [
        "#  14. Write a code to find the index of the element \"cat\" in the tuple ('dog', 'cat', 'rabbit').\n",
        "animals = ('dog', 'cat', 'rabbit')\n",
        "index_of_cat = animals.index('cat')\n",
        "print(index_of_cat)\n"
      ],
      "metadata": {
        "colab": {
          "base_uri": "https://localhost:8080/"
        },
        "id": "1OEV6gGmVEdW",
        "outputId": "dae2aef7-9ce4-4c51-dc3e-d7f53f6a9940"
      },
      "execution_count": 23,
      "outputs": [
        {
          "output_type": "stream",
          "name": "stdout",
          "text": [
            "1\n"
          ]
        }
      ]
    },
    {
      "cell_type": "code",
      "source": [
        "#  15. Write a code to create a tuple containing three different fruits and check if \"kiwi\" is in it.\n",
        "fruits = (\"apple\", \"banana\", \"orange\")\n",
        "if \"kiwi\" in fruits:\n",
        "    print(\"Kiwi is in the tuple.\")\n",
        "else:\n",
        "    print(\"Kiwi is not in the tuple.\")\n"
      ],
      "metadata": {
        "colab": {
          "base_uri": "https://localhost:8080/"
        },
        "id": "RGLnQN71VjMI",
        "outputId": "2709217f-83f9-42b9-ec16-fa57d2ce91ea"
      },
      "execution_count": 24,
      "outputs": [
        {
          "output_type": "stream",
          "name": "stdout",
          "text": [
            "Kiwi is not in the tuple.\n"
          ]
        }
      ]
    },
    {
      "cell_type": "code",
      "source": [
        "#  16. Write a code to create a set with the elements 'a', 'b', 'c' and print it.\n",
        "my_set = {'a', 'b', 'c'}\n",
        "print(my_set)\n"
      ],
      "metadata": {
        "colab": {
          "base_uri": "https://localhost:8080/"
        },
        "id": "JUKeOKDSV3Qu",
        "outputId": "a476f05a-95f6-47b9-bc87-b3f9cf4bc4ae"
      },
      "execution_count": 25,
      "outputs": [
        {
          "output_type": "stream",
          "name": "stdout",
          "text": [
            "{'b', 'a', 'c'}\n"
          ]
        }
      ]
    },
    {
      "cell_type": "code",
      "source": [
        "#  17. Write a code to clear all elements from the set {1, 2, 3, 4, 5}.\n",
        "my_set = {1, 2, 3, 4, 5}\n",
        "my_set.clear()\n",
        "print(my_set)\n"
      ],
      "metadata": {
        "colab": {
          "base_uri": "https://localhost:8080/"
        },
        "id": "P6T00AD5XKyK",
        "outputId": "27a04e5c-308a-4226-8488-87606ee93e8a"
      },
      "execution_count": 26,
      "outputs": [
        {
          "output_type": "stream",
          "name": "stdout",
          "text": [
            "set()\n"
          ]
        }
      ]
    },
    {
      "cell_type": "code",
      "source": [
        "#  18. Write a code to remove the element 4 from the set {1, 2, 3, 4}.\n",
        "my_set = {1, 2, 3, 4}\n",
        "my_set.remove(4)\n",
        "print(my_set)\n"
      ],
      "metadata": {
        "colab": {
          "base_uri": "https://localhost:8080/"
        },
        "id": "4TEYDOc3XTfv",
        "outputId": "5d770493-999b-4420-c9fb-3a1ae1373788"
      },
      "execution_count": 27,
      "outputs": [
        {
          "output_type": "stream",
          "name": "stdout",
          "text": [
            "{1, 2, 3}\n"
          ]
        }
      ]
    },
    {
      "cell_type": "code",
      "source": [
        "#  19. Write a code to find the union of two sets {1, 2, 3} and {3, 4, 5}.\n",
        "set1 = {1, 2, 3}\n",
        "set2 = {3, 4, 5}\n",
        "union_set = set1.union(set2)\n",
        "print(union_set)\n"
      ],
      "metadata": {
        "colab": {
          "base_uri": "https://localhost:8080/"
        },
        "id": "LQdh8pJmXafz",
        "outputId": "cc6cac4e-f305-46bc-9c1a-76f78f14fcd1"
      },
      "execution_count": 28,
      "outputs": [
        {
          "output_type": "stream",
          "name": "stdout",
          "text": [
            "{1, 2, 3, 4, 5}\n"
          ]
        }
      ]
    },
    {
      "cell_type": "code",
      "source": [
        "#  20. Write a code to find the intersection of two sets {1, 2, 3} and {2, 3, 4}.\n",
        "set1 = {1, 2, 3}\n",
        "set2 = {2, 3, 4}\n",
        "intersection_set = set1 & set2\n",
        "print(intersection_set)\n"
      ],
      "metadata": {
        "colab": {
          "base_uri": "https://localhost:8080/"
        },
        "id": "ZSmR3rsfXpHE",
        "outputId": "96535f2b-490c-4cd4-ef52-c2547f599706"
      },
      "execution_count": 31,
      "outputs": [
        {
          "output_type": "stream",
          "name": "stdout",
          "text": [
            "{2, 3}\n"
          ]
        }
      ]
    },
    {
      "cell_type": "code",
      "source": [
        "#  21. Write a code to create a dictionary with the keys \"name\", \"age\", and \"city\", and print it.\n",
        "my_dict = {\n",
        "     \"name\": \"Merlin\",\n",
        "    \"age\": 777,\n",
        "    \"city\": \"Carmarthen\"\n",
        "}\n",
        "\n",
        "print(my_dict)\n"
      ],
      "metadata": {
        "colab": {
          "base_uri": "https://localhost:8080/"
        },
        "id": "zazJncixYCvI",
        "outputId": "490d04b5-3a54-4716-f1c0-c11d691112fe"
      },
      "execution_count": 32,
      "outputs": [
        {
          "output_type": "stream",
          "name": "stdout",
          "text": [
            "{'name': 'Merlin', 'age': 777, 'city': 'Carmarthen'}\n"
          ]
        }
      ]
    },
    {
      "cell_type": "code",
      "source": [
        "#  22. Write a code to add a new key-value pair \"country\": \"USA\" to the dictionary {'name': 'John', 'age': 25}.\n",
        "my_dict = {'name': 'John', 'age': 25}\n",
        "\n",
        "my_dict['country'] = 'USA'\n",
        "\n",
        "print(my_dict)\n"
      ],
      "metadata": {
        "colab": {
          "base_uri": "https://localhost:8080/"
        },
        "id": "b_MUusRaYiLO",
        "outputId": "8455cfed-497e-4ca4-ae67-9a0bc2516291"
      },
      "execution_count": 33,
      "outputs": [
        {
          "output_type": "stream",
          "name": "stdout",
          "text": [
            "{'name': 'John', 'age': 25, 'country': 'USA'}\n"
          ]
        }
      ]
    },
    {
      "cell_type": "code",
      "source": [
        "#  23. Write a code to access the value associated with the key \"name\" in the dictionary {'name': 'Alice', 'age': 30}.\n",
        "my_dict = {'name': 'Alice', 'age': 30}\n",
        "\n",
        "name_value = my_dict['name']\n",
        "\n",
        "print(name_value)\n"
      ],
      "metadata": {
        "colab": {
          "base_uri": "https://localhost:8080/"
        },
        "id": "cR6ssSPYYtjT",
        "outputId": "20c93353-fcf5-4a1d-d23a-d18c4434a917"
      },
      "execution_count": 34,
      "outputs": [
        {
          "output_type": "stream",
          "name": "stdout",
          "text": [
            "Alice\n"
          ]
        }
      ]
    },
    {
      "cell_type": "code",
      "source": [
        "#  24. Write a code to remove the key \"age\" from the dictionary {'name': 'Bob', 'age': 22, 'city': 'New York'}.\n",
        "my_dict = {'name': 'Bob', 'age': 22, 'city': 'New York'}\n",
        "\n",
        "my_dict.pop('age')\n",
        "\n",
        "print(my_dict)\n"
      ],
      "metadata": {
        "colab": {
          "base_uri": "https://localhost:8080/"
        },
        "id": "1V1ZgDsJY53b",
        "outputId": "47e2280a-8bb1-4d3c-8c0d-903cf414840a"
      },
      "execution_count": 35,
      "outputs": [
        {
          "output_type": "stream",
          "name": "stdout",
          "text": [
            "{'name': 'Bob', 'city': 'New York'}\n"
          ]
        }
      ]
    },
    {
      "cell_type": "code",
      "source": [
        "#  25. Write a code to check if the key \"city\" exists in the dictionary {'name': 'Alice', 'city': 'Paris'}.\n",
        "my_dict = {'name': 'Alice', 'city': 'Paris'}\n",
        "\n",
        "if 'city' in my_dict:\n",
        "    print(\"Key 'city' exists in the dictionary.\")\n",
        "else:\n",
        "    print(\"Key 'city' does not exist in the dictionary.\")\n"
      ],
      "metadata": {
        "colab": {
          "base_uri": "https://localhost:8080/"
        },
        "id": "_sZ2TxQFZDSL",
        "outputId": "eecd4b09-6267-45bc-a255-ccdb195039d6"
      },
      "execution_count": 36,
      "outputs": [
        {
          "output_type": "stream",
          "name": "stdout",
          "text": [
            "Key 'city' exists in the dictionary.\n"
          ]
        }
      ]
    },
    {
      "cell_type": "code",
      "source": [
        "#  26. Write a code to create a list, a tuple, and a dictionary, and print them all.\n",
        "my_list = [1, 2, 3]\n",
        "\n",
        "my_tuple = ('a', 'b', 'c')\n",
        "\n",
        "my_dict = {'name': 'Merlin', 'age': 777}\n",
        "\n",
        "print(\"List:\", my_list, \"\\nTuple:\", my_tuple, \"\\nDictionary:\", my_dict)\n",
        "\n"
      ],
      "metadata": {
        "colab": {
          "base_uri": "https://localhost:8080/"
        },
        "id": "7gSS9f_RZR0X",
        "outputId": "9a3b41c1-e406-418c-ab0e-b4695ea51a51"
      },
      "execution_count": 41,
      "outputs": [
        {
          "output_type": "stream",
          "name": "stdout",
          "text": [
            "List: [1, 2, 3] \n",
            "Tuple: ('a', 'b', 'c') \n",
            "Dictionary: {'name': 'Merlin', 'age': 777}\n"
          ]
        }
      ]
    },
    {
      "cell_type": "code",
      "source": [
        "#  27. Write a code to create a list of 5 random numbers between 1 and 100, sort it in ascending order, and print the result.(replaced)\n",
        "import random\n",
        "\n",
        "random_numbers = [random.randint(1, 100) for _ in range(5)]\n",
        "random_numbers.sort()\n",
        "print(random_numbers)\n"
      ],
      "metadata": {
        "colab": {
          "base_uri": "https://localhost:8080/"
        },
        "id": "BIWLD4bCZ6tI",
        "outputId": "b74d79cf-de4f-4682-80db-f001340bf6bd"
      },
      "execution_count": 44,
      "outputs": [
        {
          "output_type": "stream",
          "name": "stdout",
          "text": [
            "[1, 14, 18, 49, 52]\n"
          ]
        }
      ]
    },
    {
      "cell_type": "code",
      "source": [
        "# 28. Write a code to create a list with strings and print the element at the third index.\n",
        "my_list = [\"spell\", \"magic\", \"Merlin\", \"autur\", \"wizard\"]\n",
        "print(my_list[3])\n"
      ],
      "metadata": {
        "colab": {
          "base_uri": "https://localhost:8080/"
        },
        "id": "fLIaPOOmabGn",
        "outputId": "8121de58-2530-4334-a0a5-793c458619c9"
      },
      "execution_count": 46,
      "outputs": [
        {
          "output_type": "stream",
          "name": "stdout",
          "text": [
            "autur\n"
          ]
        }
      ]
    },
    {
      "cell_type": "code",
      "source": [
        "#  29. Write a code to combine two dictionaries into one and print the result.\n",
        "dict1 = {'a': 1, 'b': 2}\n",
        "dict2 = {'c': 3, 'd': 4}\n",
        "\n",
        "\n",
        "combined_dict = {**dict1, **dict2}\n",
        "\n",
        "print(combined_dict)\n"
      ],
      "metadata": {
        "colab": {
          "base_uri": "https://localhost:8080/"
        },
        "id": "irjOr_taaxHd",
        "outputId": "6718a349-ff84-4235-fb8b-610fcb57ad96"
      },
      "execution_count": 47,
      "outputs": [
        {
          "output_type": "stream",
          "name": "stdout",
          "text": [
            "{'a': 1, 'b': 2, 'c': 3, 'd': 4}\n"
          ]
        }
      ]
    },
    {
      "cell_type": "code",
      "source": [
        "#  30. Write a code to convert a list of strings into a set.\n",
        "my_list = [\"apple\", \"banana\", \"cherry\", \"apple\", \"banana\"]\n",
        "my_set = set(my_list)\n",
        "print(my_set)\n"
      ],
      "metadata": {
        "colab": {
          "base_uri": "https://localhost:8080/"
        },
        "id": "s4kZpf8lbDeg",
        "outputId": "b58ae583-da19-4bc6-ee95-051630f540dc"
      },
      "execution_count": 48,
      "outputs": [
        {
          "output_type": "stream",
          "name": "stdout",
          "text": [
            "{'apple', 'cherry', 'banana'}\n"
          ]
        }
      ]
    }
  ]
}