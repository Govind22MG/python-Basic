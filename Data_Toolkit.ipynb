{
  "nbformat": 4,
  "nbformat_minor": 0,
  "metadata": {
    "colab": {
      "provenance": []
    },
    "kernelspec": {
      "name": "python3",
      "display_name": "Python 3"
    },
    "language_info": {
      "name": "python"
    }
  },
  "cells": [
    {
      "cell_type": "markdown",
      "source": [
        "# Data Toolkit\n"
      ],
      "metadata": {
        "id": "BMDdA-SU5RTs"
      }
    },
    {
      "cell_type": "markdown",
      "source": [
        "1.  What is NumPy, and why is it widely used in Python\n",
        "\n",
        "  ->NumPy is a fundamental, open-source Python library used primarily for scientific and numerical computing. Its name stands for \"Numerical Python.\" The core feature of NumPy is the n-dimensional array object (ndarray), which allows for efficient storage and manipulation of large datasets within arrays that have a uniform data type.\n",
        "\n",
        "\n",
        "# NumPy is widely used in Python for several reasons:\n",
        "\n",
        "- Performance: NumPy arrays are stored in contiguous memory blocks and most operations are implemented in C or C++, enabling numerical computations to be much faster than with traditional Python lists—sometimes over 50 times faster for common tasks.\n",
        "\n",
        "- Versatility: NumPy supports a wide range of mathematical and logical operations, including linear algebra, statistics, Fourier transforms, random simulations, broadcasting, vectorization, and more.\n",
        "\n",
        "- Foundation for Data Science: Many Python libraries for data analysis (such as Pandas), machine learning (scikit-learn), and visualization (Matplotlib) are built on top of NumPy or depend on its array structures.\n",
        "\n",
        "- Ease of Use: Operations on entire arrays can be performed without explicit Python loops, making code concise, readable, and less error-prone.\n",
        "\n",
        "- Interoperability: NumPy arrays are the de facto standard for exchanging data between different libraries and software in the Python ecosystem.\n",
        "\n",
        "- Because of these strengths, NumPy is considered the backbone of numerical computing in Python, enabling efficient development in fields ranging from data science to engineering and scientific research"
      ],
      "metadata": {
        "id": "hc4Ju-bW5Yoy"
      }
    },
    {
      "cell_type": "markdown",
      "source": [
        "2. How does broadcasting work in NumPy\n",
        "\n",
        "  ->Broadcasting in NumPy works by allowing arrays of different shapes to be used together in element-wise operations by following these steps:\n",
        "\n",
        "\n",
        "- NumPy compares the shapes of the arrays starting from the last dimension and moves backward.\n",
        "\n",
        "- It checks if the dimensions are equal or if one of the dimensions is 1 (compatible dimensions).\n",
        "\n",
        "- If the arrays have different numbers of dimensions, the smaller array's shape is padded on the left with 1s to match the number of dimensions.\n",
        "\n",
        "- NumPy then \"stretches\" or virtually replicates the smaller array along the dimensions where it is 1, so it matches the larger array's shape. This stretching is conceptual and does not involve copying data, which keeps the operation efficient.\n",
        "\n",
        "- Finally, element-wise operations are performed on these compatible shapes.\n",
        "\n",
        "If these conditions cannot be met, NumPy throws an error.\n",
        "\n",
        "For example, when adding a 1D array of shape (3,) to a 2D array of shape (2, 3), NumPy stretches the 1D array to match the 2D shape and performs the addition element-wise.\n",
        "\n",
        "--\n",
        "   Broadcasting makes array operations fast, memory efficient, and avoids explicit loops in Python by leveraging lower-level optimizations"
      ],
      "metadata": {
        "id": "KLl8sssi52Ob"
      }
    },
    {
      "cell_type": "markdown",
      "source": [
        "3.  What is a Pandas DataFrame\n",
        "\n",
        "  -> A Pandas DataFrame is a two-dimensional, labeled data structure in Python that organizes data into rows and columns, much like a table in a spreadsheet or a database. It can hold different types of data (numbers, text, dates) across its columns, making it a flexible structure for data manipulation and analysis.\n",
        "\n",
        "-- Key features of a DataFrame include:\n",
        "\n",
        "Labeled axes: Both rows and columns have labels (row indexes and column names).\n",
        "\n",
        "Heterogeneous data types: Different columns can store different data types.\n",
        "\n",
        "Size mutable: You can add or remove rows and columns.\n",
        "\n",
        "Supports arithmetic operations and alignment based on labels.\n",
        "\n",
        "Can be created from various inputs like lists, dictionaries, NumPy arrays, or external data sources (CSV, Excel, databases).\n",
        "\n",
        "DataFrames are the primary data structure in the Pandas library and are widely used for cleaning, transforming, exploring, and analyzing structured data efficiently in Python\n"
      ],
      "metadata": {
        "id": "5-8sftPv6pA1"
      }
    },
    {
      "cell_type": "markdown",
      "source": [
        "4.  Explain the use of the groupby() method in Pandas\n",
        "\n",
        "  ->The groupby() method in Pandas is used to split a DataFrame into groups based on one or more column values, so you can perform operations on each group independently. It follows a \"split-apply-combine\" process:\n",
        "\n",
        "- Split: The data is divided into groups by unique values in the specified column(s).\n",
        "\n",
        "- Apply: A function is applied to each group separately (e.g., sum, mean, count, or custom functions).\n",
        "\n",
        "- Combine: The results from each group are combined into a new DataFrame or Series.\n",
        "\n",
        "--Uses of groupby():\n",
        "\n",
        "- Aggregate data to get summary statistics by group (like total sales per product category).\n",
        "\n",
        "- Transform data within groups.\n",
        "\n",
        "- Filter groups based on conditions.\n",
        "\n",
        "- Analyze and compare subsets of data efficiently.\n"
      ],
      "metadata": {
        "id": "vpX8vHv4-Eh_"
      }
    },
    {
      "cell_type": "markdown",
      "source": [
        "5.  Why is Seaborn preferred for statistical visualizations\n",
        "\n",
        "  ->Seaborn is preferred for statistical visualizations because:\n",
        "\n",
        "- Higher-level interface: It is built on top of Matplotlib and provides a simpler, more intuitive API that requires less code to create complex statistical plots.\n",
        "\n",
        "- Beautiful default styles: Seaborn comes with attractive built-in themes and color palettes that make visualizations more aesthetically pleasing by default.\n",
        "\n",
        "- Advanced statistical plots: It offers easy-to-use functions for specialized statistical visuals like violin plots, box plots, heatmaps, and regression plots that Matplotlib does not provide out-of-the-box.\n",
        "\n",
        "- Better integration with Pandas: Seaborn works smoothly with Pandas DataFrames, allowing direct plotting from data tables without needing much preprocessing.\n",
        "\n",
        "- Automatic handling of plot details: It manages aspects like overlapping plots, axis labels, and legends more effectively, reducing the effort needed to customize plots manually.\n",
        "\n",
        "- Faster exploratory data analysis: Its concise syntax and rich features help users quickly generate informative, publication-quality statistical graphics with minimal effort."
      ],
      "metadata": {
        "id": "C1aTcgQm-sUV"
      }
    },
    {
      "cell_type": "markdown",
      "source": [
        "6.  What are the differences between NumPy arrays and Python lists\n",
        "\n",
        "  ->Here are the differences between NumPy arrays and Python lists in points:\n",
        "\n",
        "- NumPy arrays store elements of the same data type; Python lists can hold different data types.\n",
        "\n",
        "- NumPy arrays use contiguous memory, making them more memory efficient; lists store references scattered in memory.\n",
        "\n",
        "- NumPy arrays offer faster performance for numerical computations due to C-based optimizations; lists are slower for such operations.\n",
        "\n",
        "- NumPy supports element-wise operations and broadcasting directly; Python lists require explicit loops for element-wise operations.\n",
        "\n",
        "- NumPy arrays have a fixed size, while lists are dynamically resizable (elements can be added or removed easily).\n",
        "\n",
        "- NumPy provides a wide range of mathematical and scientific functions; lists are general-purpose containers without specialized numerical methods.\n",
        "\n",
        "- NumPy is preferred for scientific and numerical computing; Python lists are used for general programming and heterogeneous data."
      ],
      "metadata": {
        "id": "BVUMufNq-9f3"
      }
    },
    {
      "cell_type": "markdown",
      "source": [
        "7.  What is a heatmap, and when should it be used\n",
        "\n",
        "  -> A heatmap is a two-dimensional data visualization technique that uses colors to represent the magnitude or intensity of numerical values in a dataset, usually arranged in a grid or matrix format. The color variation (such as hue or intensity) visually reflects the size of the values.\n",
        "\n",
        "\n",
        "-- When to use a heatmap:\n",
        "\n",
        "- To identify patterns, trends, and anomalies in large datasets quickly.\n",
        "\n",
        "- When you want to compare multiple variables or categories simultaneously.\n",
        "\n",
        "- To visualize correlations or relationships between variables.\n",
        "\n",
        "- To display data density or concentration, such as website click activity or crime hotspots.\n",
        "\n",
        "- When you need a compact, intuitive graphical summary of complex data.\n",
        "\n",
        "- In fields like finance, healthcare, marketing, and scientific research for exploratory data analysis.\n",
        "\n",
        "- Heatmaps make it easier to see visual clusters, outliers, or regions of interest in data, helping with decision-making and communication of insights"
      ],
      "metadata": {
        "id": "N_GWyfL7_d0J"
      }
    },
    {
      "cell_type": "markdown",
      "source": [
        "8.  What does the term “vectorized operation” mean in NumPy\n",
        "\n",
        "  -> In NumPy, a vectorized operation means performing mathematical or logical operations on entire arrays at once, without needing to write explicit loops to process each element individually.\n",
        "\n",
        "This is possible because NumPy delegates these operations to highly optimized, pre-compiled low-level code (usually in C), which efficiently applies the operation element-wise across the array. This approach significantly boosts performance and makes the code simpler and cleaner.\n",
        "\n",
        "-- Key points about vectorized operations in NumPy:\n",
        "\n",
        "- Operate on whole arrays (vectors) simultaneously instead of element-by-element loops.\n",
        "\n",
        "- Result in much faster execution due to optimized underlying implementation.\n",
        "\n",
        "- Lead to more concise code, easier to read and maintain.\n",
        "\n",
        "- Support common operations like addition, subtraction, multiplication, comparisons, and many more applied directly on arrays."
      ],
      "metadata": {
        "id": "1JacxQZm_zd-"
      }
    },
    {
      "cell_type": "markdown",
      "source": [
        "9.  How does Matplotlib differ from Plotly\n",
        "\n",
        "  ->Matplotlib and Plotly differ mainly in their approach to data visualization:\n",
        "\n",
        "--  Interactivity:\n",
        "\n",
        "- Matplotlib produces static plots by default, suitable for printed reports and academic papers.\n",
        "\n",
        "- Plotly creates interactive plots with built-in features like zooming, panning, tooltips, and clickable legends, ideal for dashboards and web apps.\n",
        "\n",
        "-- Ease of Use and Aesthetics:\n",
        "\n",
        "- Matplotlib requires more code and customization effort to make visually appealing plots.\n",
        "\n",
        "- Plotly offers modern, polished visuals out of the box, often with less code.\n",
        "\n",
        "--Customization:\n",
        "\n",
        "- Matplotlib provides very fine-grained control over every element in a plot, allowing detailed and complex customization.\n",
        "\n",
        "- Plotly allows customization but with a more user-friendly and high-level API focused on interactivity.\n",
        "\n",
        "-- Use Cases:\n",
        "\n",
        "- Matplotlib is preferred for static, publication-quality figures and when granular control is needed.\n",
        "\n",
        "- Plotly is preferred for interactive exploratory data analysis, presentations, and dashboards.\n",
        "\n",
        "-- Integration:\n",
        "\n",
        "- Both integrate well with Python data tools, but Plotly also pairs with dashboard frameworks like Dash for building interactive web applications easily.\n",
        "\n",
        "\n",
        "\n",
        "In essence, use Matplotlib when you need static, highly customizable plots, especially for publication, and use Plotly when you want interactive, shareable, and visually appealing plots with minimal effort."
      ],
      "metadata": {
        "id": "OW25LMlvAl6h"
      }
    },
    {
      "cell_type": "markdown",
      "source": [
        "10.  What is the significance of hierarchical indexing in Pandas\n",
        "\n",
        "  -> The significance of hierarchical indexing (also called multi-level indexing) in Pandas is:\n",
        "\n",
        "- It allows you to have multiple levels of indexes on a DataFrame or Series, organizing data in a hierarchical structure instead of just one flat index.\n",
        "\n",
        "- Enables storing and manipulating higher-dimensional data within a two-dimensional tabular structure by using multiple index levels to represent additional dimensions.\n",
        "\n",
        "- Simplifies complex data queries by letting you access and group data at different levels of the hierarchy easily.\n",
        "\n",
        "- Provides better organization and meaningful grouping in datasets with multiple categorical variables.\n",
        "\n",
        "- Enhances performance for grouped operations and lookups because queries can be performed directly on indexed levels.\n",
        "\n",
        "- Supports pivoting, unstacking, and reshaping operations, making it flexible to transform data between long and wide formats.\n",
        "\n",
        "- Facilitates advanced data analysis where datasets have multiple related attributes (e.g., geographic region, time, product category).\n",
        "\n",
        "In essence, hierarchical indexing makes it easier and more efficient to work with complex, multi-dimensional data within Pandas’ two-dimensional DataFrames.\n",
        "\n"
      ],
      "metadata": {
        "id": "N6dMs3S9BMkQ"
      }
    },
    {
      "cell_type": "markdown",
      "source": [
        "11.  What is the role of Seaborn’s pairplot() function\n",
        "\n",
        "\n",
        "  -> Seaborn’s pairplot() function is used to visualize pairwise relationships between multiple variables in a dataset. It creates a grid of scatter plots for every combination of numerical variables, with each variable plotted against every other variable.\n",
        "\n",
        "-- Key points about pairplot():\n",
        "- Shows scatter plots for each pair of variables to explore their relationships.\n",
        "\n",
        "- Diagonal plots show the distribution (histogram or KDE) of each individual variable.\n",
        "\n",
        "- Helps identify correlations, patterns, or clusters across variables in one comprehensive figure.\n",
        "\n",
        "- Supports color-coding points based on a categorical variable (using the hue parameter) for more insightful comparisons.\n",
        "\n",
        "- Useful for quick exploratory data analysis to understand the structure and relationships in multivariate datasets.\n",
        "\n",
        "In essence, pairplot() gives a convenient way to summarize and explore data visually in a compact matrix format"
      ],
      "metadata": {
        "id": "LzCH7e76BeuH"
      }
    },
    {
      "cell_type": "markdown",
      "source": [
        "12.  What is the purpose of the describe() function in Pandas\n",
        "\n",
        "  -> The describe() function in Pandas is used to quickly generate a statistical summary of the data in a DataFrame or Series.\n",
        "\n",
        "--Purpose:\n",
        "- Provides key descriptive statistics such as:\n",
        "\n",
        "- Count of non-missing values\n",
        "\n",
        "-Mean (average)\n",
        "\n",
        "-Standard deviation (spread of data)\n",
        "\n",
        "- Minimum and maximum values\n",
        "\n",
        "- Percentiles (25%, 50% (median), and 75%)\n",
        "\n",
        "- Helps to understand the central tendency, dispersion, and distribution shape of numerical data.\n",
        "\n",
        "- Can also provide summary statistics for categorical data, including count, number of unique values, most frequent value, and frequency of the most common value.\n",
        "\n",
        "- Useful as a first step in data exploration for quickly grasping the data’s main characteristics.\n",
        "\n",
        "-- Benefits:\n",
        "- Fast and convenient way to get an overview of a dataset.\n",
        "\n",
        "- Supports customization for including/excluding specific data types or defining percentiles.\n",
        "\n",
        "- Works for both numerical and categorical data.\n",
        "\n",
        "In essence, describe() is a powerful tool for initial data analysis to understand your dataset’s structure and key statistics efficiently.\n",
        "\n",
        "\n"
      ],
      "metadata": {
        "id": "4PO1PPTuBtBp"
      }
    },
    {
      "cell_type": "markdown",
      "source": [
        "13.  Why is handling missing data important in Pandas\n",
        "\n",
        "  -> Handling missing data in Pandas is important because:\n",
        "\n",
        "- Ensures Accuracy: Missing values can lead to incorrect analysis and misleading insights if not properly addressed.\n",
        "\n",
        "- Improves Model Performance: Many machine learning models require complete data; handling missing values helps the models perform better and produce reliable predictions.\n",
        "\n",
        "- Prevents Bias: Unmanaged missing data can introduce bias in results, especially if missingness is systematic rather than random.\n",
        "\n",
        "- Maintains Data Integrity: Cleaning or imputing missing data keeps the dataset consistent and usable for further analysis.\n",
        "\n",
        "- Preserves Sample Size: Proper imputation or treatment allows retaining more data points, enhancing the statistical power of analyses.\n",
        "\n",
        "- Avoids Errors: Many statistical and analytical functions fail or produce unreliable results if missing data is present.\n"
      ],
      "metadata": {
        "id": "AyeuIjepMNAT"
      }
    },
    {
      "cell_type": "markdown",
      "source": [
        "14.  What are the benefits of using Plotly for data visualization\n",
        "\n",
        "  ->The benefits of using Plotly for data visualization include:\n",
        "\n",
        "- Interactive Visualizations: Plotly charts support zooming, panning, hovering tooltips, legends, and clickable elements, which enhance data exploration and user engagement.\n",
        "\n",
        "- Web Integration: Easily embed interactive plots in web applications, dashboards, or notebooks using frameworks like Dash.\n",
        "\n",
        "- Ease of Use: Plotly offers a clear and concise syntax, including a high-level interface (Plotly Express) for creating complex charts with minimal code.\n",
        "\n",
        "- Wide Range of Chart Types: Supports many chart types including line plots, scatter plots, bar charts, pie charts, heatmaps, and 3D visualizations.\n",
        "\n",
        "- Customization: Highly customizable visuals for tailored presentation of data with styling, annotations, and layout adjustments.\n",
        "\n",
        "- Real-Time Data Exploration: Enables dynamic exploration of large and complex datasets in real time.\n",
        "\n",
        "- Cross-Language Support: Works with Python, R, and JavaScript, facilitating multi-language projects.\n",
        "\n",
        "- Community and Support: Large active community providing continuous development, support, and contributions.\n",
        "\n",
        "Overall, Plotly combines interactivity, visual appeal, flexibility, and ease of use, making it a powerful tool for data visualization in analysis, presentations, and web applications."
      ],
      "metadata": {
        "id": "zhA1PKFXM3Jz"
      }
    },
    {
      "cell_type": "markdown",
      "source": [
        "15.  How does NumPy handle multidimensional arrays\n",
        "\n",
        "  -> NumPy handles multidimensional arrays using its core data structure called the ndarray, which is a fixed-size, homogeneous container for data organized in multiple dimensions.\n",
        "\n",
        "-- Key aspects of handling multidimensional arrays in NumPy:\n",
        "\n",
        "- Creation: Arrays can be created using functions like np.array() with nested lists, or specialized functions like np.zeros(), np.ones(), and np.arange() combined with reshape() to define dimensions.\n",
        "\n",
        "- Shape and Dimensions: The shape (number of elements in each dimension) and number of dimensions can be accessed and manipulated, allowing arrays to represent data from 1D up to many dimensions (2D matrices, 3D tensors, etc.).\n",
        "\n",
        "- Indexing and Slicing: Supports multi-level indexing and slicing, e.g., arr to access elements in specific positions across dimensions.\n",
        "\n",
        "- Broadcasting: NumPy supports arithmetic on arrays of different shapes by automatically expanding smaller arrays to match larger ones without copying data.\n",
        "\n",
        "-Efficient Computations: Operations like addition, multiplication, and matrix products are implemented in optimized compiled code, enabling fast element-wise and linear algebra computations on multidimensional data.\n",
        "\n",
        "- Iteration: You can iterate through elements or subarrays across any dimension using loops iterating through the array's shape.\n",
        "\n",
        "These features make NumPy powerful for scientific computing, enabling handling and computation on complex multidimensional datasets efficiently."
      ],
      "metadata": {
        "id": "FbVryO4yNX-V"
      }
    },
    {
      "cell_type": "markdown",
      "source": [
        "16.  What is the role of Bokeh in data visualization\n",
        "\n",
        "  ->The role of Bokeh in data visualization is to provide a powerful Python library for creating interactive and high-performance visualizations that can be rendered in web browsers.\n",
        "\n",
        "-- Key roles of Bokeh:\n",
        "- Interactive plots: It enables interactive features like zooming, panning, hovering, and clickable elements, enhancing user engagement and data exploration.\n",
        "\n",
        "- Web integration: Bokeh visualizations can be easily embedded in web applications built with frameworks like Django and Flask or exported as standalone HTML files.\n",
        "\n",
        "Flexible plotting: Provides both high-level (simplified plots) and low-level (custom glyphs) interfaces for creating a wide variety of visualizations.\n",
        "\n",
        "Compatibility: Works smoothly with other PyData tools such as Pandas and Jupyter Notebooks for seamless data visualization workflows.\n",
        "\n",
        "Customizability: Supports JavaScript callbacks for advanced, specialized interactive visualizations.\n",
        "\n",
        "Dashboarding: Facilitates building complex, responsive dashboards with layout options and widgets.\n",
        "\n",
        "Bokeh is especially powerful when you need to create interactive visualizations for web-based data applications and dashboards, making it a preferred choice for data scientists and developers aiming to present data insights dynamically.\n",
        "\n"
      ],
      "metadata": {
        "id": "8B61Kp1_N3Gj"
      }
    },
    {
      "cell_type": "markdown",
      "source": [
        "17.  Explain the difference between apply() and map() in Pandas\n",
        "\n",
        "  -> The difference between apply() and map() in Pandas is as follows:\n",
        "\n",
        "--map():\n",
        "\n",
        "- Works only on Series (single column).\n",
        "\n",
        "- Used for element-wise transformations or mapping values.\n",
        "\n",
        "- Can accept a dictionary, Series, or a function to map old values to new ones.\n",
        "\n",
        "- Often used to replace or map values efficiently in a column.\n",
        "\n",
        "--apply():\n",
        "\n",
        "- Works on both Series and DataFrames.\n",
        "\n",
        "- Can apply a function along an axis (rows or columns) in DataFrames or element-wise for Series.\n",
        "\n",
        "- More versatile, supporting complex functions, aggregations, or transformations that can't be vectorized easily.\n",
        "\n",
        "- Suitable for applying functions that operate on entire rows, columns, or reduce the data (e.g., sum, mean)."
      ],
      "metadata": {
        "id": "LNdFrneSOkb6"
      }
    },
    {
      "cell_type": "markdown",
      "source": [
        "18.  What are some advanced features of NumPy\n",
        "\n",
        "  -> advanced features of NumPy that make it powerful for scientific and numerical computing include:\n",
        "\n",
        "- Multidimensional Arrays (ndarray): Efficient handling of large n-dimensional arrays with fast vectorized operations.\n",
        "\n",
        "- Broadcasting: Enables arithmetic operations between arrays of different shapes, expanding smaller arrays automatically without copying data.\n",
        "\n",
        "- Universal Functions (ufuncs): Optimized element-wise operations like trigonometric, exponential, and logarithmic functions implemented in fast compiled code.\n",
        "\n",
        "- Linear Algebra: Supports matrix multiplication, inversion, eigenvalues, singular value decomposition, and other fundamental linear algebra routines.\n",
        "\n",
        "- Random Number Generation: Extensive suite of tools for generating random numbers with different distributions for simulations and modeling.\n",
        "\n",
        "Fourier Transforms: Tools for fast computation of discrete Fourier transforms important in signal and image processing.\n",
        "\n",
        "Advanced Indexing and Slicing: Supports sophisticated indexing schemes such as boolean masking, fancy indexing, and multi-axis slicing.\n",
        "\n",
        "Memory Efficiency: Uses contiguous blocks of memory and homogeneous data types, enhancing performance and reducing memory overhead.\n",
        "\n",
        "Integration with Scientific Ecosystem: Seamless interoperability with SciPy, Pandas, Matplotlib, scikit-learn, and other scientific Python libraries.\n",
        "\n",
        "Performance: Operations are executed at compiled C speed, providing significant acceleration over standard Python loops.\n",
        "\n",
        "Masked Arrays and Structured Arrays: Support for handling missing or invalid data and complex heterogeneous data types.\n",
        "\n",
        "Tooling for Big Data and Parallelism: Compatible with specialized libraries for distributed computing and GPU acceleration."
      ],
      "metadata": {
        "id": "5S6LLlBOO7Sx"
      }
    },
    {
      "cell_type": "markdown",
      "source": [
        "19.  How does Pandas simplify time series analysis\n",
        "\n",
        "  -> Pandas simplifies time series analysis through several powerful features:\n",
        "\n",
        "- Datetime Indexing: It allows setting DateTime objects as the index of a DataFrame, enabling easy time-based slicing and filtering.\n",
        "\n",
        "- Date Range Generation: Functions like date_range() help create sequences of dates with specified frequency (daily, monthly, yearly, etc.).\n",
        "\n",
        "- Resampling: Ability to change the frequency of time series data (e.g., converting minute-level data to daily summaries) using methods like resample().\n",
        "\n",
        "- Rolling Windows: Supports rolling calculations (moving averages, sums) to analyze trends over a sliding time window.\n",
        "\n",
        "Time-aware Grouping: Groups data based on time periods (e.g., by month or year) to aggregate or analyze seasonal patterns.\n",
        "\n",
        "Handling Time Zones: Provides tools to manage timezone-aware date and time data.\n",
        "\n",
        "Date and Time Components Extraction: Easily extract year, month, day, hour, etc., from date-time columns for feature engineering.\n",
        "\n",
        "Visualization Integration: Seamless integration with visualization libraries (Matplotlib, Seaborn) to plot and explore time series data.\n",
        "\n",
        "Efficient Storage and Computation: Built on NumPy’s optimized datetime64 types for efficient storage and fast computations.\n",
        "\n",
        "Support for Irregular and Regular Data: Handles both equally spaced and irregular time series.\n"
      ],
      "metadata": {
        "id": "AzY1XBVdPdEm"
      }
    },
    {
      "cell_type": "markdown",
      "source": [
        "20.  What is the role of a pivot table in Pandas\n",
        "\n",
        "  -> The role of a pivot table in Pandas is to transform and summarize data by reshaping a DataFrame to provide an aggregated, spreadsheet-style view. It allows you to:\n",
        "\n",
        "- Group data based on one or more keys (index and columns).\n",
        "\n",
        "- Aggregate values using functions like mean, sum, count, etc.\n",
        "\n",
        "- Convert data from a \"long\" format (many rows) into a \"wide\" format (fewer rows, more columns) for easier comparison and analysis.\n",
        "\n",
        "- Analyze relationships between variables by summarizing large datasets efficiently.\n",
        "\n",
        "- Handle data with duplicate entries for index-column pairs by aggregating them.\n",
        "\n",
        "- Create multi-level indexes (hierarchical indexing) for detailed data analysis."
      ],
      "metadata": {
        "id": "S6QFKSYXSC4w"
      }
    },
    {
      "cell_type": "markdown",
      "source": [
        "21.  Why is NumPy’s array slicing faster than Python’s list slicing\n",
        "\n",
        "  -> NumPy’s array slicing is faster than Python’s list slicing mainly because of the following reasons:\n",
        "\n",
        "- Contiguous Memory Storage: NumPy arrays store elements in contiguous blocks of memory, enabling fast access and slicing via simple pointer arithmetic. In contrast, Python lists store pointers to objects scattered in memory, making slicing less efficient.\n",
        "\n",
        "- Homogeneous Data Types: All elements in a NumPy array have the same data type, allowing uniform and compact memory layout. Python lists can contain heterogeneous data types, so slicing involves more overhead to manage different types.\n",
        "\n",
        "- View vs Copy: NumPy slicing returns a view of the original array, meaning it does not create a new copy but just references the same memory block with different strides. Python list slicing creates a new list (a copy), which takes more time and memory.\n",
        "\n",
        "- Optimized Low-level Implementation: NumPy operations, including slicing, are implemented in optimized C code, reducing the overhead compared to Python’s interpreted list operations.\n",
        "\n",
        "Because of these factors, NumPy slicing operations are typically much faster and more memory efficient than equivalent Python list slicing."
      ],
      "metadata": {
        "id": "xBb7gYxfSXsg"
      }
    },
    {
      "cell_type": "markdown",
      "source": [
        "22. What are some common use cases for Seaborn?\n",
        "\n",
        "  -> Common use cases for Seaborn include:\n",
        "\n",
        "- Exploring Relationships Between Variables: Using scatter plots, pair plots, and regression plots to visualize correlations and patterns in the data.\n",
        "\n",
        "- Visualizing Distributions: Plotting histograms, KDE plots, and rug plots to understand the distribution of single or multiple variables.\n",
        "\n",
        "- Comparing Categories: Using bar plots, box plots, violin plots, and strip plots to compare statistical summaries across different groups or categories.\n",
        "\n",
        "- Multifaceted Plots: Creating grid plots with FacetGrid or catplot to visualize data across multiple dimensions or subsets, facilitating comparison across categories.\n",
        "\n",
        "- Statistical Visualization: Making it easy to visualize linear regression, confidence intervals, and other statistical summaries.\n",
        "\n",
        "- Heatmaps: Visualizing correlation matrices or other two-dimensional data to detect patterns and relationships.\n",
        "\n",
        "- Time Series and Trend Analysis: Using line plots to explore how variables behave over time.\n",
        "\n",
        "Seaborn’s high-level interface, attractive default styles, and tight integration with Pandas make it ideal for quick, informative, and aesthetically pleasing statistical visualizations.\n",
        "\n",
        "\n"
      ],
      "metadata": {
        "id": "iPNHRfNySnWq"
      }
    },
    {
      "cell_type": "code",
      "source": [
        "# 1.  How do you create a 2D NumPy array and calculate the sum of each row\n",
        "\n",
        "\n",
        "import numpy as np\n",
        "\n",
        "\n",
        "arr = np.array([[1, 2, 3],\n",
        "                [4, 5, 6],\n",
        "                [7, 8, 9]])\n",
        "\n",
        "row_sums = np.sum(arr, axis=1)\n",
        "\n",
        "print(row_sums)\n"
      ],
      "metadata": {
        "colab": {
          "base_uri": "https://localhost:8080/"
        },
        "id": "bp9JyyfATEO2",
        "outputId": "18ca7a22-ca42-47d3-9a49-70c68309e1b0"
      },
      "execution_count": 2,
      "outputs": [
        {
          "output_type": "stream",
          "name": "stdout",
          "text": [
            "[ 6 15 24]\n"
          ]
        }
      ]
    },
    {
      "cell_type": "code",
      "source": [
        "# 2.  Write a Pandas script to find the mean of a specific column in a DataFrame\n",
        "\n",
        "import pandas as pd\n",
        "\n",
        "\n",
        "data = {\n",
        "    'A': [10, 20, 30, 40],\n",
        "    'B': [5, 15, 25, 35]\n",
        "}\n",
        "\n",
        "df = pd.DataFrame(data)\n",
        "\n",
        "mean_A = df['A'].mean()\n",
        "\n",
        "print(\"Mean of column A:\", mean_A)\n"
      ],
      "metadata": {
        "colab": {
          "base_uri": "https://localhost:8080/"
        },
        "id": "fHNL06A1TW_d",
        "outputId": "2dcb30e9-faa3-4f16-919a-6400225074d5"
      },
      "execution_count": 3,
      "outputs": [
        {
          "output_type": "stream",
          "name": "stdout",
          "text": [
            "Mean of column A: 25.0\n"
          ]
        }
      ]
    },
    {
      "cell_type": "code",
      "source": [
        "# 3.  Create a scatter plot using Matplotlib\n",
        "import matplotlib.pyplot as plt\n",
        "\n",
        "x = [1, 2, 3, 4, 5]\n",
        "y = [10, 8, 6, 4, 2]\n",
        "\n",
        "\n",
        "plt.scatter(x, y)\n",
        "\n",
        "plt.title('Sample Scatter Plot')\n",
        "plt.xlabel('X-axis')\n",
        "plt.ylabel('Y-axis')\n",
        "\n",
        "plt.show()\n"
      ],
      "metadata": {
        "colab": {
          "base_uri": "https://localhost:8080/",
          "height": 472
        },
        "id": "gjehzQfZTi44",
        "outputId": "dda53660-c51f-4bbf-ba9c-9b5ad623a844"
      },
      "execution_count": 4,
      "outputs": [
        {
          "output_type": "display_data",
          "data": {
            "text/plain": [
              "<Figure size 640x480 with 1 Axes>"
            ],
            "image/png": "[encoded data removed]"
          },
          "metadata": {}
        }
      ]
    },
    {
      "cell_type": "code",
      "source": [
        "# 4. How do you calculate the correlation matrix using Seaborn and visualize it with a heatmap\n",
        "\n",
        "import pandas as pd\n",
        "import seaborn as sns\n",
        "import matplotlib.pyplot as plt\n",
        "\n",
        "\n",
        "data = {\n",
        "    'A': [1, 2, 3, 4, 5],\n",
        "    'B': [5, 6, 3, 1, 1],\n",
        "    'C': [2, 7, 4, 5, 6]\n",
        "}\n",
        "df = pd.DataFrame(data)\n",
        "\n",
        "corr_matrix = df.corr()\n",
        "\n",
        "sns.heatmap(corr_matrix, annot=True, cmap='coolwarm')\n",
        "\n",
        "plt.title('Correlation Matrix Heatmap')\n",
        "plt.show()\n"
      ],
      "metadata": {
        "colab": {
          "base_uri": "https://localhost:8080/",
          "height": 452
        },
        "id": "W5fKxIthTjMQ",
        "outputId": "72b3ba4c-c338-4325-a0f3-ae099fbace3a"
      },
      "execution_count": 8,
      "outputs": [
        {
          "output_type": "display_data",
          "data": {
            "text/plain": [
              "<Figure size 640x480 with 2 Axes>"
            ],
            "image/png": "[encoded data removed]"
          },
          "metadata": {}
        }
      ]
    },
    {
      "cell_type": "code",
      "source": [
        "# 5.  Generate a bar plot using Plotly\n",
        "\n",
        "\n",
        "import plotly.express as px\n",
        "\n",
        "\n",
        "data = {\n",
        "    'Fruits': ['Apples', 'Bananas', 'Oranges', 'Grapes'],\n",
        "    'Quantity': [10, 15, 7, 12]\n",
        "}\n",
        "\n",
        "fig = px.bar(data, x='Fruits', y='Quantity', title='Fruit Quantity Bar Plot')\n",
        "\n",
        "\n",
        "fig.show()\n"
      ],
      "metadata": {
        "colab": {
          "base_uri": "https://localhost:8080/",
          "height": 542
        },
        "id": "-tEwWqj8Tjas",
        "outputId": "163b35b4-b4d9-4940-afb5-e916c4dde312"
      },
      "execution_count": 9,
      "outputs": [
        {
          "output_type": "display_data",
          "data": {
            "text/html": [
              "<html>\n",
              "<head><meta charset=\"utf-8\" /></head>\n",
              "<body>\n",
              "    <div>            <script src=\"https://cdnjs.cloudflare.com/ajax/libs/mathjax/2.7.5/MathJax.js?config=TeX-AMS-MML_SVG\"></script><script type=\"text/javascript\">if (window.MathJax && window.MathJax.Hub && window.MathJax.Hub.Config) {window.MathJax.Hub.Config({SVG: {font: \"STIX-Web\"}});}</script>                <script type=\"text/javascript\">window.PlotlyConfig = {MathJaxConfig: 'local'};</script>\n",
              "        <script charset=\"utf-8\" src=\"https://cdn.plot.ly/plotly-2.35.2.min.js\"></script>                <div id=\"99b64589-3476-4546-bacb-32ed28c131c8\" class=\"plotly-graph-div\" style=\"height:525px; width:100%;\"></div>            <script type=\"text/javascript\">                                    window.PLOTLYENV=window.PLOTLYENV || {};                                    if (document.getElementById(\"99b64589-3476-4546-bacb-32ed28c131c8\")) {                    Plotly.newPlot(                        \"99b64589-3476-4546-bacb-32ed28c131c8\",                        [{\"alignmentgroup\":\"True\",\"hovertemplate\":\"Fruits=%{x}\\u003cbr\\u003eQuantity=%{y}\\u003cextra\\u003e\\u003c\\u002fextra\\u003e\",\"legendgroup\":\"\",\"marker\":{\"color\":\"#636efa\",\"pattern\":{\"shape\":\"\"}},\"name\":\"\",\"offsetgroup\":\"\",\"orientation\":\"v\",\"showlegend\":false,\"textposition\":\"auto\",\"x\":[\"Apples\",\"Bananas\",\"Oranges\",\"Grapes\"],\"xaxis\":\"x\",\"y\":[10,15,7,12],\"yaxis\":\"y\",\"type\":\"bar\"}],                        {\"template\":{\"data\":{\"histogram2dcontour\":[{\"type\":\"histogram2dcontour\",\"colorbar\":{\"outlinewidth\":0,\"ticks\":\"\"},\"colorscale\":[[0.0,\"#0d0887\"],[0.1111111111111111,\"#46039f\"],[0.2222222222222222,\"#7201a8\"],[0.3333333333333333,\"#9c179e\"],[0.4444444444444444,\"#bd3786\"],[0.5555555555555556,\"#d8576b\"],[0.6666666666666666,\"#ed7953\"],[0.7777777777777778,\"#fb9f3a\"],[0.8888888888888888,\"#fdca26\"],[1.0,\"#f0f921\"]]}],\"choropleth\":[{\"type\":\"choropleth\",\"colorbar\":{\"outlinewidth\":0,\"ticks\":\"\"}}],\"histogram2d\":[{\"type\":\"histogram2d\",\"colorbar\":{\"outlinewidth\":0,\"ticks\":\"\"},\"colorscale\":[[0.0,\"#0d0887\"],[0.1111111111111111,\"#46039f\"],[0.2222222222222222,\"#7201a8\"],[0.3333333333333333,\"#9c179e\"],[0.4444444444444444,\"#bd3786\"],[0.5555555555555556,\"#d8576b\"],[0.6666666666666666,\"#ed7953\"],[0.7777777777777778,\"#fb9f3a\"],[0.8888888888888888,\"#fdca26\"],[1.0,\"#f0f921\"]]}],\"heatmap\":[{\"type\":\"heatmap\",\"colorbar\":{\"outlinewidth\":0,\"ticks\":\"\"},\"colorscale\":[[0.0,\"#0d0887\"],[0.1111111111111111,\"#46039f\"],[0.2222222222222222,\"#7201a8\"],[0.3333333333333333,\"#9c179e\"],[0.4444444444444444,\"#bd3786\"],[0.5555555555555556,\"#d8576b\"],[0.6666666666666666,\"#ed7953\"],[0.7777777777777778,\"#fb9f3a\"],[0.8888888888888888,\"#fdca26\"],[1.0,\"#f0f921\"]]}],\"heatmapgl\":[{\"type\":\"heatmapgl\",\"colorbar\":{\"outlinewidth\":0,\"ticks\":\"\"},\"colorscale\":[[0.0,\"#0d0887\"],[0.1111111111111111,\"#46039f\"],[0.2222222222222222,\"#7201a8\"],[0.3333333333333333,\"#9c179e\"],[0.4444444444444444,\"#bd3786\"],[0.5555555555555556,\"#d8576b\"],[0.6666666666666666,\"#ed7953\"],[0.7777777777777778,\"#fb9f3a\"],[0.8888888888888888,\"#fdca26\"],[1.0,\"#f0f921\"]]}],\"contourcarpet\":[{\"type\":\"contourcarpet\",\"colorbar\":{\"outlinewidth\":0,\"ticks\":\"\"}}],\"contour\":[{\"type\":\"contour\",\"colorbar\":{\"outlinewidth\":0,\"ticks\":\"\"},\"colorscale\":[[0.0,\"#0d0887\"],[0.1111111111111111,\"#46039f\"],[0.2222222222222222,\"#7201a8\"],[0.3333333333333333,\"#9c179e\"],[0.4444444444444444,\"#bd3786\"],[0.5555555555555556,\"#d8576b\"],[0.6666666666666666,\"#ed7953\"],[0.7777777777777778,\"#fb9f3a\"],[0.8888888888888888,\"#fdca26\"],[1.0,\"#f0f921\"]]}],\"surface\":[{\"type\":\"surface\",\"colorbar\":{\"outlinewidth\":0,\"ticks\":\"\"},\"colorscale\":[[0.0,\"#0d0887\"],[0.1111111111111111,\"#46039f\"],[0.2222222222222222,\"#7201a8\"],[0.3333333333333333,\"#9c179e\"],[0.4444444444444444,\"#bd3786\"],[0.5555555555555556,\"#d8576b\"],[0.6666666666666666,\"#ed7953\"],[0.7777777777777778,\"#fb9f3a\"],[0.8888888888888888,\"#fdca26\"],[1.0,\"#f0f921\"]]}],\"mesh3d\":[{\"type\":\"mesh3d\",\"colorbar\":{\"outlinewidth\":0,\"ticks\":\"\"}}],\"scatter\":[{\"fillpattern\":{\"fillmode\":\"overlay\",\"size\":10,\"solidity\":0.2},\"type\":\"scatter\"}],\"parcoords\":[{\"type\":\"parcoords\",\"line\":{\"colorbar\":{\"outlinewidth\":0,\"ticks\":\"\"}}}],\"scatterpolargl\":[{\"type\":\"scatterpolargl\",\"marker\":{\"colorbar\":{\"outlinewidth\":0,\"ticks\":\"\"}}}],\"bar\":[{\"error_x\":{\"color\":\"#2a3f5f\"},\"error_y\":{\"color\":\"#2a3f5f\"},\"marker\":{\"line\":{\"color\":\"#E5ECF6\",\"width\":0.5},\"pattern\":{\"fillmode\":\"overlay\",\"size\":10,\"solidity\":0.2}},\"type\":\"bar\"}],\"scattergeo\":[{\"type\":\"scattergeo\",\"marker\":{\"colorbar\":{\"outlinewidth\":0,\"ticks\":\"\"}}}],\"scatterpolar\":[{\"type\":\"scatterpolar\",\"marker\":{\"colorbar\":{\"outlinewidth\":0,\"ticks\":\"\"}}}],\"histogram\":[{\"marker\":{\"pattern\":{\"fillmode\":\"overlay\",\"size\":10,\"solidity\":0.2}},\"type\":\"histogram\"}],\"scattergl\":[{\"type\":\"scattergl\",\"marker\":{\"colorbar\":{\"outlinewidth\":0,\"ticks\":\"\"}}}],\"scatter3d\":[{\"type\":\"scatter3d\",\"line\":{\"colorbar\":{\"outlinewidth\":0,\"ticks\":\"\"}},\"marker\":{\"colorbar\":{\"outlinewidth\":0,\"ticks\":\"\"}}}],\"scattermapbox\":[{\"type\":\"scattermapbox\",\"marker\":{\"colorbar\":{\"outlinewidth\":0,\"ticks\":\"\"}}}],\"scatterternary\":[{\"type\":\"scatterternary\",\"marker\":{\"colorbar\":{\"outlinewidth\":0,\"ticks\":\"\"}}}],\"scattercarpet\":[{\"type\":\"scattercarpet\",\"marker\":{\"colorbar\":{\"outlinewidth\":0,\"ticks\":\"\"}}}],\"carpet\":[{\"aaxis\":{\"endlinecolor\":\"#2a3f5f\",\"gridcolor\":\"white\",\"linecolor\":\"white\",\"minorgridcolor\":\"white\",\"startlinecolor\":\"#2a3f5f\"},\"baxis\":{\"endlinecolor\":\"#2a3f5f\",\"gridcolor\":\"white\",\"linecolor\":\"white\",\"minorgridcolor\":\"white\",\"startlinecolor\":\"#2a3f5f\"},\"type\":\"carpet\"}],\"table\":[{\"cells\":{\"fill\":{\"color\":\"#EBF0F8\"},\"line\":{\"color\":\"white\"}},\"header\":{\"fill\":{\"color\":\"#C8D4E3\"},\"line\":{\"color\":\"white\"}},\"type\":\"table\"}],\"barpolar\":[{\"marker\":{\"line\":{\"color\":\"#E5ECF6\",\"width\":0.5},\"pattern\":{\"fillmode\":\"overlay\",\"size\":10,\"solidity\":0.2}},\"type\":\"barpolar\"}],\"pie\":[{\"automargin\":true,\"type\":\"pie\"}]},\"layout\":{\"autotypenumbers\":\"strict\",\"colorway\":[\"#636efa\",\"#EF553B\",\"#00cc96\",\"#ab63fa\",\"#FFA15A\",\"#19d3f3\",\"#FF6692\",\"#B6E880\",\"#FF97FF\",\"#FECB52\"],\"font\":{\"color\":\"#2a3f5f\"},\"hovermode\":\"closest\",\"hoverlabel\":{\"align\":\"left\"},\"paper_bgcolor\":\"white\",\"plot_bgcolor\":\"#E5ECF6\",\"polar\":{\"bgcolor\":\"#E5ECF6\",\"angularaxis\":{\"gridcolor\":\"white\",\"linecolor\":\"white\",\"ticks\":\"\"},\"radialaxis\":{\"gridcolor\":\"white\",\"linecolor\":\"white\",\"ticks\":\"\"}},\"ternary\":{\"bgcolor\":\"#E5ECF6\",\"aaxis\":{\"gridcolor\":\"white\",\"linecolor\":\"white\",\"ticks\":\"\"},\"baxis\":{\"gridcolor\":\"white\",\"linecolor\":\"white\",\"ticks\":\"\"},\"caxis\":{\"gridcolor\":\"white\",\"linecolor\":\"white\",\"ticks\":\"\"}},\"coloraxis\":{\"colorbar\":{\"outlinewidth\":0,\"ticks\":\"\"}},\"colorscale\":{\"sequential\":[[0.0,\"#0d0887\"],[0.1111111111111111,\"#46039f\"],[0.2222222222222222,\"#7201a8\"],[0.3333333333333333,\"#9c179e\"],[0.4444444444444444,\"#bd3786\"],[0.5555555555555556,\"#d8576b\"],[0.6666666666666666,\"#ed7953\"],[0.7777777777777778,\"#fb9f3a\"],[0.8888888888888888,\"#fdca26\"],[1.0,\"#f0f921\"]],\"sequentialminus\":[[0.0,\"#0d0887\"],[0.1111111111111111,\"#46039f\"],[0.2222222222222222,\"#7201a8\"],[0.3333333333333333,\"#9c179e\"],[0.4444444444444444,\"#bd3786\"],[0.5555555555555556,\"#d8576b\"],[0.6666666666666666,\"#ed7953\"],[0.7777777777777778,\"#fb9f3a\"],[0.8888888888888888,\"#fdca26\"],[1.0,\"#f0f921\"]],\"diverging\":[[0,\"#8e0152\"],[0.1,\"#c51b7d\"],[0.2,\"#de77ae\"],[0.3,\"#f1b6da\"],[0.4,\"#fde0ef\"],[0.5,\"#f7f7f7\"],[0.6,\"#e6f5d0\"],[0.7,\"#b8e186\"],[0.8,\"#7fbc41\"],[0.9,\"#4d9221\"],[1,\"#276419\"]]},\"xaxis\":{\"gridcolor\":\"white\",\"linecolor\":\"white\",\"ticks\":\"\",\"title\":{\"standoff\":15},\"zerolinecolor\":\"white\",\"automargin\":true,\"zerolinewidth\":2},\"yaxis\":{\"gridcolor\":\"white\",\"linecolor\":\"white\",\"ticks\":\"\",\"title\":{\"standoff\":15},\"zerolinecolor\":\"white\",\"automargin\":true,\"zerolinewidth\":2},\"scene\":{\"xaxis\":{\"backgroundcolor\":\"#E5ECF6\",\"gridcolor\":\"white\",\"linecolor\":\"white\",\"showbackground\":true,\"ticks\":\"\",\"zerolinecolor\":\"white\",\"gridwidth\":2},\"yaxis\":{\"backgroundcolor\":\"#E5ECF6\",\"gridcolor\":\"white\",\"linecolor\":\"white\",\"showbackground\":true,\"ticks\":\"\",\"zerolinecolor\":\"white\",\"gridwidth\":2},\"zaxis\":{\"backgroundcolor\":\"#E5ECF6\",\"gridcolor\":\"white\",\"linecolor\":\"white\",\"showbackground\":true,\"ticks\":\"\",\"zerolinecolor\":\"white\",\"gridwidth\":2}},\"shapedefaults\":{\"line\":{\"color\":\"#2a3f5f\"}},\"annotationdefaults\":{\"arrowcolor\":\"#2a3f5f\",\"arrowhead\":0,\"arrowwidth\":1},\"geo\":{\"bgcolor\":\"white\",\"landcolor\":\"#E5ECF6\",\"subunitcolor\":\"white\",\"showland\":true,\"showlakes\":true,\"lakecolor\":\"white\"},\"title\":{\"x\":0.05},\"mapbox\":{\"style\":\"light\"}}},\"xaxis\":{\"anchor\":\"y\",\"domain\":[0.0,1.0],\"title\":{\"text\":\"Fruits\"}},\"yaxis\":{\"anchor\":\"x\",\"domain\":[0.0,1.0],\"title\":{\"text\":\"Quantity\"}},\"legend\":{\"tracegroupgap\":0},\"title\":{\"text\":\"Fruit Quantity Bar Plot\"},\"barmode\":\"relative\"},                        {\"responsive\": true}                    ).then(function(){\n",
              "                            \n",
              "var gd = document.getElementById('99b64589-3476-4546-bacb-32ed28c131c8');\n",
              "var x = new MutationObserver(function (mutations, observer) {{\n",
              "        var display = window.getComputedStyle(gd).display;\n",
              "        if (!display || display === 'none') {{\n",
              "            console.log([gd, 'removed!']);\n",
              "            Plotly.purge(gd);\n",
              "            observer.disconnect();\n",
              "        }}\n",
              "}});\n",
              "\n",
              "// Listen for the removal of the full notebook cells\n",
              "var notebookContainer = gd.closest('#notebook-container');\n",
              "if (notebookContainer) {{\n",
              "    x.observe(notebookContainer, {childList: true});\n",
              "}}\n",
              "\n",
              "// Listen for the clearing of the current output cell\n",
              "var outputEl = gd.closest('.output');\n",
              "if (outputEl) {{\n",
              "    x.observe(outputEl, {childList: true});\n",
              "}}\n",
              "\n",
              "                        })                };                            </script>        </div>\n",
              "</body>\n",
              "</html>"
            ]
          },
          "metadata": {}
        }
      ]
    },
    {
      "cell_type": "code",
      "source": [
        "# 6. Create a DataFrame and add a new column based on an existing column\n",
        "\n",
        "import pandas as pd\n",
        "\n",
        "\n",
        "data = {\n",
        "    'A': [1, 2, 3, 4],\n",
        "    'B': [10, 20, 30, 40]\n",
        "}\n",
        "df = pd.DataFrame(data)\n",
        "\n",
        "df['C'] = df['A'] * 2\n",
        "\n",
        "print(df)\n",
        "\n"
      ],
      "metadata": {
        "colab": {
          "base_uri": "https://localhost:8080/"
        },
        "id": "tMuybYqQTjt_",
        "outputId": "b863d92b-a183-4b2c-c956-dca1747ddd93"
      },
      "execution_count": 11,
      "outputs": [
        {
          "output_type": "stream",
          "name": "stdout",
          "text": [
            "   A   B  C\n",
            "0  1  10  2\n",
            "1  2  20  4\n",
            "2  3  30  6\n",
            "3  4  40  8\n"
          ]
        }
      ]
    },
    {
      "cell_type": "code",
      "source": [
        "# 7.  Write a program to perform element-wise multiplication of two NumPy arrays\n",
        "import numpy as np\n",
        "\n",
        "\n",
        "arr1 = np.array([1, 2, 3, 4])\n",
        "arr2 = np.array([5, 6, 7, 8])\n",
        "\n",
        "result = arr1 * arr2\n",
        "\n",
        "print(result)\n"
      ],
      "metadata": {
        "colab": {
          "base_uri": "https://localhost:8080/"
        },
        "id": "Kyfwn1mDTkvB",
        "outputId": "ff46e55c-5da3-444b-f53c-52bc75114d26"
      },
      "execution_count": 12,
      "outputs": [
        {
          "output_type": "stream",
          "name": "stdout",
          "text": [
            "[ 5 12 21 32]\n"
          ]
        }
      ]
    },
    {
      "cell_type": "code",
      "source": [
        "# 8.  Create a line plot with multiple lines using Matplotlib\n",
        "\n",
        "\n",
        "import matplotlib.pyplot as plt\n",
        "\n",
        "x = [1, 2, 3, 4, 5]\n",
        "y1 = [10, 12, 14, 16, 18]\n",
        "y2 = [5, 7, 9, 11, 13]\n",
        "\n",
        "\n",
        "plt.plot(x, y1, label='Line 1', marker='o')\n",
        "plt.plot(x, y2, label='Line 2', marker='s')\n",
        "\n",
        "\n",
        "plt.title('Multiple Line Plot')\n",
        "plt.xlabel('X-axis')\n",
        "plt.ylabel('Y-axis')\n",
        "\n",
        "\n",
        "plt.legend()\n",
        "\n",
        "plt.show()\n"
      ],
      "metadata": {
        "colab": {
          "base_uri": "https://localhost:8080/",
          "height": 472
        },
        "id": "ZmeDXgNPU4aH",
        "outputId": "7864f14b-c403-4fc4-e0ae-23f5ae5ad9c3"
      },
      "execution_count": 13,
      "outputs": [
        {
          "output_type": "display_data",
          "data": {
            "text/plain": [
              "<Figure size 640x480 with 1 Axes>"
            ],
            "image/png": "[encoded data removed]"
          },
          "metadata": {}
        }
      ]
    },
    {
      "cell_type": "code",
      "source": [
        "# 9.  Generate a Pandas DataFrame and filter rows where a column value is greater than a threshold\n",
        "\n",
        "import pandas as pd\n",
        "\n",
        "\n",
        "data = {\n",
        "    'A': [10, 20, 30, 40, 50],\n",
        "    'B': [5, 15, 25, 35, 45]\n",
        "}\n",
        "df = pd.DataFrame(data)\n",
        "\n",
        "\n",
        "threshold = 25\n",
        "\n",
        "filtered_df = df[df['A'] > threshold]\n",
        "\n",
        "print(filtered_df)\n",
        "\n",
        "\n"
      ],
      "metadata": {
        "colab": {
          "base_uri": "https://localhost:8080/"
        },
        "id": "naH9QXnDU4vr",
        "outputId": "2528c36d-d7bd-45d0-c1e7-0144c297d0c8"
      },
      "execution_count": 14,
      "outputs": [
        {
          "output_type": "stream",
          "name": "stdout",
          "text": [
            "    A   B\n",
            "2  30  25\n",
            "3  40  35\n",
            "4  50  45\n"
          ]
        }
      ]
    },
    {
      "cell_type": "code",
      "source": [
        "# 10.  Create a histogram using Seaborn to visualize a distribution\n",
        "\n",
        "import seaborn as sns\n",
        "import matplotlib.pyplot as plt\n",
        "\n",
        "\n",
        "data = [12, 15, 14, 10, 18, 20, 21, 23, 19, 15, 16, 14, 13, 15, 17]\n",
        "\n",
        "sns.histplot(data, bins=5, kde=False)\n",
        "\n",
        "plt.title('Histogram of Data Distribution')\n",
        "plt.xlabel('Value')\n",
        "plt.ylabel('Frequency')\n",
        "\n",
        "plt.show()\n"
      ],
      "metadata": {
        "colab": {
          "base_uri": "https://localhost:8080/",
          "height": 472
        },
        "id": "4RYwx9dnU47g",
        "outputId": "e81ffe2f-bd8a-4381-aed0-a273b0797469"
      },
      "execution_count": 15,
      "outputs": [
        {
          "output_type": "display_data",
          "data": {
            "text/plain": [
              "<Figure size 640x480 with 1 Axes>"
            ],
            "image/png": "[encoded data removed]"
          },
          "metadata": {}
        }
      ]
    },
    {
      "cell_type": "code",
      "source": [
        "# 11.  Perform matrix multiplication using NumPy\n",
        "\n",
        "import numpy as np\n",
        "\n",
        "A = np.array([[1, 2],\n",
        "              [3, 4]])\n",
        "\n",
        "B = np.array([[5, 6],\n",
        "              [7, 8]])\n",
        "\n",
        "result = np.matmul(A, B)\n",
        "\n",
        "\n",
        "\n",
        "print(result)\n"
      ],
      "metadata": {
        "colab": {
          "base_uri": "https://localhost:8080/"
        },
        "id": "CZ3aML_AU5Hr",
        "outputId": "ba469425-df09-4dc6-80c6-e83f8e46d706"
      },
      "execution_count": 16,
      "outputs": [
        {
          "output_type": "stream",
          "name": "stdout",
          "text": [
            "[[19 22]\n",
            " [43 50]]\n"
          ]
        }
      ]
    },
    {
      "cell_type": "code",
      "source": [
        "# 12.  Use Pandas to load a CSV file and display its first 5 rows\n",
        "\n",
        "import pandas as pd\n",
        "\n",
        "# Load CSV file into a DataFrame\n",
        "df = pd.read_csv('filename.csv')\n",
        "\n",
        "# Display the first 5 rows\n",
        "print(df.head())\n"
      ],
      "metadata": {
        "id": "zCJr6T4DU5S0"
      },
      "execution_count": 19,
      "outputs": []
    },
    {
      "cell_type": "code",
      "source": [
        "# 13.  Create a 3D scatter plot using Plotly.\n",
        "\n",
        "import plotly.graph_objects as go\n",
        "\n",
        "x = [1, 2, 3, 4, 5]\n",
        "y = [5, 6, 7, 8, 9]\n",
        "z = [10, 11, 12, 13, 14]\n",
        "\n",
        "fig = go.Figure(data=[go.Scatter3d(\n",
        "    x=x,\n",
        "    y=y,\n",
        "    z=z,\n",
        "    mode='markers',\n",
        "    marker=dict(\n",
        "        size=8,\n",
        "        color=z,\n",
        "        colorscale='Viridis',\n",
        "        opacity=0.8\n",
        "    )\n",
        ")])\n",
        "\n",
        "\n",
        "fig.update_layout(\n",
        "    title='3D Scatter Plot',\n",
        "    scene=dict(\n",
        "        xaxis_title='X Axis',\n",
        "        yaxis_title='Y Axis',\n",
        "        zaxis_title='Z Axis'\n",
        "    )\n",
        ")\n",
        "\n",
        "fig.show()\n",
        "\n"
      ],
      "metadata": {
        "colab": {
          "base_uri": "https://localhost:8080/",
          "height": 542
        },
        "id": "JVzVoAH-Wxiw",
        "outputId": "2949352e-06c3-4970-e074-65d87bdac5ca"
      },
      "execution_count": 20,
      "outputs": [
        {
          "output_type": "display_data",
          "data": {
            "text/html": [
              "<html>\n",
              "<head><meta charset=\"utf-8\" /></head>\n",
              "<body>\n",
              "    <div>            <script src=\"https://cdnjs.cloudflare.com/ajax/libs/mathjax/2.7.5/MathJax.js?config=TeX-AMS-MML_SVG\"></script><script type=\"text/javascript\">if (window.MathJax && window.MathJax.Hub && window.MathJax.Hub.Config) {window.MathJax.Hub.Config({SVG: {font: \"STIX-Web\"}});}</script>                <script type=\"text/javascript\">window.PlotlyConfig = {MathJaxConfig: 'local'};</script>\n",
              "        <script charset=\"utf-8\" src=\"https://cdn.plot.ly/plotly-2.35.2.min.js\"></script>                <div id=\"8cb0fb4e-5b63-4619-aac0-32ed2ff0aff8\" class=\"plotly-graph-div\" style=\"height:525px; width:100%;\"></div>            <script type=\"text/javascript\">                                    window.PLOTLYENV=window.PLOTLYENV || {};                                    if (document.getElementById(\"8cb0fb4e-5b63-4619-aac0-32ed2ff0aff8\")) {                    Plotly.newPlot(                        \"8cb0fb4e-5b63-4619-aac0-32ed2ff0aff8\",                        [{\"marker\":{\"color\":[10,11,12,13,14],\"colorscale\":[[0.0,\"#440154\"],[0.1111111111111111,\"#482878\"],[0.2222222222222222,\"#3e4989\"],[0.3333333333333333,\"#31688e\"],[0.4444444444444444,\"#26828e\"],[0.5555555555555556,\"#1f9e89\"],[0.6666666666666666,\"#35b779\"],[0.7777777777777778,\"#6ece58\"],[0.8888888888888888,\"#b5de2b\"],[1.0,\"#fde725\"]],\"opacity\":0.8,\"size\":8},\"mode\":\"markers\",\"x\":[1,2,3,4,5],\"y\":[5,6,7,8,9],\"z\":[10,11,12,13,14],\"type\":\"scatter3d\"}],                        {\"template\":{\"data\":{\"histogram2dcontour\":[{\"type\":\"histogram2dcontour\",\"colorbar\":{\"outlinewidth\":0,\"ticks\":\"\"},\"colorscale\":[[0.0,\"#0d0887\"],[0.1111111111111111,\"#46039f\"],[0.2222222222222222,\"#7201a8\"],[0.3333333333333333,\"#9c179e\"],[0.4444444444444444,\"#bd3786\"],[0.5555555555555556,\"#d8576b\"],[0.6666666666666666,\"#ed7953\"],[0.7777777777777778,\"#fb9f3a\"],[0.8888888888888888,\"#fdca26\"],[1.0,\"#f0f921\"]]}],\"choropleth\":[{\"type\":\"choropleth\",\"colorbar\":{\"outlinewidth\":0,\"ticks\":\"\"}}],\"histogram2d\":[{\"type\":\"histogram2d\",\"colorbar\":{\"outlinewidth\":0,\"ticks\":\"\"},\"colorscale\":[[0.0,\"#0d0887\"],[0.1111111111111111,\"#46039f\"],[0.2222222222222222,\"#7201a8\"],[0.3333333333333333,\"#9c179e\"],[0.4444444444444444,\"#bd3786\"],[0.5555555555555556,\"#d8576b\"],[0.6666666666666666,\"#ed7953\"],[0.7777777777777778,\"#fb9f3a\"],[0.8888888888888888,\"#fdca26\"],[1.0,\"#f0f921\"]]}],\"heatmap\":[{\"type\":\"heatmap\",\"colorbar\":{\"outlinewidth\":0,\"ticks\":\"\"},\"colorscale\":[[0.0,\"#0d0887\"],[0.1111111111111111,\"#46039f\"],[0.2222222222222222,\"#7201a8\"],[0.3333333333333333,\"#9c179e\"],[0.4444444444444444,\"#bd3786\"],[0.5555555555555556,\"#d8576b\"],[0.6666666666666666,\"#ed7953\"],[0.7777777777777778,\"#fb9f3a\"],[0.8888888888888888,\"#fdca26\"],[1.0,\"#f0f921\"]]}],\"heatmapgl\":[{\"type\":\"heatmapgl\",\"colorbar\":{\"outlinewidth\":0,\"ticks\":\"\"},\"colorscale\":[[0.0,\"#0d0887\"],[0.1111111111111111,\"#46039f\"],[0.2222222222222222,\"#7201a8\"],[0.3333333333333333,\"#9c179e\"],[0.4444444444444444,\"#bd3786\"],[0.5555555555555556,\"#d8576b\"],[0.6666666666666666,\"#ed7953\"],[0.7777777777777778,\"#fb9f3a\"],[0.8888888888888888,\"#fdca26\"],[1.0,\"#f0f921\"]]}],\"contourcarpet\":[{\"type\":\"contourcarpet\",\"colorbar\":{\"outlinewidth\":0,\"ticks\":\"\"}}],\"contour\":[{\"type\":\"contour\",\"colorbar\":{\"outlinewidth\":0,\"ticks\":\"\"},\"colorscale\":[[0.0,\"#0d0887\"],[0.1111111111111111,\"#46039f\"],[0.2222222222222222,\"#7201a8\"],[0.3333333333333333,\"#9c179e\"],[0.4444444444444444,\"#bd3786\"],[0.5555555555555556,\"#d8576b\"],[0.6666666666666666,\"#ed7953\"],[0.7777777777777778,\"#fb9f3a\"],[0.8888888888888888,\"#fdca26\"],[1.0,\"#f0f921\"]]}],\"surface\":[{\"type\":\"surface\",\"colorbar\":{\"outlinewidth\":0,\"ticks\":\"\"},\"colorscale\":[[0.0,\"#0d0887\"],[0.1111111111111111,\"#46039f\"],[0.2222222222222222,\"#7201a8\"],[0.3333333333333333,\"#9c179e\"],[0.4444444444444444,\"#bd3786\"],[0.5555555555555556,\"#d8576b\"],[0.6666666666666666,\"#ed7953\"],[0.7777777777777778,\"#fb9f3a\"],[0.8888888888888888,\"#fdca26\"],[1.0,\"#f0f921\"]]}],\"mesh3d\":[{\"type\":\"mesh3d\",\"colorbar\":{\"outlinewidth\":0,\"ticks\":\"\"}}],\"scatter\":[{\"fillpattern\":{\"fillmode\":\"overlay\",\"size\":10,\"solidity\":0.2},\"type\":\"scatter\"}],\"parcoords\":[{\"type\":\"parcoords\",\"line\":{\"colorbar\":{\"outlinewidth\":0,\"ticks\":\"\"}}}],\"scatterpolargl\":[{\"type\":\"scatterpolargl\",\"marker\":{\"colorbar\":{\"outlinewidth\":0,\"ticks\":\"\"}}}],\"bar\":[{\"error_x\":{\"color\":\"#2a3f5f\"},\"error_y\":{\"color\":\"#2a3f5f\"},\"marker\":{\"line\":{\"color\":\"#E5ECF6\",\"width\":0.5},\"pattern\":{\"fillmode\":\"overlay\",\"size\":10,\"solidity\":0.2}},\"type\":\"bar\"}],\"scattergeo\":[{\"type\":\"scattergeo\",\"marker\":{\"colorbar\":{\"outlinewidth\":0,\"ticks\":\"\"}}}],\"scatterpolar\":[{\"type\":\"scatterpolar\",\"marker\":{\"colorbar\":{\"outlinewidth\":0,\"ticks\":\"\"}}}],\"histogram\":[{\"marker\":{\"pattern\":{\"fillmode\":\"overlay\",\"size\":10,\"solidity\":0.2}},\"type\":\"histogram\"}],\"scattergl\":[{\"type\":\"scattergl\",\"marker\":{\"colorbar\":{\"outlinewidth\":0,\"ticks\":\"\"}}}],\"scatter3d\":[{\"type\":\"scatter3d\",\"line\":{\"colorbar\":{\"outlinewidth\":0,\"ticks\":\"\"}},\"marker\":{\"colorbar\":{\"outlinewidth\":0,\"ticks\":\"\"}}}],\"scattermapbox\":[{\"type\":\"scattermapbox\",\"marker\":{\"colorbar\":{\"outlinewidth\":0,\"ticks\":\"\"}}}],\"scatterternary\":[{\"type\":\"scatterternary\",\"marker\":{\"colorbar\":{\"outlinewidth\":0,\"ticks\":\"\"}}}],\"scattercarpet\":[{\"type\":\"scattercarpet\",\"marker\":{\"colorbar\":{\"outlinewidth\":0,\"ticks\":\"\"}}}],\"carpet\":[{\"aaxis\":{\"endlinecolor\":\"#2a3f5f\",\"gridcolor\":\"white\",\"linecolor\":\"white\",\"minorgridcolor\":\"white\",\"startlinecolor\":\"#2a3f5f\"},\"baxis\":{\"endlinecolor\":\"#2a3f5f\",\"gridcolor\":\"white\",\"linecolor\":\"white\",\"minorgridcolor\":\"white\",\"startlinecolor\":\"#2a3f5f\"},\"type\":\"carpet\"}],\"table\":[{\"cells\":{\"fill\":{\"color\":\"#EBF0F8\"},\"line\":{\"color\":\"white\"}},\"header\":{\"fill\":{\"color\":\"#C8D4E3\"},\"line\":{\"color\":\"white\"}},\"type\":\"table\"}],\"barpolar\":[{\"marker\":{\"line\":{\"color\":\"#E5ECF6\",\"width\":0.5},\"pattern\":{\"fillmode\":\"overlay\",\"size\":10,\"solidity\":0.2}},\"type\":\"barpolar\"}],\"pie\":[{\"automargin\":true,\"type\":\"pie\"}]},\"layout\":{\"autotypenumbers\":\"strict\",\"colorway\":[\"#636efa\",\"#EF553B\",\"#00cc96\",\"#ab63fa\",\"#FFA15A\",\"#19d3f3\",\"#FF6692\",\"#B6E880\",\"#FF97FF\",\"#FECB52\"],\"font\":{\"color\":\"#2a3f5f\"},\"hovermode\":\"closest\",\"hoverlabel\":{\"align\":\"left\"},\"paper_bgcolor\":\"white\",\"plot_bgcolor\":\"#E5ECF6\",\"polar\":{\"bgcolor\":\"#E5ECF6\",\"angularaxis\":{\"gridcolor\":\"white\",\"linecolor\":\"white\",\"ticks\":\"\"},\"radialaxis\":{\"gridcolor\":\"white\",\"linecolor\":\"white\",\"ticks\":\"\"}},\"ternary\":{\"bgcolor\":\"#E5ECF6\",\"aaxis\":{\"gridcolor\":\"white\",\"linecolor\":\"white\",\"ticks\":\"\"},\"baxis\":{\"gridcolor\":\"white\",\"linecolor\":\"white\",\"ticks\":\"\"},\"caxis\":{\"gridcolor\":\"white\",\"linecolor\":\"white\",\"ticks\":\"\"}},\"coloraxis\":{\"colorbar\":{\"outlinewidth\":0,\"ticks\":\"\"}},\"colorscale\":{\"sequential\":[[0.0,\"#0d0887\"],[0.1111111111111111,\"#46039f\"],[0.2222222222222222,\"#7201a8\"],[0.3333333333333333,\"#9c179e\"],[0.4444444444444444,\"#bd3786\"],[0.5555555555555556,\"#d8576b\"],[0.6666666666666666,\"#ed7953\"],[0.7777777777777778,\"#fb9f3a\"],[0.8888888888888888,\"#fdca26\"],[1.0,\"#f0f921\"]],\"sequentialminus\":[[0.0,\"#0d0887\"],[0.1111111111111111,\"#46039f\"],[0.2222222222222222,\"#7201a8\"],[0.3333333333333333,\"#9c179e\"],[0.4444444444444444,\"#bd3786\"],[0.5555555555555556,\"#d8576b\"],[0.6666666666666666,\"#ed7953\"],[0.7777777777777778,\"#fb9f3a\"],[0.8888888888888888,\"#fdca26\"],[1.0,\"#f0f921\"]],\"diverging\":[[0,\"#8e0152\"],[0.1,\"#c51b7d\"],[0.2,\"#de77ae\"],[0.3,\"#f1b6da\"],[0.4,\"#fde0ef\"],[0.5,\"#f7f7f7\"],[0.6,\"#e6f5d0\"],[0.7,\"#b8e186\"],[0.8,\"#7fbc41\"],[0.9,\"#4d9221\"],[1,\"#276419\"]]},\"xaxis\":{\"gridcolor\":\"white\",\"linecolor\":\"white\",\"ticks\":\"\",\"title\":{\"standoff\":15},\"zerolinecolor\":\"white\",\"automargin\":true,\"zerolinewidth\":2},\"yaxis\":{\"gridcolor\":\"white\",\"linecolor\":\"white\",\"ticks\":\"\",\"title\":{\"standoff\":15},\"zerolinecolor\":\"white\",\"automargin\":true,\"zerolinewidth\":2},\"scene\":{\"xaxis\":{\"backgroundcolor\":\"#E5ECF6\",\"gridcolor\":\"white\",\"linecolor\":\"white\",\"showbackground\":true,\"ticks\":\"\",\"zerolinecolor\":\"white\",\"gridwidth\":2},\"yaxis\":{\"backgroundcolor\":\"#E5ECF6\",\"gridcolor\":\"white\",\"linecolor\":\"white\",\"showbackground\":true,\"ticks\":\"\",\"zerolinecolor\":\"white\",\"gridwidth\":2},\"zaxis\":{\"backgroundcolor\":\"#E5ECF6\",\"gridcolor\":\"white\",\"linecolor\":\"white\",\"showbackground\":true,\"ticks\":\"\",\"zerolinecolor\":\"white\",\"gridwidth\":2}},\"shapedefaults\":{\"line\":{\"color\":\"#2a3f5f\"}},\"annotationdefaults\":{\"arrowcolor\":\"#2a3f5f\",\"arrowhead\":0,\"arrowwidth\":1},\"geo\":{\"bgcolor\":\"white\",\"landcolor\":\"#E5ECF6\",\"subunitcolor\":\"white\",\"showland\":true,\"showlakes\":true,\"lakecolor\":\"white\"},\"title\":{\"x\":0.05},\"mapbox\":{\"style\":\"light\"}}},\"title\":{\"text\":\"3D Scatter Plot\"},\"scene\":{\"xaxis\":{\"title\":{\"text\":\"X Axis\"}},\"yaxis\":{\"title\":{\"text\":\"Y Axis\"}},\"zaxis\":{\"title\":{\"text\":\"Z Axis\"}}}},                        {\"responsive\": true}                    ).then(function(){\n",
              "                            \n",
              "var gd = document.getElementById('8cb0fb4e-5b63-4619-aac0-32ed2ff0aff8');\n",
              "var x = new MutationObserver(function (mutations, observer) {{\n",
              "        var display = window.getComputedStyle(gd).display;\n",
              "        if (!display || display === 'none') {{\n",
              "            console.log([gd, 'removed!']);\n",
              "            Plotly.purge(gd);\n",
              "            observer.disconnect();\n",
              "        }}\n",
              "}});\n",
              "\n",
              "// Listen for the removal of the full notebook cells\n",
              "var notebookContainer = gd.closest('#notebook-container');\n",
              "if (notebookContainer) {{\n",
              "    x.observe(notebookContainer, {childList: true});\n",
              "}}\n",
              "\n",
              "// Listen for the clearing of the current output cell\n",
              "var outputEl = gd.closest('.output');\n",
              "if (outputEl) {{\n",
              "    x.observe(outputEl, {childList: true});\n",
              "}}\n",
              "\n",
              "                        })                };                            </script>        </div>\n",
              "</body>\n",
              "</html>"
            ]
          },
          "metadata": {}
        }
      ]
    }
  ]
}