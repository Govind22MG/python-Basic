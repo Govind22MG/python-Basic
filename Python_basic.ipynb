{
  "nbformat": 4,
  "nbformat_minor": 0,
  "metadata": {
    "colab": {
      "provenance": []
    },
    "kernelspec": {
      "name": "python3",
      "display_name": "Python 3"
    },
    "language_info": {
      "name": "python"
    }
  },
  "cells": [
    {
      "cell_type": "markdown",
      "source": [
        "PYTHON BASIC\n"
      ],
      "metadata": {
        "id": "i2h2htSoD5go"
      }
    },
    {
      "cell_type": "markdown",
      "source": [
        "1. What is Python, and why is it popular?\n",
        "   \n",
        "   - Python is a high-level, interpreted programming language that is used to\n",
        "  create software, websites, and even to analyze data. it is an object Oriented language\n",
        "\n",
        "  Python is popular because it makes coding simple, powerful, and accessible to everyone.\n",
        "  -Easy to Learn and Use\n",
        "  -Large Standard Library\n",
        "  -Open Source\n",
        "  -Community support\n",
        "\n",
        "\n",
        "\n",
        "\n",
        "\n",
        "\n",
        "\n",
        "\n"
      ],
      "metadata": {
        "id": "LgE0w9b0wTd-"
      }
    },
    {
      "cell_type": "markdown",
      "source": [
        "2. What is an interpreter in Python?\n",
        "   * Interpreter in python is  computer program that will convert the high level\n",
        "   language into machine level language. It work as translator. interpreter in Python is a program that reads and runs Python code line by line. This process is called Interpretation\n",
        "\n"
      ],
      "metadata": {
        "id": "3HPQaQxB0H0I"
      }
    },
    {
      "cell_type": "markdown",
      "source": [
        "3.What are pre-defined keywords in Python?\n",
        "  -  Pre-defined keywords in Python are special words that have a fixed meaning in the language.\n",
        "\n",
        "  You cannot use them as variable or function names.\n",
        "\n",
        "  They help define the structure and rules of Python programs.\n",
        "  \n",
        "  example:if,else, for, while etc."
      ],
      "metadata": {
        "id": "JD-KTvLr2NiY"
      }
    },
    {
      "cell_type": "markdown",
      "source": [
        "4.Can keywords be used as variable names?\n",
        "  -  No, keywords cannot be used as variable names in Python.\n",
        "\n",
        "  Because keywords have special meanings in Python. keywords are predefine in python language\n",
        "\n",
        "  If you try to use a keyword as a variable name, Python will show an error\n"
      ],
      "metadata": {
        "id": "lBPOtzUO6TcA"
      }
    },
    {
      "cell_type": "markdown",
      "source": [
        "5.What is mutability in Python?\n",
        "  -  Mutability in Python means whether a value can be changed after it created.\n",
        "\n",
        "  lists, dictionaries, and sets are mutable\n",
        "\n",
        "   For example, you can add, remove, or change items in it."
      ],
      "metadata": {
        "id": "P_4YH_099f6u"
      }
    },
    {
      "cell_type": "markdown",
      "source": [
        "6. Why are lists mutable, but tuples are immutable?\n",
        "  -  Mutable: Objects can be changed after creation.\n",
        "\n",
        "     Immutable: Objects cannot be changed after creation.\n",
        "\n",
        "\n",
        "\n",
        "  list are mutable because,  Lists are created for storing of items that may change over time, such as a  grocery  list. in which we can add remove items.\n",
        "\n",
        "\n",
        " Tuples are immutable because they are meant to store fixed data that should not be changed.\n",
        "\n",
        "  tuples are immutable because of saftey reason data not be changed once created example like their name, age, and roll number of student this data should not change.\n",
        "\n",
        "\n"
      ],
      "metadata": {
        "id": "-LCr6Gxo-_0X"
      }
    },
    {
      "cell_type": "markdown",
      "source": [
        "7. What is the difference between “==” and “is” operators in Python?\n",
        "\n",
        "\n",
        "  - \" ==\" and \"is\" both  are comparison operators in Python, but they are used for different purposes.\n",
        "\n",
        " == → Equality Operator\n",
        "\n",
        " -  Checks if the values are equal.\n",
        "\n",
        " -  It compares the contents of two variables.\n",
        "\n",
        "    example-  \n",
        "    \n",
        "              a = [2, 1, 2]\n",
        "\n",
        "              b = [2, 1, 2]\n",
        "\n",
        "              print(a == b)\n",
        "              \n",
        "               values are the same\n",
        "\n",
        "\n",
        "\n",
        "   is → Identity Operator\n",
        "\n",
        "\n",
        "-  Checks if both variables point to the same object (same memory location).\n",
        "\n",
        "-  It compares the identity, not just the value.\n",
        "\n",
        " example-\n",
        "\n",
        " print(a is b)\n",
        "\n",
        "\n",
        "\n",
        "\n"
      ],
      "metadata": {
        "id": "5Ok7qo6iDx4i"
      }
    },
    {
      "cell_type": "markdown",
      "source": [
        "8.  What are logical operators in Python?\n",
        "-  Logical operators in Python are used to combine or compare two or more conditions\n",
        "\n",
        "python has 3 logical operators are-\n",
        "  and, or, not.\n",
        "  \n",
        "\n",
        "  and operator checks  all conditions are true\n",
        "\n",
        "  or operator checks at least one condition should true\n",
        "\n",
        "  not operator is used to reverse a condition: if  condition is true makes it false and vise-versa\n",
        "  "
      ],
      "metadata": {
        "id": "0aIo00P8GzF0"
      }
    },
    {
      "cell_type": "markdown",
      "source": [
        "9.  What is type casting in Python?\n",
        "\n",
        "-  type casting in Python means converting one data type to another.\n",
        "\n",
        "\n",
        "   For example, converting a number into a string, or a string into a number.\n",
        "\n",
        "   #string to integer\n",
        "\n",
        "       a = \"10\"\n",
        "      print(type(a))\n",
        "      print(type(int(a)))\n"
      ],
      "metadata": {
        "id": "Eb5BJLxXIzJY"
      }
    },
    {
      "cell_type": "markdown",
      "source": [
        "10. What is the difference between implicit and explicit type casting?\n",
        "\n",
        "-  implicit typecasting  python understand the datatype,\n",
        "a = 1\n",
        "b=2.5\n",
        "c=a+b\n",
        "print(c)\n",
        "output =3.5\n",
        "\n",
        "-  convert data type using inbuilt functiond>> int,str, float, bool\n",
        "\n",
        "  user tell Python to change the data type using functions like int(), float(), or str().\n",
        "\n",
        "  \n"
      ],
      "metadata": {
        "id": "W0mi8rmHQiwR"
      }
    },
    {
      "cell_type": "markdown",
      "source": [
        "11. What is the purpose of conditional statements in Python?\n",
        "-  Conditional statements let your program make decisions based on certain conditions.\n",
        " if condition is true run a this block of code and if condition is false run another block of code  \n",
        "\n",
        " ex- i will play cricket when the rain is stop\n",
        "\n",
        "  condition statement in python are\n",
        "\n",
        "if\n",
        "\n",
        "if else\n",
        "\n",
        "elseif\n",
        "\n",
        "nested if else"
      ],
      "metadata": {
        "id": "buVxIsoQSteA"
      }
    },
    {
      "cell_type": "markdown",
      "source": [
        " 12.How does the elif statement work\n",
        "\n",
        " -  in elif statement it check multiple conditions\n",
        "\n",
        "\n",
        " syntax:- if condition1:\n",
        "\n",
        "    statement1\n",
        "\n",
        "elif condition2:\n",
        "\n",
        "    statement2\n",
        "\n",
        "elif condition3:\n",
        "\n",
        "    statement3\n",
        "\n",
        "else:\n",
        "    statement4\n",
        "\n",
        "\n",
        "\n",
        "\n",
        "we can have multiple condition between if and else\n",
        "\n",
        " first it check first condition if it true  run the block of code if the condition is false it check elif condition.\n",
        "\n",
        "\n",
        " if all the condition are false then it run the else condition\n",
        "\n",
        "\n",
        "\n",
        "\n"
      ],
      "metadata": {
        "id": "cqF07so2WWRd"
      }
    },
    {
      "cell_type": "markdown",
      "source": [
        "13. What is the difference between for and while loops\n",
        "\n",
        "-  for loop = When you know how many times to repeat\n",
        "\n",
        "  Repeats  the item or number in a range\n",
        "\n",
        "\n",
        "for i in range(3):\n",
        "\n",
        "   print(\"Hello\")\n",
        "   \n",
        "\n",
        "\n",
        "-  while loop = When you don’t know how many times to repeat\n",
        "\n",
        "   when you want to run until a condition becomes false\n",
        "\n",
        "\n",
        "   count = 0\n",
        "\n",
        "while count < 3:\n",
        "\n",
        "   print(\"Hello\")\n",
        "\n",
        "   count += 1\n",
        "\n",
        "\n"
      ],
      "metadata": {
        "id": "zdR4IONnYXv7"
      }
    },
    {
      "cell_type": "markdown",
      "source": [
        "14. Describe a scenario where a while loop is more suitable than a for loop.\n",
        "\n",
        "\n",
        "-  A while loop is more suitable than  for loop when you don't know in advance how many times the loop needs to run—especially when you want to repeat an action until a specific condition becomes true or false.\n",
        "\n",
        "\n",
        "ex- Logging in with correct email address\n",
        "  \n",
        "  It keeps asking the user to enter their email.\n",
        "\n",
        "If the email is not correct, the loop runs again.\n",
        "\n",
        "Once the email is correct it prints a message and stops the loop .\n",
        "\n",
        "we dont know  how many attempts user will type correct email address in that condition we use while loop, it runs the condition until user not type correct email.\n",
        "\n",
        "\n"
      ],
      "metadata": {
        "id": "m1rbjs7PZ7a0"
      }
    },
    {
      "cell_type": "markdown",
      "source": [],
      "metadata": {
        "id": "rj0Ih1zPXcDK"
      }
    },
    {
      "cell_type": "markdown",
      "source": [
        "==========PRACTICAL QUESTIONS===============\n"
      ],
      "metadata": {
        "id": "HvzjCiJbcvS8"
      }
    },
    {
      "cell_type": "code",
      "source": [
        "# 1. Write a Python program to print \"Hello, World!\n",
        "\n",
        "\n",
        "print(\"Hello, World!\")\n"
      ],
      "metadata": {
        "colab": {
          "base_uri": "https://localhost:8080/"
        },
        "id": "2q_pTHC3c4mT",
        "outputId": "db560b9d-7feb-46fd-ec98-f7a9d646fdf7"
      },
      "execution_count": 1,
      "outputs": [
        {
          "output_type": "stream",
          "name": "stdout",
          "text": [
            "Hello, World!\n"
          ]
        }
      ]
    },
    {
      "cell_type": "code",
      "source": [
        "# 2. Write a Python program that displays your name and age\n",
        "\n",
        "\n",
        "name = \"Govind\"\n",
        "age = 22\n",
        "\n",
        "print(\"My name is\", name)\n",
        "print(\"I am\", age, \"years old\")\n"
      ],
      "metadata": {
        "colab": {
          "base_uri": "https://localhost:8080/"
        },
        "id": "y9pH9OVxdMjq",
        "outputId": "626ef200-b529-4d58-9cfc-e1e6eeb31341"
      },
      "execution_count": 2,
      "outputs": [
        {
          "output_type": "stream",
          "name": "stdout",
          "text": [
            "My name is Govind\n",
            "I am 22 years old\n"
          ]
        }
      ]
    },
    {
      "cell_type": "code",
      "source": [
        "# 3.  Write code to print all the pre-defined keywords in Python using the keyword library\n",
        "\n",
        "help('keywords')\n"
      ],
      "metadata": {
        "colab": {
          "base_uri": "https://localhost:8080/"
        },
        "id": "3MubZpoSd89G",
        "outputId": "06c22989-7d43-4ac3-9643-de1c100ff9e6"
      },
      "execution_count": 3,
      "outputs": [
        {
          "output_type": "stream",
          "name": "stdout",
          "text": [
            "\n",
            "Here is a list of the Python keywords.  Enter any keyword to get more help.\n",
            "\n",
            "False               class               from                or\n",
            "None                continue            global              pass\n",
            "True                def                 if                  raise\n",
            "and                 del                 import              return\n",
            "as                  elif                in                  try\n",
            "assert              else                is                  while\n",
            "async               except              lambda              with\n",
            "await               finally             nonlocal            yield\n",
            "break               for                 not                 \n",
            "\n"
          ]
        }
      ]
    },
    {
      "cell_type": "code",
      "source": [
        "# 4.  Write a program that checks if a given word is a Python keyword.\n",
        "\n",
        "\n",
        "import keyword\n",
        "\n",
        "word = input(\"Enter a word: \")\n",
        "\n",
        "if keyword.iskeyword(word):\n",
        "    print(f\"'{word}' is a Python keyword.\")\n",
        "else:\n",
        "    print(f\"'{word}' is NOT a Python keyword.\")\n"
      ],
      "metadata": {
        "colab": {
          "base_uri": "https://localhost:8080/"
        },
        "id": "EvsqAM-teyQg",
        "outputId": "1080babe-8098-44a6-b09f-2741db1c96c8"
      },
      "execution_count": 6,
      "outputs": [
        {
          "output_type": "stream",
          "name": "stdout",
          "text": [
            "Enter a word: class\n",
            "'class' is a Python keyword.\n"
          ]
        }
      ]
    },
    {
      "cell_type": "code",
      "source": [
        "# 5.  Create a list and tuple in Python, and demonstrate how attempting to change an element works differently for each.\n",
        "\n",
        "\"\"\"  list  is mutable and tuple are immutable they works diffrently \"\"\"\n",
        "\n",
        "my_list = [1, 2, 3]\n",
        "my_list[1] = 45\n",
        "print( my_list)\n",
        "\n",
        "\n",
        "\n",
        "my_tuple = (1, 2, 3)\n",
        "#my_tuple[1] = 45  # This line will cause an error, tupple in immutable\n",
        "print( my_tuple)"
      ],
      "metadata": {
        "colab": {
          "base_uri": "https://localhost:8080/"
        },
        "id": "RCJ5gniLfazn",
        "outputId": "ce5791bc-848a-423a-fafa-885ddce0ba04"
      },
      "execution_count": 12,
      "outputs": [
        {
          "output_type": "stream",
          "name": "stdout",
          "text": [
            "[1, 45, 3]\n",
            "(1, 2, 3)\n"
          ]
        }
      ]
    },
    {
      "cell_type": "code",
      "source": [
        "#  6. Write a function to demonstrate the behavior of mutable and immutable arguments.\n",
        "\n",
        "a = 3# int is immutable\n",
        "\n",
        "\n",
        "b = [4,5,6] # Mutable argument (list)\n",
        "\n",
        "x = a\n",
        "y = b\n",
        "\n",
        "x = x + 1\n",
        "y[0] = y[0] + 1\n",
        "\n",
        "print( a)\n",
        "print( b)\n"
      ],
      "metadata": {
        "colab": {
          "base_uri": "https://localhost:8080/"
        },
        "id": "qLSoj6HBhEEx",
        "outputId": "03652de5-c879-4f38-e7ef-de5402bfd82e"
      },
      "execution_count": 20,
      "outputs": [
        {
          "output_type": "stream",
          "name": "stdout",
          "text": [
            "3\n",
            "[5, 5, 6]\n"
          ]
        }
      ]
    },
    {
      "cell_type": "code",
      "source": [
        "# 7. Write a program that performs basic arithmetic operations on two user-input numbers.\n",
        "\n",
        "# area of rectangle\n",
        "length = float(input(\"Enter the length : \"))\n",
        "breadth = float(input(\"Enter the breadth : \"))\n",
        "\n",
        "area = length * breadth\n",
        "\n",
        "\n",
        "print(\"Area of the rectangle is:\", area)\n"
      ],
      "metadata": {
        "colab": {
          "base_uri": "https://localhost:8080/"
        },
        "id": "y7LegShDjaDn",
        "outputId": "0238e22d-3962-43d5-9184-3cf622a71eb4"
      },
      "execution_count": 30,
      "outputs": [
        {
          "output_type": "stream",
          "name": "stdout",
          "text": [
            "Enter the length : 2\n",
            "Enter the breadth : 2\n",
            "Area of the rectangle is: 4.0\n"
          ]
        }
      ]
    },
    {
      "cell_type": "code",
      "source": [
        "#  8. Write a program to demonstrate the use of logical operators.\n",
        "\n",
        "a = 22\n",
        "b = 12\n",
        "c = 44\n",
        "\n",
        "\n",
        "print(\"a > b and a < c:\", a > b and a < c)   #and\n",
        "\n",
        "print(\"a > b or a > c:\", a > b or a > c) #or\n",
        "\n",
        "\n",
        "print(\"not(a > b):\", not(a > b))       #not\n"
      ],
      "metadata": {
        "colab": {
          "base_uri": "https://localhost:8080/"
        },
        "id": "jBPyS0oXlsAw",
        "outputId": "6c5e386f-ba55-4b22-d7d9-de2990b2609f"
      },
      "execution_count": 38,
      "outputs": [
        {
          "output_type": "stream",
          "name": "stdout",
          "text": [
            "a > b and a < c: True\n",
            "a > b or a > c: True\n",
            "not(a > b): False\n"
          ]
        }
      ]
    },
    {
      "cell_type": "code",
      "source": [
        "#  9. Write a Python program to convert user input from string to integer, float, and boolean types.\n",
        "user_input = input(\"Enter a value: \")\n",
        "\n",
        "# Convert to integer\n",
        "int_value = int(user_input)\n",
        "print(\"Integer:\", int_value)\n",
        "\n",
        "# Convert to float\n",
        "float_value = float(user_input)\n",
        "print(\"Float:\", float_value)\n",
        "\n",
        "# Convert to boolean\n",
        "bool_value = bool(user_input)\n",
        "print(\"Boolean:\", bool_value)\n",
        "\n"
      ],
      "metadata": {
        "colab": {
          "base_uri": "https://localhost:8080/"
        },
        "id": "BEJO902PmhF6",
        "outputId": "72bdf330-9da9-4d6d-bd4e-45e5c1e6888f"
      },
      "execution_count": 39,
      "outputs": [
        {
          "output_type": "stream",
          "name": "stdout",
          "text": [
            "Enter a value: 2\n",
            "Integer: 2\n",
            "Float: 2.0\n",
            "Boolean: True\n"
          ]
        }
      ]
    },
    {
      "cell_type": "code",
      "source": [
        "#  10. Write code to demonstrate type casting with list elements.\n",
        "\n",
        "# string list\n",
        "str_list = ['1', '2', '3', '4']\n",
        "\n",
        "# Convert string to integer\n",
        "int_list = [int(x) for x in str_list]\n",
        "\n",
        "print(\"Original list (strings):\", str_list)\n",
        "print(\"Converted list (integers):\", int_list)\n"
      ],
      "metadata": {
        "colab": {
          "base_uri": "https://localhost:8080/"
        },
        "id": "xYC-g2URnHuI",
        "outputId": "558acef9-d903-47fa-df24-e1a6bbf94e8d"
      },
      "execution_count": 41,
      "outputs": [
        {
          "output_type": "stream",
          "name": "stdout",
          "text": [
            "Original list (strings): ['1', '2', '3', '4']\n",
            "Converted list (integers): [1, 2, 3, 4]\n"
          ]
        }
      ]
    },
    {
      "cell_type": "code",
      "source": [
        "#  11. Write a program that checks if a number is positive, negative, or zero.\n",
        "\n",
        "number = float(input(\"Enter a number: \"))\n",
        "\n",
        "if number > 0:\n",
        "    print(\"The number is positive.\")\n",
        "elif number < 0:\n",
        "    print(\"The number is negative.\")\n",
        "else:\n",
        "    print(\"The number is zero.\")"
      ],
      "metadata": {
        "colab": {
          "base_uri": "https://localhost:8080/"
        },
        "id": "3xkEIDiPn9VN",
        "outputId": "58c6b64a-fec5-4f04-806b-278f8c671d2e"
      },
      "execution_count": 42,
      "outputs": [
        {
          "output_type": "stream",
          "name": "stdout",
          "text": [
            "Enter a number: 2\n",
            "The number is positive.\n"
          ]
        }
      ]
    },
    {
      "cell_type": "code",
      "source": [
        "#  12. Write a for loop to print numbers from 1 to 10.\n",
        "num = int(input(\"Enter the number : \"))\n",
        "for i in range(1,11,1):\n",
        "    print(i*num)\n",
        "\n"
      ],
      "metadata": {
        "colab": {
          "base_uri": "https://localhost:8080/"
        },
        "id": "SSdUPZp5oN9-",
        "outputId": "6d569b13-624a-4a88-b8c9-829c76e3db3a"
      },
      "execution_count": 46,
      "outputs": [
        {
          "output_type": "stream",
          "name": "stdout",
          "text": [
            "Enter the number : 2\n",
            "2\n",
            "4\n",
            "6\n",
            "8\n",
            "10\n",
            "12\n",
            "14\n",
            "16\n",
            "18\n",
            "20\n"
          ]
        }
      ]
    },
    {
      "cell_type": "code",
      "source": [
        "#  13. Write a Python program to find the sum of all even numbers between 1 and 50.\n",
        "\n",
        "sum= 0\n",
        "\n",
        "for i in range(1, 51):\n",
        "    if i % 2 == 0:\n",
        "        sum += i\n",
        "\n",
        "print(\"Sum of even numbers from 1 to 50 is:\", sum)\n"
      ],
      "metadata": {
        "colab": {
          "base_uri": "https://localhost:8080/"
        },
        "id": "cgHyNbRpQLDN",
        "outputId": "e4a8d862-41d4-416a-935c-4baf951b6f84"
      },
      "execution_count": 1,
      "outputs": [
        {
          "output_type": "stream",
          "name": "stdout",
          "text": [
            "Sum of even numbers from 1 to 50 is: 650\n"
          ]
        }
      ]
    },
    {
      "cell_type": "code",
      "source": [
        "# 14. Write a program to reverse a string using a while loop.\n",
        "\n",
        "text = input(\"Enter a string: \")\n",
        "reversed_text = \"\"\n",
        "\n",
        "i = len(text) - 1\n",
        "\n",
        "while i >= 0:\n",
        "    reversed_text += text[i]\n",
        "    i -= 1\n",
        "\n",
        "print(\"Reversed string:\", reversed_text)\n"
      ],
      "metadata": {
        "colab": {
          "base_uri": "https://localhost:8080/"
        },
        "id": "6DM_Usg9Qhde",
        "outputId": "7128ccd6-bea3-4de9-8a41-c58c5cfe898b"
      },
      "execution_count": 2,
      "outputs": [
        {
          "output_type": "stream",
          "name": "stdout",
          "text": [
            "Enter a string: Merlin\n",
            "Reversed string: nilreM\n"
          ]
        }
      ]
    },
    {
      "cell_type": "code",
      "source": [
        "#  15. Write a Python program to calculate the factorial of a number provided by the user using a while loop.\n",
        "\n",
        "num = int(input(\"Enter a number: \"))\n",
        "factorial = 1\n",
        "i = 1\n",
        "\n",
        "while i <= num:\n",
        "    factorial *= i\n",
        "    i += 1\n",
        "\n",
        "print(\"Factorial of\", num, \"is:\", factorial)\n"
      ],
      "metadata": {
        "colab": {
          "base_uri": "https://localhost:8080/"
        },
        "id": "mdYHkSrXQ6bb",
        "outputId": "58c95726-d586-4f89-a8dc-a0c83105d19a"
      },
      "execution_count": 4,
      "outputs": [
        {
          "output_type": "stream",
          "name": "stdout",
          "text": [
            "Enter a number: 10\n",
            "Factorial of 10 is: 3628800\n"
          ]
        }
      ]
    }
  ]
}